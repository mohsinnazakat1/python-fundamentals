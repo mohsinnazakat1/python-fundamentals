{
 "cells": [
  {
   "cell_type": "markdown",
   "metadata": {},
   "source": [
    "# Table of Content:\n",
    "<b>=============================\n",
    "* [1. What is Python?](#1)\n",
    "    * [1.1 History:](#1.1)\n",
    "    * [1.2 Present:](#1.2)\n",
    "    * [1.3 Future:](#1.3)\n",
    "    * [1.4 Strengths of python:](#1.4)\n",
    "    * [1.5 Weaknesses of python:](#1.5)\n",
    "    * [1.6 Suitablity of python:](#1.6)\n",
    "    * [1.7 Structure of python:](#1.7)\n",
    "    * [1.8 Sample code in python:](#1.8)\n",
    "* [2. DataTypes in python](#2)\n",
    "    * [2.1 Strings](#2.1)\n",
    "    * [2.2 Numeric Data Types](#2.2)\n",
    "        * [2.2.1 Int Datatype](#int)\n",
    "        * [2.2.2 Float Datatype](#float)\n",
    "        * [2.2.3 Complex Datatype](#complex)\n",
    "    * [2.3 Sequence Data Types](#2.3)\n",
    "        * [2.3.1 List](#2.3.1)\n",
    "        * [2.3.2 Tupple](#2.3.2)\n",
    "    * [2.4 Dictionary](#2.4)\n",
    "    * [2.5 Set](#2.5)\n",
    "    * [2.6 Boolean](#2.6)\n",
    "* [3. Comparison Operators](#3)\n",
    "* [4. if-else Statement](#4)\n",
    "    * [4.1 elif](#4.1)\n",
    "* [5. Loops](#5)\n",
    "    * [5.1 For Loop](#5.1)\n",
    "    * [5.2 While Loop](#5.2)\n",
    "* [6. Functions](#6)\n",
    "    * [6.1 Built-in Functions](#6.1)\n",
    "    * [6.2 User Define Functions](#6.2)\n",
    "* [7. Lambda Functions](#7)\n",
    "    * [7.1 Map()](#7.1)\n",
    "    * [7.2 Filter()](#7.2)\n",
    "    * [7.3 Reduce()](#7.3)\n",
    "* [8. File I/O](#8)\n",
    "    * [8.1 From Buffer](#8.1)\n",
    "    * [8.2 From Text File](#8.2)\n",
    "    * [8.3 Postioning](#8.3)\n",
    "* [9. Introduction to Pandas](#9)\n",
    "    * [9.1 History](#9.1)\n",
    "    * [9.2 Features](#9.1)\n",
    "    * [9.3 Purpose](#9.3)\n",
    "* [10. Series in Pandas](#10)\n",
    "    * [10.1  Defination](#10.1)\n",
    "    * [10.2  Creating series from dict](#10.2)\n",
    "    * [10.3  Creating series from ndarray](#10.3)\n",
    "    * [10.4  Creating series from scaler values](#10.4)\n",
    "    * [10.5  Accessing Series](#10.5)\n",
    "    * [10.6  Performing operations on series](#10.6)\n",
    "    * [10.7  Vectorized operations on series](#10.7)\n",
    "    * [10.8  Naming of series](#10.8)\n",
    "* [11. DataFrame in Pandas](#11)\n",
    "    * [11.1 Defination ](#11.1)\n",
    "    * [11.2 Creating DataFrame from List](#11.2)\n",
    "    * [11.3 From dict of series](#11.3)\n",
    "    * [11.4 From dict of ndarrays / lists](#11.4)\n",
    "    * [11.5 From a list of dicts](#11.5)\n",
    "    * [11.6 From a dict of tuples ](#11.6)\n",
    "    * [11.7 Column selection, addition, deletion](#11.7)\n",
    "    * [11.8 Indexing / Selection](#11.8)\n",
    "    * [11.9 Data alignment and arithmetic](#11.9)\n",
    "    * [11.10 Boolean Operators ](#11.10)\n",
    "    * [11.11 Transposing](#11.11)\n",
    "    \n",
    "* [12. Viewing Data in Pandas](#12)\n",
    "    * [12.1 Head of Data](#12.1)\n",
    "    * [12.2 tail of Data](#12.2)\n",
    "    * [12.3 Display Index](#12.3)\n",
    "    * [12.4 Display Column](#12.4)\n",
    "    * [12.5 Printing Values](#12.5)\n",
    "    * [12.6 Sorting by axis](#12.6)\n",
    "    * [12.7 Sorting by values](#12.7)\n",
    "    * [12.8 Describing DataFrame](#12.8)\n",
    "    * [12.9 Selecting a Column](#12.9)\n",
    "    * [12.10 Slicing](#12.10)\n",
    "\n",
    "\n",
    "       \n",
    "    \n",
    "    \n",
    "    \n",
    "\n",
    "    \n"
   ]
  },
  {
   "cell_type": "markdown",
   "metadata": {},
   "source": [
    "# 1. What is Python? <a id=\"1\"></a>\n",
    "<b>===============================\n",
    "\n",
    "**Python is a well-known programming language widely adopted by\n",
    "<font color= \"red\"> <i>Programmers</i> </font>,\n",
    "<font color= \"red\"> <i>Data Scientists</i> </font>,\n",
    "<font color= \"red\"> <i>ML(Machine Learning)</i> </font> and\n",
    "<font color= \"red\"> <i>AI(Artificial Intelligence) Engineers</i> </font>,\n",
    "these days. It is an interpreted high level language in which we can implement the concepts of object oriented programing as well. It is easy to learn and easy to implement language. Python supports modularity of the code which increase reusability of the code. Python has a large active community which is way there are thousands of <font color= \"red\"> <i>open source libraries</i> </font> for python are avaible on the internet to facilitate the coders. As there is no compilation in python so debugging of code is comparitively easy here.**\n",
    "\n",
    "## 1.1 History: <a id=\"1.1\"></a>\n",
    "<b>==============\n",
    "\n",
    "**The project python was found in 1980s and in around 1989 <font color= \"red\"> <i>Guido Van Rossum</i> </font> started implementing it. Later on in 1991 published the very first code with version (0.9.0). With the passage of time a lot of version was released but the revolutionary one was <font color= \"red\"> <i>python 3.0</i> </font> (released on December 3, 2008). This was the moment when python start getting fame and adoption in the world of computer science**\n",
    "\n",
    "## 1.2 Present: <a id=\"1.2\"></a>\n",
    "<b>=================\n",
    "\n",
    "**At this time, the latest version of <a href=\"https://www.python.org/downloads/\">python</a> is (3.9.2). Currently python is widely being used in:**\n",
    "\n",
    "- <font color= \"red\"> <i><b>Machine Learning</b></i> </font>\n",
    "- <font color= \"red\"> <i><b>Deep Learning</b></i> </font>\n",
    "- <font color= \"red\"> <i><b>Artificial Inteligence</b></i> </font>\n",
    "- <font color= \"red\"> <i><b>Natural Language Processing</b></i> </font>\n",
    "- <font color= \"red\"> <i><b>Web Development</b></i> </font>\n",
    "- <font color= \"red\"> <i><b>Data Analysis and Processing</b></i> </font>\n",
    "- <font color= \"red\"> <i><b>Big Data</b></i> </font>\n",
    "- <font color= \"red\"> <i><b>Cloud Computing</b></i> </font>\n",
    "- <font color= \"red\"> <i><b>Game Development</b></i> </font>\n",
    "\n",
    "**So we can say that among all programing languages python has the largest scope of implementation**\n",
    "\n",
    "## 1.3 Future: <a class=\"anchor\" id=\"1.3\"></a>\n",
    "<b>===============\n",
    "    \n",
    "**As we know the that future of Computer Science is strongly couppled with AI and ML and python has a great significance for both thsee domains so we can deduct that the <font color= \"red\"> <b> <i>Python is the language of future </b></i> </font>. If we observe the <a href=https://cdn.statcdn.com/Infographic/images/normal/21017.jpeg>Statistics</a> of based on google searches we'll find out that the python is at the top and its popularity is increasing at the rate of 4.1% every year.**\n",
    "\n",
    "## 1.4 Strengths of python: <a id=\"1.4\"></a>\n",
    "<b>================================\n",
    "- <font color= \"red\"> <i><b>Simplicity:</b></i> </font> **The syntax of python is simple and it is quite easy for developers to switch on it.**\n",
    "- <font color= \"red\"> <i><b>Supports Multiple Programming Paradigms:</b></i> </font> **It has full support of object oriented and structured programing.**\n",
    "- <font color= \"red\"> <i><b>Liberaries:</b></i> </font> **A large no of robust standard libararies are avaible for python.**\n",
    "- <font color= \"red\"> <i><b>Open source frameworks and tools :</b></i> </font> **we have different tools avaiable for different needs. e.g. Django, Flask and etc.**\n",
    "\n",
    "## 1.5 Weaknesses of python: <a id=\"1.5\"></a>\n",
    "<b>==================================\n",
    "- <font color= \"red\"> <i><b>Speed:</b></i> </font> **As python is an interpreter so it is compartively slower than C and C++ which use compilers as translators.**\n",
    "- <font color= \"red\"> <i><b>Inter version incompatibility:</b></i> </font> **Devlepers might face problem if some of the module are written in python 2.0 and others are in python 3.0**\n",
    "- <font color= \"red\"> <i><b>Under developed database access layer:</b></i> </font> **Database access layer of python is not as good as JDBC(Java Database Connectivity) and ODBC(Open Database Connectivity). It is underdeveloped and not often used at enterprise level**\n",
    "- <font color= \"red\"> <i><b>Not native to mobile :</b></i> </font> **When it comes to mobiles python is not a good choice for development as it is not native to mobile environment. Neither Android nor iOS supports python as an official programing language for mobile development.**\n",
    "\n",
    "## 1.6 Suitablity of python: <a id=\"1.6\"></a>\n",
    "<b>==================================\n",
    "\n",
    "\n",
    "**Talking about the current era the scale of suitablity of python is huge. you can use it for**\n",
    "- <font color= \"red\"> <i><b>Web Development</b></i> </font>\n",
    "- <font color= \"red\"> <i><b>Game Development</b></i> </font>\n",
    "- <font color= \"red\"> <i><b>Machine Learning and Artificial Intelligence</b></i> </font>\n",
    "- <font color= \"red\"> <i><b>Data Science and Data Visualization</b></i> </font>\n",
    "- <font color= \"red\"> <i><b>Desktop GUI</b></i> </font>\n",
    "- <font color= \"red\"> <i><b>Web Scraping Applications</b></i> </font>\n",
    "- <font color= \"red\"> <i><b>Business Applications</b></i> </font>\n",
    "- <font color= \"red\"> <i><b>Audio and Video Applications</b></i> </font>\n",
    "- <font color= \"red\"> <i><b>CAD Applications</b></i> </font>\n",
    "- <font color= \"red\"> <i><b>Embedded Applications</b></i> </font>\n",
    "\n",
    "\n",
    "## 1.7 Structure of python: <a id=\"1.7\"></a>\n",
    "<b>===================================\n",
    "    \n",
    "**Python is an interpreted language and the structure of python code is simpler than many other programming languages. It uses the concepts of indentation which makes the code written in python highly maitainable and readable**\n",
    "\n",
    "## 1.8 Sample code in python: <a id=\"1.8\"></a>\n",
    "<b>====================================\n",
    "    \n"
   ]
  },
  {
   "cell_type": "code",
   "execution_count": 787,
   "metadata": {},
   "outputs": [
    {
     "name": "stdout",
     "output_type": "stream",
     "text": [
      "Output:\n",
      "The number is odd\n"
     ]
    }
   ],
   "source": [
    "#here's the code check even and odd in python\n",
    "a=1\n",
    "print(\"Output:\")\n",
    "if(a%2):\n",
    "    print(\"The number is odd\")\n",
    "else:\n",
    "    print(\"The number is even\")\n"
   ]
  },
  {
   "cell_type": "markdown",
   "metadata": {},
   "source": [
    "\n",
    "\n",
    "# 2. DataTypes in Python: <a id=\"2\"></a>\n",
    "<b>=====================================\n",
    "\n",
    "**Unlike other programming languages in python we do not mention the datatypes before declaring a variable it rather is defined when we assign value to it on the basis of the value which is being assigned. It could be a string, int, float, complex, boolean, tuple and etc.**\n",
    "\n",
    "## 2.1 Strings: <a id=\"2.1\"></a>\n",
    "<b>===============\n",
    "\n",
    "### Defination:\n",
    "<b>============\n",
    "    \n",
    "**In python strings are the datatypes which contains <font color= \"red\"> <i><b>text</b></i> </font>  elclosed by either ' '(single qoutes) or \" \"(double quotes).**\n",
    "\n",
    "### Purpose:\n",
    "<b>=========\n",
    "\n",
    "**The purpose of string is simply to store text type data. A string could consist of single charecter like \"a\" and many charecters like \"apple\". Besides a string might be without spaces like \"mohsin\" and it might contains blank spaces as well like \"mohsin is a student\"**\n",
    "    \n",
    "### Importance:\n",
    "<b>=============\n",
    "\n",
    "**String is an important datatype because it allows us to store text in simplest possible manner. If we don't have strings dealing with textual data would be quite tricky.**\n",
    "    \n",
    "### Application:\n",
    "<b>=============\n",
    "    \n",
    "**we use strings when we need to:**\n",
    "* <font color= \"red\"> <i><b>Send textual data to program </b></i> </font>\n",
    "* <font color= \"red\"> <i><b>Recive textual data from program and display to user.</b></i> </font>\n",
    "    \n",
    "### Strength:\n",
    "<b>=============\n",
    "    \n",
    "**In Python strings are actually arrays of bytes you can access a particular byte using [index].**\n",
    "    \n",
    "### Weakness:\n",
    "<b>=============\n",
    "    \n",
    "**In python if we have a sigle charecter we have to make a string for that like charecter=\"a\" as python do not have any datatype dealing with single charecters.**\n"
   ]
  },
  {
   "cell_type": "markdown",
   "metadata": {},
   "source": [
    "### Example 1 Defining strings: \n",
    "<b>==============================\n",
    "    \n",
    "#### Code:"
   ]
  },
  {
   "cell_type": "code",
   "execution_count": 788,
   "metadata": {},
   "outputs": [
    {
     "name": "stdout",
     "output_type": "stream",
     "text": [
      "Output:\n",
      "Mohsin\n"
     ]
    }
   ],
   "source": [
    "name=\"Mohsin\"\n",
    "print(\"Output:\")\n",
    "print(name)"
   ]
  },
  {
   "cell_type": "markdown",
   "metadata": {},
   "source": [
    "### Example 2 Concatinating strings:\n",
    "<b>====================================\n",
    "    \n",
    "#### Code:"
   ]
  },
  {
   "cell_type": "code",
   "execution_count": 789,
   "metadata": {},
   "outputs": [
    {
     "name": "stdout",
     "output_type": "stream",
     "text": [
      "Output:\n",
      "hello world\n"
     ]
    }
   ],
   "source": [
    "word1=\"hello\"\n",
    "word2=\"world\"\n",
    "sentence= word1+\" \"+word2\n",
    "print(\"Output:\")\n",
    "print(sentence)"
   ]
  },
  {
   "cell_type": "markdown",
   "metadata": {},
   "source": [
    "### Example 3 Spliting the strings:\n",
    "<b>==================================\n",
    "#### Code:"
   ]
  },
  {
   "cell_type": "code",
   "execution_count": 790,
   "metadata": {},
   "outputs": [
    {
     "name": "stdout",
     "output_type": "stream",
     "text": [
      "Output:\n",
      "['Pakistan', 'is', 'my', 'homeland']\n"
     ]
    }
   ],
   "source": [
    "sentence= \"Pakistan is my homeland\"\n",
    "print(\"Output:\")\n",
    "print(sentence.split(\" \")) \n",
    "#splitting the whole sentence into substrings after every blank space"
   ]
  },
  {
   "cell_type": "markdown",
   "metadata": {},
   "source": [
    "### Example 4 Slicing strings:\n",
    "<b>===============================\n",
    "    \n",
    "#### Code:"
   ]
  },
  {
   "cell_type": "code",
   "execution_count": 791,
   "metadata": {},
   "outputs": [
    {
     "name": "stdout",
     "output_type": "stream",
     "text": [
      "Output:\n",
      "Pak\n"
     ]
    }
   ],
   "source": [
    "sentence= \"Pakistan Zindabad\"\n",
    "print(\"Output:\")\n",
    "print(sentence[0:3])"
   ]
  },
  {
   "cell_type": "markdown",
   "metadata": {},
   "source": [
    "### Example 5 Insert numbers into strings:\n",
    "<b>==========================================\n",
    "    \n",
    "####Code:"
   ]
  },
  {
   "cell_type": "code",
   "execution_count": 792,
   "metadata": {},
   "outputs": [
    {
     "name": "stdout",
     "output_type": "stream",
     "text": [
      "Output:\n",
      "the amount in your bank is 500\n"
     ]
    }
   ],
   "source": [
    "amount=500\n",
    "print(\"Output:\")\n",
    "print(f\"the amount in your bank is {amount}\")"
   ]
  },
  {
   "cell_type": "markdown",
   "metadata": {},
   "source": [
    "### Example 6 Replacing the strings:\n",
    "<b>====================================\n",
    "    \n",
    "####Code:"
   ]
  },
  {
   "cell_type": "code",
   "execution_count": 793,
   "metadata": {},
   "outputs": [
    {
     "name": "stdout",
     "output_type": "stream",
     "text": [
      "Output:\n",
      "Hello world\n"
     ]
    }
   ],
   "source": [
    "sentence= \"hello world\"\n",
    "print(\"Output:\")\n",
    "print(sentence.replace(\"h\",\"H\"))"
   ]
  },
  {
   "cell_type": "markdown",
   "metadata": {},
   "source": [
    "\n",
    "## 2.2 Numeric Data Types: <a id=\"2.2\"></a>\n",
    "<b>================================\n",
    "\n",
    "\n",
    "### Defination:\n",
    "<b>============\n",
    "    \n",
    "<b>In Python we have 3 types of numeric datatypes \n",
    "- <font color= \"red\"> <i><b>int:</b></i> </font> deals with integers (negative and positive)\n",
    "- <font color= \"red\"> <i><b>float:</b></i> </font> deals with floating numbers (negative and positive) \n",
    "- <font color= \"red\"> <i><b>complex:</b></i> </font> deals with imagnary/complex numbers</b>\n",
    "<b>\n",
    "\n",
    "### Purpose:\n",
    "<b>==========\n",
    "\n",
    "**Purpose of having 3 different numeric datatypes in python we need to deal with differnt natures of numeric data and it is not possible for us to deal with all those data using a single type**\n",
    "    \n",
    "### Importance:\n",
    "<b>============\n",
    "    \n",
    "**These datatypes are important as numbers plays a big role in life and while developing most of solutions for a problem related to real life numbers are involved in it as foundational blocks.**\n",
    "    \n",
    "### Application:\n",
    "<b>============\n",
    "    \n",
    "**We use numeric datatypes when we are dealing with calculations and it makes scope of these datatypes quite huge as calculations are involved everywhere.**\n",
    "\n",
    "    \n",
    "### Strength:\n",
    "<b>============\n",
    "    \n",
    "<b> Here are few plus points about Numeric datatypes in python:\n",
    "* In int type we can have (positive and negative) numbers of ulimited length.  \n",
    "* We can deal with scientfic notation numbers using float type.\n",
    "* We have a separate data type \"complex\" for dealing with imaginary numbers.   \n",
    "* These numeric datatypes are inter convertable, means that you can change int to float and vice versa.</b>    \n",
    "    \n",
    "    \n",
    "### Weakness:\n",
    "<b>============\n",
    "    \n",
    "**As python is dynamically-typed language the others could get confused when reading your code.**\n",
    "    \n",
    "    \n",
    "\n",
    "### Example 1: Class of int type <a id=\"int\"></a>\n",
    "<b>==================================="
   ]
  },
  {
   "cell_type": "code",
   "execution_count": 794,
   "metadata": {},
   "outputs": [
    {
     "name": "stdout",
     "output_type": "stream",
     "text": [
      "Output:\n",
      "datatype of num1 = <class 'int'>\n",
      "datatype of num2 = <class 'int'>\n",
      "datatype of num3 = <class 'int'>\n"
     ]
    }
   ],
   "source": [
    "num1= 5\n",
    "num2=46456460404\n",
    "num3=-155464564\n",
    "print(\"Output:\")\n",
    "print(\"datatype of num1 =\",type(num1))\n",
    "print(\"datatype of num2 =\",type(num2))\n",
    "print(\"datatype of num3 =\",type(num3))\n"
   ]
  },
  {
   "cell_type": "markdown",
   "metadata": {},
   "source": [
    "### Example 2:   Prefixing Integers\n",
    "<b>===================================\n",
    "    \n",
    "<b> we can represent integers in python in the form of binary, octal and hexa decimal by applying prefexes.\n",
    "- <font color= \"red\"> <i><b>0b for binary</b></i> </font>\n",
    "- <font color= \"red\"> <i><b>0o for octal </b></i> </font>\n",
    "- <font color= \"red\"> <i><b>0x for hexa decimal</b></i> </font>    \n",
    " </b>"
   ]
  },
  {
   "cell_type": "code",
   "execution_count": 795,
   "metadata": {},
   "outputs": [
    {
     "name": "stdout",
     "output_type": "stream",
     "text": [
      "Output:\n",
      "Decimal number=  5\n",
      "0b111001 in decimal =  57\n",
      "0o57 in decimal =  47\n",
      "0x10 in decimal =  16\n"
     ]
    }
   ],
   "source": [
    "#decimal number \n",
    "decimal_number=5 \n",
    "#binnary number \n",
    "binary_number=0b111001\n",
    "#octal number\n",
    "octal_number= 0o57\n",
    "#hexadecimal number\n",
    "hex_number=0x10\n",
    "print(\"Output:\")\n",
    "print(\"Decimal number= \", decimal_number)\n",
    "print(\"0b111001 in decimal = \", binary_number)\n",
    "print(\"0o57 in decimal = \", octal_number)\n",
    "print(\"0x10 in decimal = \", hex_number)\n"
   ]
  },
  {
   "cell_type": "markdown",
   "metadata": {},
   "source": [
    "### Example 3: Class of float type <a id=\"float\"></a>\n",
    "<b>==================================="
   ]
  },
  {
   "cell_type": "code",
   "execution_count": 796,
   "metadata": {},
   "outputs": [
    {
     "name": "stdout",
     "output_type": "stream",
     "text": [
      "Output:\n",
      "datatype of float1 = <class 'float'>\n",
      "datatype of float2 = <class 'float'>\n",
      "datatype of float3 = <class 'float'>\n",
      "datatype of float4 = <class 'float'>\n",
      "datatype of float5 = <class 'float'>\n",
      "datatype of float6 = <class 'float'>\n"
     ]
    }
   ],
   "source": [
    "float1=5.04\n",
    "float2=-455.464\n",
    "float3= 5/7\n",
    "float4= float('-infinity')#float can store -ve and positive infinity\n",
    "float5= float('nan') #it also stores nan=not any number format\n",
    "float6= float(3e-5)#it also stores exponential numbers.\n",
    "\n",
    "print(\"Output:\")\n",
    "print(\"datatype of float1 =\",type(float1))\n",
    "print(\"datatype of float2 =\",type(float2))\n",
    "print(\"datatype of float3 =\",type(float3))\n",
    "print(\"datatype of float4 =\",type(float4))\n",
    "print(\"datatype of float5 =\",type(float5))\n",
    "print(\"datatype of float6 =\",type(float6))\n"
   ]
  },
  {
   "cell_type": "markdown",
   "metadata": {},
   "source": [
    "### Example 4: Complex Numbers <a id=\"complex\"></a>\n",
    "<b>================================="
   ]
  },
  {
   "cell_type": "code",
   "execution_count": 797,
   "metadata": {},
   "outputs": [
    {
     "name": "stdout",
     "output_type": "stream",
     "text": [
      "Output:\n",
      "type of complex_no1= <class 'complex'>\n",
      "type of complex_no2= <class 'complex'>\n",
      "type of complex_no3= <class 'complex'>\n"
     ]
    }
   ],
   "source": [
    "#in complex datatype we use j to represent imagnary part\n",
    "\n",
    "complex_no1= 5+2j\n",
    "complex_no2= 3j\n",
    "complex_no3= 5-2j\n",
    "print(\"Output:\")\n",
    "print(\"type of complex_no1=\",type(complex_no1))\n",
    "print(\"type of complex_no2=\",type(complex_no2))\n",
    "print(\"type of complex_no3=\",type(complex_no3))\n"
   ]
  },
  {
   "cell_type": "markdown",
   "metadata": {},
   "source": [
    "### Example 5: Type conversions\n",
    "<b>================================="
   ]
  },
  {
   "cell_type": "code",
   "execution_count": 798,
   "metadata": {
    "scrolled": true
   },
   "outputs": [
    {
     "name": "stdout",
     "output_type": "stream",
     "text": [
      "Output:\n",
      "10.0 <class 'float'>\n",
      "3 <class 'int'>\n",
      "5j <class 'complex'>\n"
     ]
    }
   ],
   "source": [
    "int_num = 10   # int\n",
    "float_num = 3.14  # float\n",
    "complex_num = 5j   # complex\n",
    "\n",
    "#convert from int to float:\n",
    "converted_float = float(int_num)\n",
    "\n",
    "#convert from float to int:\n",
    "converted_int = int(float_num)\n",
    "\n",
    "#convert from int to complex:\n",
    "converted_complex = complex(complex_num)\n",
    "print(\"Output:\")\n",
    "print(converted_float,type(converted_float))\n",
    "print(converted_int,type(converted_int))\n",
    "print(converted_complex,type(converted_complex))\n",
    "\n"
   ]
  },
  {
   "cell_type": "markdown",
   "metadata": {},
   "source": [
    "\n",
    "## 2.3 Sequence Data Types: <a id=\"2.3\"></a>\n",
    "<b>===================================\n",
    "\n",
    "### Defination:\n",
    "<b>=============\n",
    "    \n",
    "<b>Sequence datatypes allows us to efficently store multiple values in an organized manner. In python we have these sequence datatypes. \n",
    "- <font color= \"red\"> <i><b>List</b></i> </font> \n",
    "- <font color= \"red\"> <i><b>Tupple</b></i> </font> \n",
    "- <font color= \"red\"> <i><b>Range</b></i> </font>\n",
    "- <font color= \"red\"> <i><b>Strings (discuessed earlier)</b></i> <a href=\"#2.1\">Go to Strings</a></font></b>\n",
    "    \n",
    "\n",
    "### 2.2.1 List: \n",
    "<b>============= \n",
    "    \n",
    "#### Defination:\n",
    "<b>============= <a id=\"2.3.1\"></a>\n",
    "    \n",
    "<b>In python List is a datatype in which we can store multiple items. In list we have multiple elements seprated by commas. List is one of the widely used datatype of in python when we are dealing with collections.\n",
    "\n",
    "#### Strength:\n",
    "<b>=============\n",
    "    \n",
    "- The elements of lists are ordered\n",
    "- The elements of lists can be duplicate\n",
    "- The elements of lists are changeable\n",
    "- It use contigous memory block so the indexing is fast here \n",
    "    \n",
    "#### Suitability:\n",
    "<b>=============\n",
    "    \n",
    "- You need an mutable collection you prefer to use a list\n",
    "    \n",
    "### Example1: Decleration and Indexing\n",
    "<b>=======================================\n",
    "    \n",
    "Here you can see how to decleare a list and how indexing works in a list.\n"
   ]
  },
  {
   "cell_type": "code",
   "execution_count": 799,
   "metadata": {},
   "outputs": [
    {
     "name": "stdout",
     "output_type": "stream",
     "text": [
      "Output:\n",
      "<class 'list'>\n",
      "['teacher', 'student', 'doctor', 'engineer']\n",
      "index[0] teacher\n",
      "index[1] student\n",
      "index[2] doctor\n",
      "index[3] engineer\n"
     ]
    }
   ],
   "source": [
    "people= [\"teacher\", \"student\", \"doctor\", \"engineer\"]\n",
    "print(\"Output:\")\n",
    "print(type(people))\n",
    "print(people)\n",
    "print(\"index[0]\",people[0])\n",
    "print(\"index[1]\",people[1])\n",
    "print(\"index[2]\",people[2])\n",
    "print(\"index[3]\",people[3])"
   ]
  },
  {
   "cell_type": "markdown",
   "metadata": {},
   "source": [
    "### Example2: Mutablity\n",
    "<b>=====================\n",
    "    \n",
    "**here you will see that how can we make changes in a list**"
   ]
  },
  {
   "cell_type": "code",
   "execution_count": 800,
   "metadata": {},
   "outputs": [
    {
     "name": "stdout",
     "output_type": "stream",
     "text": [
      "Output:\n",
      "List before changes: ['teacher', 'student', 'doctor', 'engineer']\n",
      "index[0] teacher\n",
      "index[1] student\n",
      "index[2] doctor\n",
      "index[3] engineer\n",
      "List after changes: ['teacher', 'student', 'lawyer', 'painter']\n",
      "index[0] teacher\n",
      "index[1] student\n",
      "index[2] lawyer\n",
      "index[3] painter\n"
     ]
    }
   ],
   "source": [
    "people= [\"teacher\", \"student\", \"doctor\", \"engineer\"]\n",
    "print(\"Output:\")\n",
    "print(\"List before changes:\",people)\n",
    "print(\"index[0]\",people[0])\n",
    "print(\"index[1]\",people[1])\n",
    "print(\"index[2]\",people[2])\n",
    "print(\"index[3]\",people[3])\n",
    "#here we are going to make chagnes in list\n",
    "people[2]= \"lawyer\"\n",
    "people[3]= \"painter\"\n",
    "print(\"List after changes:\",people)\n",
    "print(\"index[0]\",people[0])\n",
    "print(\"index[1]\",people[1])\n",
    "print(\"index[2]\",people[2])\n",
    "print(\"index[3]\",people[3])"
   ]
  },
  {
   "cell_type": "markdown",
   "metadata": {},
   "source": [
    "### Example3: Finding length of List\n",
    "<b>=================================="
   ]
  },
  {
   "cell_type": "code",
   "execution_count": 801,
   "metadata": {},
   "outputs": [
    {
     "name": "stdout",
     "output_type": "stream",
     "text": [
      "Output:\n",
      "Lenght of list of people= 4\n"
     ]
    }
   ],
   "source": [
    "people= [\"teacher\", \"student\", \"doctor\", \"engineer\"]\n",
    "print(\"Output:\")\n",
    "print(\"Lenght of list of people=\", len(people))"
   ]
  },
  {
   "cell_type": "markdown",
   "metadata": {},
   "source": [
    "### Example4: Concatination in List\n",
    "<b>=================================="
   ]
  },
  {
   "cell_type": "code",
   "execution_count": 802,
   "metadata": {},
   "outputs": [
    {
     "name": "stdout",
     "output_type": "stream",
     "text": [
      "Output:\n",
      "list of after concatination is  ['apple', 'grapes', 'oranges', 'rose', 'lilly', 'sunflower']\n"
     ]
    }
   ],
   "source": [
    "fruits=[\"apple\", \"grapes\", \"oranges\"]\n",
    "flowers=[\"rose\", \"lilly\",\"sunflower\"]\n",
    "concatinated_list= fruits+flowers\n",
    "print(\"Output:\")\n",
    "print(\"list of after concatination is \", concatinated_list)"
   ]
  },
  {
   "cell_type": "markdown",
   "metadata": {},
   "source": [
    "### Example5: Slicing in List\n",
    "<b>============================="
   ]
  },
  {
   "cell_type": "code",
   "execution_count": 803,
   "metadata": {},
   "outputs": [
    {
     "name": "stdout",
     "output_type": "stream",
     "text": [
      "['student', 'doctor', 'engineer']\n",
      "['doctor', 'engineer']\n",
      "['engineer']\n",
      "[]\n"
     ]
    }
   ],
   "source": [
    "people= [\"teacher\", \"student\", \"doctor\", \"engineer\"]\n",
    "#slicing from left side\n",
    "print(people[1:])\n",
    "print(people[2:])\n",
    "print(people[3:])\n",
    "print(people[4:])"
   ]
  },
  {
   "cell_type": "markdown",
   "metadata": {},
   "source": [
    "### Example6: Reversing a list\n",
    "<b>==============================="
   ]
  },
  {
   "cell_type": "code",
   "execution_count": 804,
   "metadata": {},
   "outputs": [
    {
     "name": "stdout",
     "output_type": "stream",
     "text": [
      "Output:\n",
      "Lists befor reversing are\n",
      "['teacher', 'student', 'doctor', 'engineer']\n",
      "['apple', 'grapes', 'oranges']\n",
      "['rose', 'lilly', 'sunflower']\n",
      "\n",
      "Lists after reversing are:\n",
      "['engineer', 'doctor', 'student', 'teacher']\n",
      "['oranges', 'grapes', 'apple']\n",
      "['sunflower', 'lilly', 'rose']\n"
     ]
    }
   ],
   "source": [
    "people= [\"teacher\", \"student\", \"doctor\", \"engineer\"]\n",
    "fruits=[\"apple\", \"grapes\", \"oranges\"]\n",
    "flowers=[\"rose\", \"lilly\",\"sunflower\"]\n",
    "print(\"Output:\")\n",
    "print(\"Lists befor reversing are\")\n",
    "print(people)\n",
    "print(fruits)\n",
    "print(flowers)\n",
    "\n",
    "people.reverse()\n",
    "fruits.reverse()\n",
    "flowers.reverse()\n",
    "\n",
    "print(\"\\nLists after reversing are:\")\n",
    "print(people)\n",
    "print(fruits)\n",
    "print(flowers)\n",
    "\n"
   ]
  },
  {
   "cell_type": "markdown",
   "metadata": {},
   "source": [
    "### 2.3.2 Tuple: <a id=\"2.3.2\"></a>\n",
    "<b>============\n",
    "#### Defination:\n",
    "<b>===========\n",
    "    \n",
    "<b> Tuple in python is a data type which is used to store collections of data. Unlike list, it is not enclosed by [ ] by square brackets but by () parenthesis.\n",
    "\n",
    "#### Strength:\n",
    "<b>=========\n",
    "    \n",
    "- The elements of lists are ordered\n",
    "- The elements of lists can be duplicate\n",
    "- The stored elements are hetrogenous.\n",
    "\n",
    "#### Weakness:\n",
    "<b>=========\n",
    "    \n",
    "- The stored elements cannot be changed as tuple is immutable.\n",
    "    \n",
    "#### Suitability:\n",
    "<b>==========\n",
    "    \n",
    "- Tuples are by convention used when we need to store hetrogenous elements.\n",
    "    \n",
    "### Example1: Decleration of tuple and Accessing \n",
    "<b>==================================================\n",
    "    \n",
    "Let's see how can we declear a tuple"
   ]
  },
  {
   "cell_type": "code",
   "execution_count": 805,
   "metadata": {},
   "outputs": [
    {
     "name": "stdout",
     "output_type": "stream",
     "text": [
      "Output:\n",
      "('biryani', 'qorma', 'pulao')\n",
      "<class 'tuple'>\n",
      "index[0]= biryani\n",
      "index[1]= qorma\n",
      "index[2]= pulao\n"
     ]
    }
   ],
   "source": [
    "food= (\"biryani\", \"qorma\",\"pulao\")\n",
    "print(\"Output:\")\n",
    "print(food)\n",
    "print(type(food))\n",
    "print(\"index[0]=\",food[0])\n",
    "print(\"index[1]=\",food[1])\n",
    "print(\"index[2]=\",food[2])\n",
    "\n",
    "#immutable this is not allowed in tuple (you can uncomment and check)\n",
    "#food[0]=\"nihari\""
   ]
  },
  {
   "cell_type": "markdown",
   "metadata": {},
   "source": [
    "### Example2: Finding length of a tuple\n",
    "<b>=======================================\n"
   ]
  },
  {
   "cell_type": "code",
   "execution_count": 806,
   "metadata": {},
   "outputs": [
    {
     "name": "stdout",
     "output_type": "stream",
     "text": [
      "Length= 3\n"
     ]
    }
   ],
   "source": [
    "food= (\"biryani\", \"qorma\",\"pulao\")\n",
    "print(\"Length=\",len(food))"
   ]
  },
  {
   "cell_type": "markdown",
   "metadata": {},
   "source": [
    "### Example3: Converting a list to tuple"
   ]
  },
  {
   "cell_type": "code",
   "execution_count": 807,
   "metadata": {},
   "outputs": [
    {
     "name": "stdout",
     "output_type": "stream",
     "text": [
      "Output:\n",
      "type of list1 <class 'list'>\n",
      "type of tuple 1: <class 'tuple'>\n"
     ]
    }
   ],
   "source": [
    "list1= [\"a\",\"b\",\"c\"]\n",
    "print(\"Output:\")\n",
    "print(\"type of list1\",type(list1))\n",
    "tuple1= tuple(list1)\n",
    "print(\"type of tuple 1:\", type(tuple1))\n"
   ]
  },
  {
   "cell_type": "markdown",
   "metadata": {},
   "source": [
    "### Example4: Concatinating tuples\n",
    "<b>=======================================\n"
   ]
  },
  {
   "cell_type": "code",
   "execution_count": 808,
   "metadata": {},
   "outputs": [
    {
     "name": "stdout",
     "output_type": "stream",
     "text": [
      "Output:\n",
      "('biryani', 'qorma', 'pulao', 'burger', 'shawarma', 'pizza')\n"
     ]
    }
   ],
   "source": [
    "food= (\"biryani\", \"qorma\",\"pulao\")\n",
    "fast_food=(\"burger\",\"shawarma\",\"pizza\")\n",
    "concatinating_tuple=food+fast_food\n",
    "print(\"Output:\")\n",
    "print(concatinating_tuple)"
   ]
  },
  {
   "cell_type": "markdown",
   "metadata": {},
   "source": [
    "### Example5: Slicing in the tuple\n",
    "<b>=======================================\n"
   ]
  },
  {
   "cell_type": "code",
   "execution_count": 809,
   "metadata": {
    "scrolled": true
   },
   "outputs": [
    {
     "name": "stdout",
     "output_type": "stream",
     "text": [
      "Output:\n",
      "('qorma', 'pulao')\n",
      "('pulao',)\n",
      "()\n"
     ]
    }
   ],
   "source": [
    "food= (\"biryani\", \"qorma\",\"pulao\")\n",
    "print(\"Output:\")\n",
    "print(food[1:])\n",
    "print(food[2:])\n",
    "print(food[3:])"
   ]
  },
  {
   "cell_type": "markdown",
   "metadata": {},
   "source": [
    "\n",
    "## 2.4 Dictionary: <a id=\"2.4\"></a>\n",
    "<b>===================\n",
    "\n",
    "\n",
    "### Defination:\n",
    "<b>=============\n",
    "    \n",
    "In python dictionary is an ordered set of key value pair <font color= \"red\"> <i><b> (As of python 3.7 dictionary is ordered) </b></i> </font>. It is similer to a hash table where each key hold a specific value:\n",
    "- <font color= \"red\"> <i><b>Key:</b></i> </font> It could be any primitive datatype in python.\n",
    "- <font color= \"red\"> <i><b>Value:</b></i> </font> It is an aribitrary python object.\n",
    "    \n",
    "\n",
    "### Strength: \n",
    "<b>=============\n",
    "    \n",
    "- Using python dictionaries we can store data in more descriptive from.\n",
    "- We can use it as a hash table in python.\n",
    "\n",
    "### Weaknesses:\n",
    "<b>=============\n",
    "    \n",
    "- Dictionaries used to be unordered (but as of python 3.7 this weakness is removed)\n",
    "- Compared to other data structures dictionary consumes more storage.\n",
    "    \n",
    "### Suitability:\n",
    "<b>=============\n",
    "    \n",
    "- Are used when we have a data in which we need to map keys against some data\n",
    "- Is used in graphs for making adjustcency lists.\n",
    "    \n",
    "### Example1: Initializing a dictionary\n",
    "<b>====================================\n",
    "    \n",
    "Here you can see how to decleare a dictionary and extracting values using indexs.\n"
   ]
  },
  {
   "cell_type": "code",
   "execution_count": 810,
   "metadata": {},
   "outputs": [
    {
     "name": "stdout",
     "output_type": "stream",
     "text": [
      "Type: <class 'dict'>\n",
      "{1: 'mohsin', 2: 'gama', 3: 'ghazi', 4: 'nomi'}\n",
      "mohsin\n",
      "gama\n",
      "ghazi\n",
      "nomi\n"
     ]
    }
   ],
   "source": [
    "students={1:\"mohsin\",\n",
    "          2: \"gama\",\n",
    "          3:\"ghazi\",\n",
    "          4:\"nomi\"}\n",
    "print(\"Type:\",type(students))\n",
    "print(students)\n",
    "#here indexing begins with 1\n",
    "print(students[1])\n",
    "print(students[2])\n",
    "print(students[3])\n",
    "print(students[4])"
   ]
  },
  {
   "cell_type": "markdown",
   "metadata": {},
   "source": [
    "### Example2: Deleting a key-value pair in dictionary\n",
    "<b>====================================================="
   ]
  },
  {
   "cell_type": "code",
   "execution_count": 811,
   "metadata": {},
   "outputs": [
    {
     "name": "stdout",
     "output_type": "stream",
     "text": [
      "Before Deletion:\n",
      " {1: 'mohsin', 2: 'gama', 3: 'ghazi', 4: 'nomi'}\n",
      "After Deletion:\n",
      " {1: 'mohsin', 2: 'gama', 4: 'nomi'}\n"
     ]
    }
   ],
   "source": [
    "students={1:\"mohsin\",\n",
    "          2: \"gama\",\n",
    "          3:\"ghazi\",\n",
    "          4:\"nomi\"}\n",
    "print(\"Before Deletion:\\n\",students)\n",
    "del(students[3])\n",
    "print(\"After Deletion:\\n\",students)"
   ]
  },
  {
   "cell_type": "markdown",
   "metadata": {},
   "source": [
    "### Example3: Poping item from a Dictionary \n",
    "<b>============================================\n"
   ]
  },
  {
   "cell_type": "code",
   "execution_count": 812,
   "metadata": {},
   "outputs": [
    {
     "name": "stdout",
     "output_type": "stream",
     "text": [
      "Output:\n",
      "Before Deletion:\n",
      " {1: 'mohsin', 2: 'gama', 3: 'ghazi', 4: 'nomi'}\n",
      "After Deletion:\n",
      " {1: 'mohsin', 2: 'gama', 3: 'ghazi'}\n",
      "\n",
      "result= nomi\n"
     ]
    }
   ],
   "source": [
    "students={1:\"mohsin\",\n",
    "          2: \"gama\",\n",
    "          3:\"ghazi\",\n",
    "          4:\"nomi\"}\n",
    "print(\"Output:\")\n",
    "print(\"Before Deletion:\\n\",students)\n",
    "result= students.pop(4)\n",
    "#here value 4 is poped out and stored in the variable result\n",
    "print(\"After Deletion:\\n\",students)\n",
    "print(\"\\nresult=\",result)"
   ]
  },
  {
   "cell_type": "markdown",
   "metadata": {},
   "source": [
    "### Example4: Clearing all items in the dictionary using clear()\n",
    "<b>================================================================"
   ]
  },
  {
   "cell_type": "code",
   "execution_count": 813,
   "metadata": {
    "scrolled": true
   },
   "outputs": [
    {
     "name": "stdout",
     "output_type": "stream",
     "text": [
      "Output:\n",
      "Before Clearing:\n",
      " {1: 'mohsin', 2: 'gama', 3: 'ghazi', 4: 'nomi'}\n",
      "After Clearing:\n",
      " {}\n"
     ]
    }
   ],
   "source": [
    "students={1:\"mohsin\",\n",
    "          2: \"gama\",\n",
    "          3:\"ghazi\",\n",
    "          4:\"nomi\"}\n",
    "print(\"Output:\")\n",
    "print(\"Before Clearing:\\n\",students)\n",
    "students.clear()\n",
    "#we'll have a empty dictionary now\n",
    "print(\"After Clearing:\\n\",students)\n"
   ]
  },
  {
   "cell_type": "markdown",
   "metadata": {},
   "source": [
    "\n",
    "## 2.5 Set: <a id=\"2.5\"></a>\n",
    "<b>=============\n",
    "\n",
    "\n",
    "### Defination:\n",
    "<b>=============\n",
    "    \n",
    "In python we use sets for representing <font color= \"red\"> <i><b> collection of unordered and unindexed data </b></i> </font>. Every element in the set is unique which means it cannot contain duplicate items. Set itself is mutable but the stored elements are immutable. Values in set are seprated by comma. \n",
    "    \n",
    "### Strength: \n",
    "<b>=============\n",
    "    \n",
    "- Because sets cannot have multiple occurrences of the same element, it makes sets highly useful to efficiently remove duplicate values from a list or tuple and to perform common math operations like unions and intersections\n",
    " \n",
    "### Weakness: \n",
    "<b>=============\n",
    "    \n",
    "- Its not being ordred and indexed make accessibility less efficient here.\n",
    " \n",
    "    \n",
    "### Suitability:\n",
    "<b>=============\n",
    "- Sets are suitable to use when we are dealing with membership testing and eliminating duplicate entries. \n",
    "    \n",
    "### Example1: Initializing a set\n",
    "<b>==============================\n"
   ]
  },
  {
   "cell_type": "code",
   "execution_count": 814,
   "metadata": {},
   "outputs": [
    {
     "name": "stdout",
     "output_type": "stream",
     "text": [
      "Output:\n",
      "{'scale', 'pencil', 'pen'}\n",
      "<class 'set'>\n"
     ]
    }
   ],
   "source": [
    "stationary_set= {\"pen\",\"pencil\",\"scale\"}\n",
    "print(\"Output:\")\n",
    "print(stationary_set)\n",
    "print(type(stationary_set))"
   ]
  },
  {
   "cell_type": "markdown",
   "metadata": {},
   "source": [
    "### Example2: Adding value in the set\n",
    "<b>=====================================\n"
   ]
  },
  {
   "cell_type": "code",
   "execution_count": 815,
   "metadata": {},
   "outputs": [
    {
     "name": "stdout",
     "output_type": "stream",
     "text": [
      "Output:\n",
      "Before adding value\n",
      "{'scale', 'pencil', 'pen'}\n",
      "After adding value\n",
      "{'scale', 'pencil', 'eraser', 'pen'}\n"
     ]
    }
   ],
   "source": [
    "stationary_set= {\"pen\",\"pencil\",\"scale\"}\n",
    "print(\"Output:\")\n",
    "print(\"Before adding value\")\n",
    "print(stationary_set)\n",
    "stationary_set.add(\"eraser\")\n",
    "print(\"After adding value\")\n",
    "print(stationary_set)\n",
    "\n"
   ]
  },
  {
   "cell_type": "markdown",
   "metadata": {},
   "source": [
    "### Example3: Removing values from the set\n",
    "<b>============================================="
   ]
  },
  {
   "cell_type": "code",
   "execution_count": 816,
   "metadata": {},
   "outputs": [
    {
     "name": "stdout",
     "output_type": "stream",
     "text": [
      "Output:\n",
      "Before removing value\n",
      "{'scale', 'pencil', 'pen'}\n",
      "After after value\n",
      "{'scale', 'pencil'}\n"
     ]
    }
   ],
   "source": [
    "stationary_set= {\"pen\",\"pencil\",\"scale\"}\n",
    "print(\"Output:\")\n",
    "print(\"Before removing value\")\n",
    "print(stationary_set)\n",
    "stationary_set.discard(\"pen\")\n",
    "print(\"After after value\")\n",
    "print(stationary_set)"
   ]
  },
  {
   "cell_type": "markdown",
   "metadata": {},
   "source": [
    "### Example4: Union of sets\n",
    "<b>=========================="
   ]
  },
  {
   "cell_type": "code",
   "execution_count": 817,
   "metadata": {},
   "outputs": [
    {
     "name": "stdout",
     "output_type": "stream",
     "text": [
      "Output:\n",
      "{'scale', 'pencil', 'marker', 'eraser', 'pen'}\n"
     ]
    }
   ],
   "source": [
    "stationary_set_mohsin = {\"pen\",\"pencil\",\"scale\"}\n",
    "stationary_set_tiyab = {\"eraser\",\"pencil\",\"marker\"}\n",
    "union_set= stationary_set_mohsin|stationary_set_tiyab\n",
    "print(\"Output:\")\n",
    "print(union_set)"
   ]
  },
  {
   "cell_type": "markdown",
   "metadata": {},
   "source": [
    "### Example5: Intersection of sets\n",
    "<b>================================\n"
   ]
  },
  {
   "cell_type": "code",
   "execution_count": 818,
   "metadata": {},
   "outputs": [
    {
     "name": "stdout",
     "output_type": "stream",
     "text": [
      "Output:\n",
      "{'pencil'}\n"
     ]
    }
   ],
   "source": [
    "stationary_set_mohsin = {\"pen\",\"pencil\",\"scale\"}\n",
    "stationary_set_tiyab = {\"eraser\",\"pencil\",\"marker\"}\n",
    "intersection_set= stationary_set_mohsin & stationary_set_tiyab\n",
    "print(\"Output:\")\n",
    "print(intersection_set)"
   ]
  },
  {
   "cell_type": "markdown",
   "metadata": {},
   "source": [
    "\n",
    "## 2.6 Boolean: <a id=\"2.6\"></a>\n",
    "<b>================\n",
    "\n",
    "\n",
    "### Defination:\n",
    "<b>=============\n",
    "    \n",
    "<b>In python boolean is a datatype which contains 2 possible values:\n",
    "- <font color= \"red\"> <i><b>True</b></i> </font> it will not accept \"true\" as bool.\n",
    "- <font color= \"red\"> <i><b>False</b></i> </font> it will not accept \"false\" as bool.\n",
    "    \n",
    "this datatype belongs to bool class of python. bool is not the keyword in the python but it is advised not to use it for naming variables.\n",
    "### Strength: \n",
    "<b>===========\n",
    "    \n",
    "- It is quite useful for storing results of logical expressions.\n",
    "    \n",
    "### Suitability:\n",
    "<b>==============\n",
    "    \n",
    "- It is useful when we are dealing with logical expressions and decesion making.\n",
    "    \n",
    "### Example1: Initializing boolean variable\n",
    "<b>=========================================\n"
   ]
  },
  {
   "cell_type": "code",
   "execution_count": 819,
   "metadata": {},
   "outputs": [
    {
     "name": "stdout",
     "output_type": "stream",
     "text": [
      "<class 'bool'>\n"
     ]
    }
   ],
   "source": [
    "boolean_variable= True\n",
    "print(type(boolean_variable))"
   ]
  },
  {
   "cell_type": "markdown",
   "metadata": {},
   "source": [
    "### Example2: Storing result of logical expressions:\n",
    "<b>=====================================================\n"
   ]
  },
  {
   "cell_type": "code",
   "execution_count": 820,
   "metadata": {},
   "outputs": [
    {
     "name": "stdout",
     "output_type": "stream",
     "text": [
      "Output:\n",
      "Result= False\n",
      "Result= True\n"
     ]
    }
   ],
   "source": [
    "number1= 10\n",
    "number2= 20\n",
    "result= number1>number2\n",
    "print(\"Output:\")\n",
    "# 10>20 so it should return False\n",
    "print(\"Result=\", result)\n",
    "result= number2>number1\n",
    "# 20>10 so it should return True\n",
    "print(\"Result=\", result)"
   ]
  },
  {
   "cell_type": "markdown",
   "metadata": {},
   "source": [
    "### Example3: Boolean Operators \n",
    "<b>================================"
   ]
  },
  {
   "cell_type": "code",
   "execution_count": 821,
   "metadata": {
    "scrolled": true
   },
   "outputs": [
    {
     "name": "stdout",
     "output_type": "stream",
     "text": [
      "Output:\n",
      "Result=  False\n",
      "Result=  True\n",
      "Result=  False\n"
     ]
    }
   ],
   "source": [
    "#and operator\n",
    "boolean_variable1= True\n",
    "boolean_variable2= False\n",
    "result= boolean_variable1 and boolean_variable2\n",
    "print(\"Output:\")\n",
    "print(\"Result= \", result)\n",
    "\n",
    "#or operator\n",
    "boolean_variable1= True\n",
    "boolean_variable2= False\n",
    "result= boolean_variable1 or boolean_variable2\n",
    "print(\"Result= \", result)\n",
    "\n",
    "#and operator\n",
    "boolean_variable1= True\n",
    "result= not boolean_variable1\n",
    "print(\"Result= \", result)"
   ]
  },
  {
   "cell_type": "markdown",
   "metadata": {},
   "source": [
    "\n",
    "## 3 Comparison Operators: <a id=\"3\"></a>\n",
    "<b>==================================\n",
    "\n",
    "\n",
    "### Defination:\n",
    "<b>=============\n",
    "    \n",
    "<b> As the name suggest comparison operators are used to compare to operands. In python we have followin comparison operators\n",
    "- <font color= \"red\"> <i><b>Equal </b></i> </font> (==)\n",
    "- <font color= \"red\"> <i><b>Not Equal  </b></i> </font> (!=)\n",
    "- <font color= \"red\"> <i><b>Greater than </b></i> </font> (<)\n",
    "- <font color= \"red\"> <i><b>Less than  </b></i> </font> (>)\n",
    "- <font color= \"red\"> <i><b>Greater than or equal </b></i> </font> (<=)\n",
    "- <font color= \"red\"> <i><b>Less than or equal  </b></i> </font> (>=)\n",
    "\n",
    "when we perform these operators we get a boolean type varible.\n",
    "\n",
    "### Example1: Perfroming Comparison Operators:\n",
    "<b>==================================================\n"
   ]
  },
  {
   "cell_type": "code",
   "execution_count": 822,
   "metadata": {},
   "outputs": [
    {
     "name": "stdout",
     "output_type": "stream",
     "text": [
      "Output:\n",
      "Result= False\n",
      "Result= True\n",
      "Result= False\n",
      "Result= True\n",
      "Result= True\n",
      "Result= True\n"
     ]
    }
   ],
   "source": [
    "fruit1=\"Apples\"\n",
    "fruit2=\"Grapes\"\n",
    "## equal to operator\n",
    "result=fruit1==fruit2\n",
    "print(\"Output:\")\n",
    "print(\"Result=\",result)\n",
    "\n",
    "## not equal to operator\n",
    "result=fruit1!=fruit2\n",
    "print(\"Result=\",result)\n",
    "\n",
    "# greater than\n",
    "number1= 10\n",
    "number2= 20\n",
    "result= number1>number2\n",
    "print(\"Result=\",result)\n",
    "\n",
    "# Less than\n",
    "number1= 10\n",
    "number2= 20\n",
    "result= number1<number2\n",
    "print(\"Result=\",result)\n",
    "\n",
    "#Less than or equal \n",
    "number1= 10\n",
    "number2= 10\n",
    "result= number1>=number2\n",
    "print(\"Result=\",result)\n",
    "\n",
    "# Greater than or equal\n",
    "number1= 10\n",
    "number2= 10\n",
    "result= number1<=number2\n",
    "print(\"Result=\",result)"
   ]
  },
  {
   "cell_type": "markdown",
   "metadata": {},
   "source": [
    "## 4 if-else : <a id=\"4\"></a>\n",
    "<b>============\n",
    "    \n",
    "Like in other programming lanuages if-else statemens are used for <font color= \"red\"> <i><b>conditional transfer of control in the program  </b></i> </font> . if statement evaluates a logical expression and decide wether to transfered control to if-block or rest of the program wheares, in case of else the control is either transfered to if block or else block.\n",
    "    \n",
    "### Strength: \n",
    "<b>===========\n",
    "    \n",
    "- Helps in redirecting control during the execution of program.\n",
    "    \n",
    "### Weakness:\n",
    "<b>==============\n",
    "    \n",
    "- Intrupt the normal flow of execution of the program.\n",
    "    \n",
    "### Suitability:\n",
    "<b>==============\n",
    "    \n",
    "- if-else is suitable to use when we are dealing with multi-outcome problems.\n",
    "<br>\n",
    "    \n",
    "   \n",
    "### Example1: Classifying Odd and Even number:\n",
    "<b>==================================================\n"
   ]
  },
  {
   "cell_type": "code",
   "execution_count": 823,
   "metadata": {},
   "outputs": [
    {
     "name": "stdout",
     "output_type": "stream",
     "text": [
      "Output:\n",
      "number is even\n"
     ]
    }
   ],
   "source": [
    "num=10\n",
    "print(\"Output:\")\n",
    "if(num%2):\n",
    "    print(\"number is odd\");\n",
    "else:\n",
    "    print(\"number is even\")\n"
   ]
  },
  {
   "cell_type": "markdown",
   "metadata": {},
   "source": [
    "### Example2: Finding Largest Number:\n",
    "<b>======================================\n",
    "    \n",
    " \n",
    "    \n",
    "    \n"
   ]
  },
  {
   "cell_type": "code",
   "execution_count": 824,
   "metadata": {},
   "outputs": [
    {
     "name": "stdout",
     "output_type": "stream",
     "text": [
      "Output:\n",
      "20 is greater than 10\n"
     ]
    }
   ],
   "source": [
    "num1= 10\n",
    "num2= 20\n",
    "print(\"Output:\")\n",
    "if(num1>num2):\n",
    "    print(f\"{num1} is greater than {num2}\")\n",
    "else:\n",
    "    print(f\"{num2} is greater than {num1}\")"
   ]
  },
  {
   "cell_type": "markdown",
   "metadata": {},
   "source": [
    "### 4.1 elif : <a id=\"4.1\"></a>\n",
    "<b>=======\n",
    "    \n",
    "elif is used when we want control to be transfered to more than 2 blocks. We can use multiple elif blocks and if condtion of certain blocks is fulfiled it is executed. If no condtion is fulfiled the control is transfered to else block."
   ]
  },
  {
   "cell_type": "markdown",
   "metadata": {},
   "source": [
    "### Example3: Finding Grade of Student :\n",
    "<b>================================================"
   ]
  },
  {
   "cell_type": "code",
   "execution_count": 825,
   "metadata": {},
   "outputs": [
    {
     "name": "stdout",
     "output_type": "stream",
     "text": [
      "Output:\n",
      "your grade is C\n"
     ]
    }
   ],
   "source": [
    "marks=50\n",
    "print(\"Output:\")\n",
    "if(marks>=90):\n",
    "    print(\"your grade is A\")\n",
    "elif(marks>=70 and marks<90):\n",
    "    print(\"your grade is B\")\n",
    "elif(marks>=50 and marks<70):\n",
    "    print(\"your grade is C\")\n",
    "else:\n",
    "    print(\"your grade is F\")\n",
    "\n"
   ]
  },
  {
   "cell_type": "markdown",
   "metadata": {},
   "source": [
    "### Example4: Ternary Operators (Short hand if-else) :\n",
    "<b>====================================================="
   ]
  },
  {
   "cell_type": "code",
   "execution_count": 826,
   "metadata": {},
   "outputs": [
    {
     "name": "stdout",
     "output_type": "stream",
     "text": [
      "Output:\n",
      "30 is greater\n"
     ]
    }
   ],
   "source": [
    "num1 = 20\n",
    "num2 = 30\n",
    "print(\"Output:\")\n",
    "print(f\"{num1} is greater\") if num1 > num2 else print(f\"{num2} is greater\")"
   ]
  },
  {
   "cell_type": "markdown",
   "metadata": {},
   "source": [
    "## 5  Loops: <a id=\"5\"></a>\n",
    "<b>============\n",
    "    \n",
    "Loops play an important role in every programming language. We use loop when we need to perform <font color= \"red\"> <i><b> repitative tasks </b></i> </font>. In python we have two types of loops.\n",
    "    \n",
    "- <font color= \"red\"> <i><b>For Loop: </b></i> </font>\n",
    "- <font color= \"red\"> <i><b>While Loop: </b></i> </font>\n",
    "    \n",
    "### Strength: \n",
    "<b>===========\n",
    "    \n",
    "- Our program do not have repitative line of codes when we use loops.\n",
    "    \n",
    "### Weakness:\n",
    "<b>==============\n",
    "    \n",
    "- Although loops makes our work easy but they might increase the complexity of the program. \n",
    "    \n",
    "### Suitability:\n",
    "<b>==============\n",
    "    \n",
    "- When we are dealing with a problem in which we need to perform repitative tasks.\n",
    "<br>\n",
    "    \n",
    "## 5.1  For Loop: <a id=\"5.1\"></a>\n",
    "<b>=================\n",
    "    \n",
    "Another name of this loop is counter loop. We use for loop to iterating through a sequence. It also is used when we need to iterate a code block for the <font color= \"red\"> <i><b> fixed number of times </b></i> </font>.\n",
    "<b>\n",
    "### Example1: Looping through a list:\n",
    "<b>======================================\n"
   ]
  },
  {
   "cell_type": "code",
   "execution_count": 827,
   "metadata": {},
   "outputs": [
    {
     "name": "stdout",
     "output_type": "stream",
     "text": [
      "Output:\n",
      "teacher\n",
      "student\n",
      "doctor\n",
      "engineer\n"
     ]
    }
   ],
   "source": [
    "people= [\"teacher\", \"student\", \"doctor\", \"engineer\"]\n",
    "print(\"Output:\")\n",
    "for i in people:\n",
    "    print(i)\n",
    "#on every iteration i pick a value from the list of people."
   ]
  },
  {
   "cell_type": "markdown",
   "metadata": {},
   "source": [
    "### Example2: Looping through a String:\n",
    "<b>==============================\n"
   ]
  },
  {
   "cell_type": "code",
   "execution_count": 828,
   "metadata": {},
   "outputs": [
    {
     "name": "stdout",
     "output_type": "stream",
     "text": [
      "Output:\n",
      "M\n",
      "o\n",
      "h\n",
      "s\n",
      "i\n",
      "n\n"
     ]
    }
   ],
   "source": [
    "name=\"Mohsin\"\n",
    "print(\"Output:\")\n",
    "for i in name:\n",
    "    print(i)"
   ]
  },
  {
   "cell_type": "markdown",
   "metadata": {},
   "source": [
    "### Example3: range() function:\n",
    "<b>========================\n",
    "    \n",
    "The range() function returns a sequence of numbers, starting from 0 by default, and increments by 1 (by default), and ends at a specified number. we can replace the starting, ending and increament values which are set by default."
   ]
  },
  {
   "cell_type": "code",
   "execution_count": 829,
   "metadata": {},
   "outputs": [
    {
     "name": "stdout",
     "output_type": "stream",
     "text": [
      "Output:\n",
      "Pakistan\n",
      "Pakistan\n",
      "Pakistan\n",
      "Pakistan\n",
      "Pakistan\n",
      "Pakistan\n"
     ]
    }
   ],
   "source": [
    "print(\"Output:\")\n",
    "for num in range (6):\n",
    "    print(\"Pakistan\")"
   ]
  },
  {
   "cell_type": "markdown",
   "metadata": {},
   "source": [
    "### Example4: Nested for loop:\n",
    "<b>==============================\n",
    "    we can use another for in loop inside  a for loop for performing multiple iteration within an iteration. here is an example of nested for loop."
   ]
  },
  {
   "cell_type": "code",
   "execution_count": 830,
   "metadata": {},
   "outputs": [
    {
     "name": "stdout",
     "output_type": "stream",
     "text": [
      "Output:\n",
      "* \r\n",
      "* * \r\n",
      "* * * \r\n",
      "* * * * \r\n",
      "* * * * * \r\n"
     ]
    }
   ],
   "source": [
    "#printing triangle of astericks\n",
    "print(\"Output:\")\n",
    "for i in range(0, 5):\n",
    "    for j in range(0, i+1):\n",
    "        print(\"* \",end=\"\")\n",
    "    print(\"\\r\")"
   ]
  },
  {
   "cell_type": "markdown",
   "metadata": {},
   "source": [
    "## 5.2  While Loop: <a id=\"5.2\"></a>\n",
    "<b>=====================\n",
    "    \n",
    "Another name of this loop is conditional loop. This loop keep on iterating as long as <font color= \"red\"> <i><b> a certain condtion is true </b></i> </font>."
   ]
  },
  {
   "cell_type": "markdown",
   "metadata": {},
   "source": [
    "### Example5 : Condtional Loop:\n",
    "<b>================================="
   ]
  },
  {
   "cell_type": "code",
   "execution_count": 831,
   "metadata": {},
   "outputs": [
    {
     "name": "stdout",
     "output_type": "stream",
     "text": [
      "You have 10 lives remaining\n",
      "You have 9 lives remaining\n",
      "You have 8 lives remaining\n",
      "You have 7 lives remaining\n",
      "You have 6 lives remaining\n",
      "You have 5 lives remaining\n",
      "You have 4 lives remaining\n",
      "You have 3 lives remaining\n",
      "You have 2 lives remaining\n",
      "You have 1 lives remaining\n",
      "Game over\n"
     ]
    }
   ],
   "source": [
    "#video game goes on until you have life greater than 0 it works on while loop:\n",
    "life=10\n",
    "while(life>0):\n",
    "    print(f\"You have {life} lives remaining\")\n",
    "    life=life-1\n",
    "else:\n",
    "    print(\"Game over\")"
   ]
  },
  {
   "cell_type": "markdown",
   "metadata": {},
   "source": [
    "## 6  Function : <a id=\"6\"></a>\n",
    "<b>============\n",
    "    \n",
    "A function is defined as a block of code which only runs when we call it. We can pass data, known as parameters, into a function. A function can also return data as a result. In python we have two types of functions.\n",
    "    \n",
    "- <font color= \"red\"> <i><b>Built-in Functions: </b></i> </font>\n",
    "- <font color= \"red\"> <i><b>User define Funcitons: </b></i> </font>\n",
    "    \n",
    "### Strength: \n",
    "<b>===========\n",
    "    \n",
    "- Increase the reusability of code.\n",
    "- Gives modularity to our program.\n",
    "- Our code becomes organized if we work in modules.\n",
    "    \n",
    "### Weakness:\n",
    "<b>==============\n",
    "    \n",
    "- Call to a function and return statement takes couple of extra machine instructions which might increase the time complexity a littl bit\n",
    "    \n",
    "### Suitability:\n",
    "<b>==============\n",
    "- we use functions when we need to use same block of code at multiple places.\n",
    "    \n",
    "## 6.1  Built-in Functions : <a id=\"6.1\"></a>\n",
    "As the name suggest these are by defualt functions in the python we do not need to import them or manually write them program.\n",
    "    \n",
    "### Example1 : Built-in Functions (Numeric):\n",
    "<b>============================================"
   ]
  },
  {
   "cell_type": "code",
   "execution_count": 832,
   "metadata": {},
   "outputs": [
    {
     "name": "stdout",
     "output_type": "stream",
     "text": [
      "Output:\n",
      "bin(10)=  0b1010\n",
      "abs(10)=  10\n"
     ]
    }
   ],
   "source": [
    "number=10\n",
    "print(\"Output:\")\n",
    "#bin() is a built in function returns the binary value of the number\n",
    "print(\"bin(10)= \",bin(10))\n",
    "#abs() is a built in function return absolute value of a number\n",
    "print(\"abs(10)= \",abs(10))"
   ]
  },
  {
   "cell_type": "markdown",
   "metadata": {},
   "source": [
    "### Example2 : Built-in Functions (Objects):\n",
    "<b>============================================"
   ]
  },
  {
   "cell_type": "code",
   "execution_count": 833,
   "metadata": {},
   "outputs": [
    {
     "name": "stdout",
     "output_type": "stream",
     "text": [
      "type(name)=  <class 'str'>\n",
      "len(name)=  6\n"
     ]
    }
   ],
   "source": [
    "name= \"Mohsin\"\n",
    "#type function tells the type of object\n",
    "print(\"type(name)= \",type(name))\n",
    "#len is a built in function returns the length of object\n",
    "print(\"len(name)= \",len(name))"
   ]
  },
  {
   "cell_type": "markdown",
   "metadata": {},
   "source": [
    "## 6.2  User-defined Functions : <a id=\"6.1\"></a>\n",
    "<b>These functions are defined by user and and later called at different places in the program. we can define following type of user-defined functions.    \n",
    "\n",
    "- <font color= \"red\"> <i><b>Parametered Functions: </b></i> </font>\n",
    "- <font color= \"red\"> <i><b>Non Parametered Functions: </b></i> </font>\n",
    "- <font color= \"red\"> <i><b>Void Functions: </b></i> </font>\n",
    "- <font color= \"red\"> <i><b>Value-returning Functions: </b></i> </font>\n",
    "\n",
    "### Example3 : Parametered Functions\n",
    "<b>=======================================\n",
    "    \n",
    "In these functions we pass some values which can be used in the the block of the function."
   ]
  },
  {
   "cell_type": "code",
   "execution_count": 834,
   "metadata": {},
   "outputs": [
    {
     "name": "stdout",
     "output_type": "stream",
     "text": [
      "Output:\n",
      "Mohsin Nazakat\n"
     ]
    }
   ],
   "source": [
    "#defining a function which is taking a string a parameter\n",
    "def print_string (string):\n",
    "  print(string)\n",
    "\n",
    "string= \"Mohsin Nazakat\"\n",
    "#calling a function and passing it a parameter \"Mohsin Nazakat\"\n",
    "print(\"Output:\")\n",
    "print_string(string)"
   ]
  },
  {
   "cell_type": "markdown",
   "metadata": {},
   "source": [
    "### Example4 : Non Parametered Functions\n",
    "<b>===========================================\n",
    "    \n",
    " In these functions we do not pass any argument or parameter."
   ]
  },
  {
   "cell_type": "code",
   "execution_count": 835,
   "metadata": {},
   "outputs": [
    {
     "name": "stdout",
     "output_type": "stream",
     "text": [
      "Output:\n",
      "Mohsin Nazakat\n"
     ]
    }
   ],
   "source": [
    "#defining a function which is taking no parameter\n",
    "def print_string ():\n",
    "  print(\"Mohsin Nazakat\")\n",
    "\n",
    "#calling a function with no parameter/argument\n",
    "print(\"Output:\")\n",
    "print_string()"
   ]
  },
  {
   "cell_type": "markdown",
   "metadata": {},
   "source": [
    "### Example5 : Void Function\n",
    "<b>===========================\n",
    "    \n",
    "These functions do not retrun anything."
   ]
  },
  {
   "cell_type": "code",
   "execution_count": 836,
   "metadata": {},
   "outputs": [
    {
     "name": "stdout",
     "output_type": "stream",
     "text": [
      "Output:\n",
      "1 Mohsin Nazakat\n",
      "2 Mohsin Nazakat\n",
      "3 Mohsin Nazakat\n",
      "4 Mohsin Nazakat\n",
      "5 Mohsin Nazakat\n",
      "6 Mohsin Nazakat\n",
      "7 Mohsin Nazakat\n",
      "8 Mohsin Nazakat\n",
      "9 Mohsin Nazakat\n",
      "10 Mohsin Nazakat\n"
     ]
    }
   ],
   "source": [
    "# A function retrun no value\n",
    "def print_string ():\n",
    "    for i in range(10):\n",
    "        print(f\"{i+1} Mohsin Nazakat\")\n",
    "print(\"Output:\")\n",
    "print_string()"
   ]
  },
  {
   "cell_type": "markdown",
   "metadata": {},
   "source": [
    "### Example6 : Value-Returning Function\n",
    "<b>===========================\n",
    "    \n",
    "These functions return some value."
   ]
  },
  {
   "cell_type": "code",
   "execution_count": 837,
   "metadata": {},
   "outputs": [
    {
     "name": "stdout",
     "output_type": "stream",
     "text": [
      "Output:\n",
      "Sum= 7\n"
     ]
    }
   ],
   "source": [
    "#this function is returning some of 2 numbers\n",
    "def add(a,b):\n",
    "    return a+b\n",
    "print(\"Output:\")\n",
    "print(\"Sum=\",add(5,2))"
   ]
  },
  {
   "cell_type": "markdown",
   "metadata": {},
   "source": [
    "## 7  Lambda Function : <a id=\"7\"></a>\n",
    "<b>============================\n",
    "    \n",
    "These are the function that can be  <font color= \"red\"> <i><b> created at runtime </b></i> </font> using the construct called \"lambda\". It consist of expressions which is executed at the runtime. These functions do not have a name and return nothing. There are fews functions which takes lambda(annoymous) function as an arguement, Some of them are:\n",
    "    \n",
    "- <font color= \"red\"> <i><b> map() </b></i> </font>\n",
    "- <font color= \"red\"> <i><b> filter() </b></i> </font>\n",
    "- <font color= \"red\"> <i><b> reduce() </b></i> </font>\n",
    "    \n",
    "### Strength: \n",
    "<b>===========\n",
    "    \n",
    "- Lambad function enables us to pass function as an arguement.\n",
    "- These functions enable us to bring abstraction to the block of code.\n",
    "\n",
    "### Weakness:\n",
    "<b>==============\n",
    "    \n",
    "- These functions just executes expressions and do not return anything.\n",
    "    \n",
    "### Suitability:\n",
    "<b>==============\n",
    "- When we need to pass function as an aurgument to some other function, we use lambda functions.\n",
    "    \n",
    "    \n",
    "### Example1 : Defining Lambda Function:\n",
    "<b>============================================"
   ]
  },
  {
   "cell_type": "code",
   "execution_count": 838,
   "metadata": {},
   "outputs": [
    {
     "name": "stdout",
     "output_type": "stream",
     "text": [
      "Output:\n"
     ]
    },
    {
     "data": {
      "text/plain": [
       "5.0"
      ]
     },
     "execution_count": 838,
     "metadata": {},
     "output_type": "execute_result"
    }
   ],
   "source": [
    "#defining a lambda function:\n",
    "half_number= lambda num: num/2\n",
    "print(\"Output:\")\n",
    "half_number(10)"
   ]
  },
  {
   "cell_type": "markdown",
   "metadata": {},
   "source": [
    "### Example2 : Using lambda funtion for getting Multipliers:\n",
    "<b>============================================================="
   ]
  },
  {
   "cell_type": "code",
   "execution_count": 839,
   "metadata": {
    "scrolled": true
   },
   "outputs": [
    {
     "name": "stdout",
     "output_type": "stream",
     "text": [
      "Output:\n",
      "5 * 1 =  5\n",
      "5 * 2 =  10\n",
      "5 * 3 =  15\n",
      "5 * 4 =  20\n",
      "5 * 5 =  25\n",
      "5 * 6 =  30\n",
      "5 * 7 =  35\n",
      "5 * 8 =  40\n",
      "5 * 9 =  45\n",
      "5 * 10 =  50\n"
     ]
    }
   ],
   "source": [
    "#fuction is multiplying argument with an unknown number\n",
    "def multiplier(n):\n",
    "  return lambda a : a * n\n",
    "\n",
    "#here we set multiplier to 5 and now we have a lambda function which generates multiple of 5\n",
    "my_multiplier = multiplier(5)\n",
    "print(\"Output:\")\n",
    "for i in range (10):\n",
    "    print(f\"{5} * {i+1} = \",my_multiplier(i+1))"
   ]
  },
  {
   "cell_type": "markdown",
   "metadata": {},
   "source": [
    "## 7.1  map () : <a id=\"7.1\"></a>\n",
    "<b>==============\n",
    "    \n",
    "Map() function is used with two arguments. Just like: <font color= \"red\"> <i><b> r = map(func, seq) </b></i> </font>. It applies the function func to all the elements of the sequence seq. After applying func on seq it generates and return an updated list.\n",
    "\n",
    "- <font color= \"red\"> <i><b> func: </b></i> </font> it is function which is to be performed.\n",
    "- <font color= \"red\"> <i><b> seq: </b></i> </font> This is the sequence on which the function is to be performed.\n",
    "    \n",
    "### Example3 : Multiplying list with a number n using map():\n",
    "<b>===========================================================\n"
   ]
  },
  {
   "cell_type": "code",
   "execution_count": 840,
   "metadata": {},
   "outputs": [
    {
     "name": "stdout",
     "output_type": "stream",
     "text": [
      "Output:\n",
      "Orignal_list= [10, 20, 30, 40, 50]\n",
      "Updated_list= [20, 40, 60, 80, 100]\n"
     ]
    }
   ],
   "source": [
    "my_list= [10,20,30,40,50]\n",
    "updated_list= list(map(lambda num: num*2,my_list))\n",
    "print(\"Output:\")\n",
    "print(\"Orignal_list=\" , my_list)\n",
    "print(\"Updated_list=\" , updated_list)\n"
   ]
  },
  {
   "cell_type": "markdown",
   "metadata": {},
   "source": [
    "### Example4 : Concatinating a word using map():\n",
    "<b>===================================================="
   ]
  },
  {
   "cell_type": "code",
   "execution_count": 841,
   "metadata": {},
   "outputs": [
    {
     "name": "stdout",
     "output_type": "stream",
     "text": [
      "Output:\n",
      "Orignal_list= ['Mohsin', 'Ghulam Rasool', 'Noman', 'AbuBakar']\n",
      "Updated_list= ['Mohsin Student', 'Ghulam Rasool Student', 'Noman Student', 'AbuBakar Student']\n"
     ]
    }
   ],
   "source": [
    "my_list= [\"Mohsin\", \"Ghulam Rasool\", \"Noman\", \"AbuBakar\"]\n",
    "updated_list= list(map(lambda strr: strr+\" Student\",my_list))\n",
    "print(\"Output:\")\n",
    "print(\"Orignal_list=\" , my_list)\n",
    "print(\"Updated_list=\" , updated_list)\n"
   ]
  },
  {
   "cell_type": "markdown",
   "metadata": {},
   "source": [
    "## 7.2 filter () : <a id=\"7.2\"></a>\n",
    "<b>==============\n",
    "    \n",
    "As the name suggest filter function helps us filtering elements from a list. it takes two arguements.\n",
    "    \n",
    "- <font color= \"red\"> <i><b> func: </b></i> </font> It is the condition on which the elements are filtered out.\n",
    "- <font color= \"red\"> <i><b> seq: </b></i> </font> This is a given sequence.\n",
    "    \n",
    "### Example5 : Filtering odd numbers using filter():\n",
    "<b>====================================================\n"
   ]
  },
  {
   "cell_type": "code",
   "execution_count": 842,
   "metadata": {},
   "outputs": [
    {
     "name": "stdout",
     "output_type": "stream",
     "text": [
      "Output:\n",
      "Orignal_list= [1, 2, 3, 4, 5, 6, 7, 8, 9, 10]\n",
      "List of odd numbers= [1, 3, 5, 7, 9]\n"
     ]
    }
   ],
   "source": [
    "my_list= [1,2,3,4,5,6,7,8,9,10]\n",
    "odd_list= list(filter(lambda num: num%2 ,my_list))\n",
    "print(\"Output:\")\n",
    "print(\"Orignal_list=\" , my_list)\n",
    "print(\"List of odd numbers=\" , odd_list)\n"
   ]
  },
  {
   "cell_type": "markdown",
   "metadata": {},
   "source": [
    "### Example5 : Fitering marks less than 50:\n",
    "<b>=================================================="
   ]
  },
  {
   "cell_type": "code",
   "execution_count": 843,
   "metadata": {},
   "outputs": [
    {
     "name": "stdout",
     "output_type": "stream",
     "text": [
      "Output:\n",
      "Orignal_list= [90, 80, 30, 15, 50, 45, 100, 70, 35]\n",
      "Updated_list= [30, 15, 45, 35]\n"
     ]
    }
   ],
   "source": [
    "my_list= [90,80,30,15,50,45,100,70,35]\n",
    "updated_list= list(filter(lambda num: num<50 ,my_list))\n",
    "print(\"Output:\")\n",
    "print(\"Orignal_list=\" , my_list)\n",
    "print(\"Updated_list=\" , updated_list)"
   ]
  },
  {
   "cell_type": "markdown",
   "metadata": {},
   "source": [
    "## 7.3 reduce () : <a id=\"7.3\"></a>\n",
    "<b>==============\n",
    "\n",
    "The reduce() function in Python takes in a function and a list as an argument. The function is called with a lambda function and an iterable and a new reduced result is returned. This performs a<font color= \"red\"> <i><b> repetitive operation over the pairs of the iterable </b></i> </font> . The reduce() function belongs to the  functools module. It takes two arguements.\n",
    "    \n",
    "- <font color= \"red\"> <i><b> func: </b></i> </font> An interable function which is to be performed.\n",
    "- <font color= \"red\"> <i><b> seq: </b></i> </font> This is a given sequence.\n",
    "    \n",
    "### Example6 : Finding sum of a series:\n",
    "<b>========================================"
   ]
  },
  {
   "cell_type": "code",
   "execution_count": 844,
   "metadata": {},
   "outputs": [
    {
     "name": "stdout",
     "output_type": "stream",
     "text": [
      "Sum of series=  515\n"
     ]
    }
   ],
   "source": [
    "from functools import reduce\n",
    "#importing reduce function from the the funtools libarary\n",
    "my_list= [90,80,30,15,50,45,100,70,35]\n",
    "sum_series = reduce((lambda x, y: x + y), my_list)\n",
    "print (\"Sum of series= \", sum_series)"
   ]
  },
  {
   "cell_type": "markdown",
   "metadata": {},
   "source": [
    "### Example7 : Largest number in the series:\n",
    "<b>============================================"
   ]
  },
  {
   "cell_type": "code",
   "execution_count": 845,
   "metadata": {},
   "outputs": [
    {
     "name": "stdout",
     "output_type": "stream",
     "text": [
      "The maximum element of the list is : 100\n"
     ]
    }
   ],
   "source": [
    "import functools \n",
    "lis = [90,80,30,15,50,45,100,70,35]\n",
    "  \n",
    "# using reduce to compute maximum element from list \n",
    "print (\"The maximum element of the list is : \",end=\"\") \n",
    "print (functools.reduce(lambda a,b : a if a > b else b,lis)) "
   ]
  },
  {
   "cell_type": "markdown",
   "metadata": {},
   "source": [
    "## 8  File I/O : <a id=\"8\"></a>\n",
    "<b>=================\n",
    "\n",
    "We usually take input from either:\n",
    "    \n",
    "- <font color= \"red\"> <i><b> Buffer/Keyboard: </b></i> </font>\n",
    "- <font color= \"red\"> <i><b> File </b></i> </font>\n",
    "    \n",
    "### 8.1 From Buffer/ Keyboard: <a id=\"8.1\"></a>\n",
    "<b>==============================\n",
    "\n",
    "we simple use input() function which stores a single line stored in buffer in the form of a string. By default it returns string but we can typecaste it in other datatype as well\n",
    "    \n",
    "### Example1 : Taking Input using keyboard / buffer:\n",
    "<b>====================================================="
   ]
  },
  {
   "cell_type": "code",
   "execution_count": 846,
   "metadata": {},
   "outputs": [
    {
     "name": "stdout",
     "output_type": "stream",
     "text": [
      "Enter your name:Mohsin Nazakat\n",
      "Type:  <class 'str'>\n"
     ]
    }
   ],
   "source": [
    "name = input(\"Enter your name:\")\n",
    "print(\"Type: \",type(name))\n"
   ]
  },
  {
   "cell_type": "markdown",
   "metadata": {},
   "source": [
    "### Example2 : Taking integer input:\n",
    "<b>==================================="
   ]
  },
  {
   "cell_type": "code",
   "execution_count": 847,
   "metadata": {},
   "outputs": [
    {
     "name": "stdout",
     "output_type": "stream",
     "text": [
      "Enter first number 10\n",
      "Enter second number 20\n",
      "Output:\n",
      "30\n",
      "type: <class 'int'>\n"
     ]
    }
   ],
   "source": [
    "#taking input and casting it to integer\n",
    "num1= int (input(\"Enter first number \"))\n",
    "num2= int (input(\"Enter second number \"))\n",
    "result =num1+num2\n",
    "print(\"Output:\")\n",
    "print(result)\n",
    "print(\"type:\",type(result))"
   ]
  },
  {
   "cell_type": "markdown",
   "metadata": {},
   "source": [
    "### 8.2 From File: <a id=\"8.2\"></a>\n",
    "<b>==============\n",
    "    \n",
    "In python we can read/write a file in following modes:\n",
    "    \n",
    "- <font color= \"red\"> <i><b> r </b></i> </font> opens a file in read only mode.\n",
    "- <font color= \"red\"> <i><b> r+ </b></i> </font> opens a file read and write mode.\n",
    "- <font color= \"red\"> <i><b> w </b></i> </font> opens a file in write mode only.\n",
    "- <font color= \"red\"> <i><b> a </b></i> </font> opens a file in append mode\n",
    "- <font color= \"red\"> <i><b> a+ </b></i> </font> opens a file in append and read mode.\n",
    "    \n",
    "### Example3 : Reading input from file:\n",
    "<b>====================================="
   ]
  },
  {
   "cell_type": "code",
   "execution_count": 848,
   "metadata": {},
   "outputs": [
    {
     "name": "stdout",
     "output_type": "stream",
     "text": [
      "Reading data from file----\n",
      "Output:\n",
      "Name: Mohsin Nazakat\n",
      "Reg no: FA18-BCS-052\n"
     ]
    }
   ],
   "source": [
    "#createing a new file\n",
    "f = open(\"mohsin.txt\", \"w\")\n",
    "\n",
    "#Inserting initial data in file\n",
    "f = open(\"mohsin.txt\", \"r+\")\n",
    "f.write(\"Name: Mohsin Nazakat\\nReg no: FA18-BCS-052\")\n",
    "f.close()\n",
    "\n",
    "#opening file in r+ mode\n",
    "my_file = open(\"mohsin.txt\", \"r+\")\n",
    "text=my_file.read()\n",
    "#reading text  from the file\n",
    "print(\"Reading data from file----\")\n",
    "print(\"Output:\")\n",
    "print(text)\n",
    "#closing the file\n",
    "my_file.close()\n"
   ]
  },
  {
   "cell_type": "markdown",
   "metadata": {},
   "source": [
    "### Example4 : Writing data to file:\n",
    "<b>================================"
   ]
  },
  {
   "cell_type": "code",
   "execution_count": 849,
   "metadata": {},
   "outputs": [
    {
     "name": "stdout",
     "output_type": "stream",
     "text": [
      "Reading data from file----\n",
      "Output:\n",
      "Name: Mohsin Nazakat\n",
      "Reg no: FA18-BCS-052\n",
      "Dept: Computer Science \n"
     ]
    }
   ],
   "source": [
    "#opening file in a+ mode\n",
    "my_file = open(\"mohsin.txt\", \"a+\")\n",
    "text=my_file.write(\"\\nDept: Computer Science \")\n",
    "#closing the file\n",
    "my_file.close()\n",
    "\n",
    "my_file = open(\"mohsin.txt\", \"r+\")\n",
    "text=my_file.read()\n",
    "#reading text  from the file\n",
    "print(\"Reading data from file----\")\n",
    "print(\"Output:\")\n",
    "print(text)\n",
    "#closing the file\n",
    "my_file.close()\n"
   ]
  },
  {
   "cell_type": "markdown",
   "metadata": {},
   "source": [
    "### 8.3 Positioning : <a id=\"8.3\"></a>\n",
    "<b>===================\n",
    "    \n",
    "While reading or writing a file we deal with <font color= \"red\"> <i><b> File handle which is like a cursor </b></i> </font>. It defines from where the data has to be read or written in the file. We have following functions in python which deal with position of file handle:\n",
    "    \n",
    "- <font color= \"red\"> <i><b> tell() </b></i> </font>: tells the current position of file handle.\n",
    "- <font color= \"red\"> <i><b> seek() </b></i> </font>: change the current position of file handle.\n",
    "    \n",
    "### Example5 : Checking Current Position:\n",
    "<b>========================================="
   ]
  },
  {
   "cell_type": "code",
   "execution_count": 850,
   "metadata": {},
   "outputs": [
    {
     "name": "stdout",
     "output_type": "stream",
     "text": [
      "Name: Mohs\n",
      "Position:  10\n"
     ]
    }
   ],
   "source": [
    "my_file= open(\"mohsin.txt\",\"r+\")\n",
    "data= my_file.read(10)\n",
    "print(data)\n",
    "#checking postion of file handle\n",
    "position= my_file.tell()\n",
    "print(\"Position: \",position)"
   ]
  },
  {
   "cell_type": "markdown",
   "metadata": {},
   "source": [
    "### Example6 : Changing position of file handle:\n",
    "<b>==============================================="
   ]
  },
  {
   "cell_type": "code",
   "execution_count": 851,
   "metadata": {},
   "outputs": [
    {
     "name": "stdout",
     "output_type": "stream",
     "text": [
      "Name: Mohs\n"
     ]
    }
   ],
   "source": [
    "#Now setting file handle to begining again\n",
    "position= my_file.seek(0,0)\n",
    "print(my_file.read(10))\n",
    "my_file.close()\n"
   ]
  },
  {
   "cell_type": "markdown",
   "metadata": {},
   "source": [
    "## 9  Introduction to Pandas : <a id=\"9\"></a>\n",
    "<b>==================================\n",
    "\n",
    "In computer programming, <font color= \"red\"> <i><b>pandas is a software library written for the Python programming language for data manipulation and analysis </b></i> </font>. In particular, it offers data structures and operations for manipulating numerical tables and time series. It is free software released under the three-clause BSD license\n",
    "    \n",
    "    \n",
    "### 9.1 History : <a id=\"9.1\"></a>\n",
    "<b>==============\n",
    "    \n",
    "In 2008, pandas development began at AQR Capital Management. By the end of 2009 it had been open sourced. Since 2015, pandas is a NumFOCUS sponsored project. \n",
    "\n",
    "### Timeline:\n",
    "- <font color= \"red\"> <i><b> 2008</b></i> </font>: Development of pandas started\n",
    "- <font color= \"red\"> <i><b> 2009 </b></i> </font>: pandas becomes open source\n",
    "- <font color= \"red\"> <i><b>2012 </b></i> </font>: First edition of Python for Data Analysis is published\n",
    "- <font color= \"red\"> <i><b> 2015 </b></i> </font>: pandas becomes a NumFOCUS sponsored project\n",
    "- <font color= \"red\"> <i><b> 2018 </b></i> </font>: First in-person core developer sprint\n",
    "    \n",
    "### 9.2 Features : <a id=\"9.2\"></a>\n",
    "<b>==============\n",
    "    \n",
    "- A fast and efficient <font color= \"red\"> <i><b> DataFrame </b></i> </font> object for data manipulation with integrated indexing;\n",
    "\n",
    "- Tools for <font color= \"red\"> <i><b>reading and writing data </b></i> </font> between in-memory data structures and different formats: CSV and text files, Microsoft Excel, SQL databases, and the fast HDF5 format;\n",
    "\n",
    "- Intelligent <font color= \"red\"> <i><b> data alignment </b></i> </font> and integrated handling of missing data: gain automatic label-based alignment in computations and easily manipulate messy data into an orderly form;\n",
    "\n",
    "- Flexible <font color= \"red\"> <i><b> data alignment </b></i> </font> and pivoting of data sets;\n",
    "\n",
    "- Intelligent <font color= \"red\"> <i><b> label-based slicing, fancy indexing </b></i> </font>, and subsetting of large data sets;\n",
    "\n",
    "- Columns can be inserted and deleted from data structures for <font color= \"red\"> <i><b> size mutability </b></i> </font> ;\n",
    "\n",
    "- Aggregating or transforming data with a powerful <font color= \"red\"> <i><b> group by </b></i> </font>  engine allowing split-apply-combine operations on data sets;\n",
    "\n",
    "- High performance <font color= \"red\"> <i><b>  merging and joining </b></i> </font> of data sets;\n",
    "\n",
    "- <font color= \"red\"> <i><b>  Hierarchical axis indexing </b></i> </font> provides an intuitive way of working with high-dimensional data in a lower-dimensional data structure;\n",
    "\n",
    "- <font color= \"red\"> <i><b> Time series</b></i> </font>-functionality: date range generation and frequency conversion, moving window statistics, date shifting and lagging. Even create domain-specific time offsets and join time series without losing data;\n",
    "\n",
    "-  <font color= \"red\"> <i><b> Highly optimized for performance </b></i> </font>, with critical code paths written in Cython or C.\n",
    "\n",
    "- Python with pandas is in use in a wide variety of <font color= \"red\"> <i><b> academic and commercial </b></i> </font> domains, including Finance, Neuroscience, Economics, Statistics, Advertising, Web Analytics, and more.\n",
    "    \n",
    "### 9.3 Purpose : <a id=\"9.3\"></a>\n",
    "<b>==============\n",
    "    \n",
    "The purpose of Pandas is make data analytics and manipulation:\n",
    "\n",
    "- Accessible to everyone\n",
    "- Free for users to use and modify\n",
    "- Flexible\n",
    "- Powerful\n",
    "- Easy to use\n",
    "- Fast\n",
    "    \n",
    "    \n",
    "## 10  Series in Pandas : <a id=\"10\"></a>\n",
    "<b>===============================\n",
    "    \n",
    "In python Series is a one-dimensional labeled array which can hold data of any type (integer, string, float, python objects, etc.). The axis labels are collectively called index.\n",
    "    \n",
    "### 10.1  Defination:\n",
    "<b>==================\n",
    " \n",
    " <font color= \"red\" size=\"5px\"> <i><b> class pandas.Series</b></i> </font>(data=None, index=None, dtype=None, name=None, copy=False, fastpath=False) wheares,\n",
    "    \n",
    "  <br>  \n",
    "    \n",
    "- <font color= \"red\"> <i><b> data</b></i> </font>: Contains data stored in Series. If data is a dict, argument order is maintained.\n",
    "- <font color= \"red\"> <i><b> index</b></i> </font>: Values must be hashable and have the same length as data. Non-unique index values are allowed. Will default to RangeIndex (0, 1, 2, …, n) if not provided\n",
    "- <font color= \"red\"> <i><b> dtype</b></i> </font>: Data type for the output Series. If not specified, this will be inferred from data. \n",
    "\n",
    "- <font color= \"red\"> <i><b> name</b></i> </font>: The name to give to the Series.\n",
    "\n",
    "- <font color= \"red\"> <i><b> copy</b></i> </font>: Copy input data.\n",
    "    \n",
    "We can create series from \n",
    "    \n",
    "- <font color= \"red\"> <i><b> Array</b></i> </font>\n",
    "- <font color= \"red\"> <i><b> dict</b></i> </font>\n",
    "- <font color= \"red\"> <i><b> Scaler Value </b></i> </font>\n",
    "\n",
    "\n",
    "\n",
    "### 10.2  Creating series from dict: <a id=\"10.2\"></a>\n",
    "<b>=================================="
   ]
  },
  {
   "cell_type": "code",
   "execution_count": 852,
   "metadata": {},
   "outputs": [
    {
     "name": "stdout",
     "output_type": "stream",
     "text": [
      "a    1\n",
      "b    2\n",
      "c    3\n",
      "dtype: int64\n"
     ]
    }
   ],
   "source": [
    "import pandas as pd\n",
    "my_dict = {'a': 1, 'b': 2, 'c': 3}\n",
    "my_series = pd.Series(data=my_dict, index=['a', 'b', 'c'])\n",
    "print(my_series)\n",
    "\n"
   ]
  },
  {
   "cell_type": "markdown",
   "metadata": {},
   "source": [
    "### 10.3  Creating series from ndarray: <a id=\"10.3\"></a>\n",
    "<b>====================================\n",
    "    \n",
    "- In case of <font color= \"red\"> <i><b> ndaray </b></i> </font> index must be the same length as data.\n",
    "- if <font color= \"red\"> <i><b> no index </b></i> </font> is passed by default it will be  set from [0,1....size -1]\n",
    "    \n",
    "    \n",
    "#### When index is specified:\n",
    "<b>====================="
   ]
  },
  {
   "cell_type": "code",
   "execution_count": 853,
   "metadata": {},
   "outputs": [
    {
     "name": "stdout",
     "output_type": "stream",
     "text": [
      "a    0.852657\n",
      "b   -0.445937\n",
      "c   -1.992237\n",
      "d   -1.883840\n",
      "e   -0.317084\n",
      "dtype: float64\n"
     ]
    }
   ],
   "source": [
    "import numpy as np\n",
    "#creating series with indexes.\n",
    "my_series = pd.Series(np.random.randn(5), index=['a', 'b', 'c', 'd', 'e'])\n",
    "print (my_series)\n"
   ]
  },
  {
   "cell_type": "code",
   "execution_count": 854,
   "metadata": {},
   "outputs": [
    {
     "data": {
      "text/plain": [
       "Index(['a', 'b', 'c', 'd', 'e'], dtype='object')"
      ]
     },
     "execution_count": 854,
     "metadata": {},
     "output_type": "execute_result"
    }
   ],
   "source": [
    "#here are the index we assigned to series\n",
    "my_series.index"
   ]
  },
  {
   "cell_type": "markdown",
   "metadata": {},
   "source": [
    "#### When index is not specified:\n",
    "<b>========================"
   ]
  },
  {
   "cell_type": "code",
   "execution_count": 855,
   "metadata": {},
   "outputs": [
    {
     "data": {
      "text/plain": [
       "0    0.316303\n",
       "1   -0.222402\n",
       "2    0.407182\n",
       "3   -1.304081\n",
       "4    0.396569\n",
       "dtype: float64"
      ]
     },
     "execution_count": 855,
     "metadata": {},
     "output_type": "execute_result"
    }
   ],
   "source": [
    "pd.Series(np.random.randn(5))\n",
    "#here you can see that, the index is starting from 0,1... size-1"
   ]
  },
  {
   "cell_type": "markdown",
   "metadata": {},
   "source": [
    "### 10.4  Creating series from scaler values: <a id=\"10.4\"></a>\n",
    "<b>=========================================="
   ]
  },
  {
   "cell_type": "code",
   "execution_count": 856,
   "metadata": {},
   "outputs": [
    {
     "data": {
      "text/plain": [
       "a    1\n",
       "b    1\n",
       "c    1\n",
       "d    1\n",
       "e    1\n",
       "dtype: int64"
      ]
     },
     "execution_count": 856,
     "metadata": {},
     "output_type": "execute_result"
    }
   ],
   "source": [
    "pd.Series(1,  index=['a','b','c','d','e'])\n"
   ]
  },
  {
   "cell_type": "markdown",
   "metadata": {},
   "source": [
    "### 10.5  Accessing Series : <a id=\"10.5\"></a>\n",
    "<b>==========================================\n",
    "    \n",
    "#### By Index : \n",
    "<b>=========="
   ]
  },
  {
   "cell_type": "code",
   "execution_count": 857,
   "metadata": {},
   "outputs": [
    {
     "name": "stdout",
     "output_type": "stream",
     "text": [
      "Output:\n",
      "Values in series:\n",
      "0.8526565292218028\n",
      "-0.4459370591736289\n",
      "-1.992237280562101\n",
      "-1.883839682458662\n",
      "-0.31708353340386874\n",
      "\n",
      "Index-by-Index Values\n",
      "index[0] 0.8526565292218028\n",
      "index[1] -0.4459370591736289\n",
      "index[2] -1.992237280562101\n",
      "index[3] -1.883839682458662\n",
      "index[4] -0.31708353340386874\n"
     ]
    }
   ],
   "source": [
    "print(\"Output:\")\n",
    "print(\"Values in series:\")\n",
    "for i in my_series:\n",
    "    print(i)\n",
    "#or we can print it index-by-index\n",
    "print(\"\\nIndex-by-Index Values\")\n",
    "for i in range (my_series.size):\n",
    "    print(f\"index[{i}]\", my_series[i])"
   ]
  },
  {
   "cell_type": "markdown",
   "metadata": {},
   "source": [
    "#### By Multiple Index : \n",
    "<b>==============="
   ]
  },
  {
   "cell_type": "code",
   "execution_count": 858,
   "metadata": {},
   "outputs": [
    {
     "name": "stdout",
     "output_type": "stream",
     "text": [
      "b   -0.445937\n",
      "e   -0.317084\n",
      "a    0.852657\n",
      "dtype: float64\n"
     ]
    }
   ],
   "source": [
    "#we can print selected indexes as well\n",
    "print(my_series[[1,4,0]])"
   ]
  },
  {
   "cell_type": "markdown",
   "metadata": {},
   "source": [
    "#### By Labeled Index : \n",
    "<b>================"
   ]
  },
  {
   "cell_type": "code",
   "execution_count": 859,
   "metadata": {},
   "outputs": [
    {
     "name": "stdout",
     "output_type": "stream",
     "text": [
      "0.8526565292218028\n",
      "-0.4459370591736289\n",
      "-1.992237280562101\n",
      "-1.883839682458662\n",
      "-0.31708353340386874\n",
      "a    0.852657\n",
      "b   -0.445937\n",
      "c   -1.992237\n",
      "dtype: float64\n"
     ]
    }
   ],
   "source": [
    "print(my_series['a'])\n",
    "print(my_series['b'])\n",
    "print(my_series['c'])\n",
    "print(my_series['d'])\n",
    "print(my_series['e'])\n",
    "\n",
    "print(my_series[['a','b','c']])\n"
   ]
  },
  {
   "cell_type": "markdown",
   "metadata": {},
   "source": [
    "#### By get method : \n",
    "<b>================"
   ]
  },
  {
   "cell_type": "code",
   "execution_count": 860,
   "metadata": {},
   "outputs": [
    {
     "name": "stdout",
     "output_type": "stream",
     "text": [
      "0.8526565292218028\n",
      "-0.4459370591736289\n",
      "-1.992237280562101\n",
      "-1.883839682458662\n",
      "-0.31708353340386874\n"
     ]
    }
   ],
   "source": [
    "print(my_series.get('a'))\n",
    "print(my_series.get('b'))\n",
    "print(my_series.get('c'))\n",
    "print(my_series.get('d'))\n",
    "print(my_series.get('e'))"
   ]
  },
  {
   "cell_type": "markdown",
   "metadata": {},
   "source": [
    "### 10.6  Performing operations on series : <a id=\"10.6\"></a>\n",
    "<b>==========================================\n",
    "    \n",
    "#### Finding Median : \n",
    "<b>================"
   ]
  },
  {
   "cell_type": "code",
   "execution_count": 861,
   "metadata": {},
   "outputs": [
    {
     "name": "stdout",
     "output_type": "stream",
     "text": [
      "<bound method Series.median of a    0.852657\n",
      "b   -0.445937\n",
      "c   -1.992237\n",
      "d   -1.883840\n",
      "e   -0.317084\n",
      "dtype: float64>\n"
     ]
    }
   ],
   "source": [
    "print(my_series.median)"
   ]
  },
  {
   "cell_type": "markdown",
   "metadata": {},
   "source": [
    "#### Finding exponent : \n",
    "<b>================"
   ]
  },
  {
   "cell_type": "code",
   "execution_count": 862,
   "metadata": {},
   "outputs": [
    {
     "data": {
      "text/plain": [
       "a    2.345870\n",
       "b    0.640224\n",
       "c    0.136390\n",
       "d    0.152005\n",
       "e    0.728270\n",
       "dtype: float64"
      ]
     },
     "execution_count": 862,
     "metadata": {},
     "output_type": "execute_result"
    }
   ],
   "source": [
    "np.exp(my_series)"
   ]
  },
  {
   "cell_type": "markdown",
   "metadata": {},
   "source": [
    "#### Poping elements from series : \n",
    "<b>========================="
   ]
  },
  {
   "cell_type": "code",
   "execution_count": 863,
   "metadata": {},
   "outputs": [
    {
     "name": "stdout",
     "output_type": "stream",
     "text": [
      "Output:\n",
      "series before poping\n",
      "a    1\n",
      "b    1\n",
      "c    1\n",
      "d    1\n",
      "e    1\n",
      "dtype: int64\n",
      "series after poping\n",
      "a    1\n",
      "c    1\n",
      "d    1\n",
      "e    1\n",
      "dtype: int64\n",
      "poped_value= 1\n"
     ]
    }
   ],
   "source": [
    "my_series1 =pd.Series(1,  index=['a','b','c','d','e'])\n",
    "print(\"Output:\")\n",
    "print(\"series before poping\")\n",
    "print(my_series1)\n",
    "poped_value= my_series1.pop(\"b\")\n",
    "\n",
    "print(\"series after poping\")\n",
    "print(my_series1)\n",
    "print(\"poped_value=\", poped_value)\n"
   ]
  },
  {
   "cell_type": "markdown",
   "metadata": {},
   "source": [
    "#### Shape and size of series series : \n",
    "<b>==========================="
   ]
  },
  {
   "cell_type": "code",
   "execution_count": 864,
   "metadata": {},
   "outputs": [
    {
     "name": "stdout",
     "output_type": "stream",
     "text": [
      "Shape of series:  (5,)\n",
      "Size of series:  5\n"
     ]
    }
   ],
   "source": [
    "print(\"Shape of series: \",my_series.shape)\n",
    "print(\"Size of series: \", my_series.size)"
   ]
  },
  {
   "cell_type": "markdown",
   "metadata": {},
   "source": [
    "### 10.7  Vectorized operations on series : <a id=\"10.7\"></a>\n",
    "<b>========================================\n",
    "    \n",
    "#### Addition of series: \n",
    "<b>================"
   ]
  },
  {
   "cell_type": "code",
   "execution_count": 865,
   "metadata": {},
   "outputs": [
    {
     "name": "stdout",
     "output_type": "stream",
     "text": [
      "series3\n",
      " a    1\n",
      "b    1\n",
      "c    1\n",
      "d    1\n",
      "e    1\n",
      "dtype: int64\n",
      "series4\n",
      " a    1\n",
      "b    1\n",
      "c    1\n",
      "d    1\n",
      "e    1\n",
      "dtype: int64\n",
      "sum of series \n",
      " a    2\n",
      "b    2\n",
      "c    2\n",
      "d    2\n",
      "e    2\n",
      "dtype: int64\n"
     ]
    }
   ],
   "source": [
    "my_series3 =pd.Series(1,  index=['a','b','c','d','e'])\n",
    "my_series4 =pd.Series(1,  index=['a','b','c','d','e'])\n",
    "print(\"series3\\n\",my_series3)\n",
    "print(\"series4\\n\",my_series4)\n",
    "\n",
    "print(\"sum of series \\n\",my_series3+my_series4)\n",
    "\n",
    "# following will add the data of respective values of indexes. For example, in given output, it is calculate\n",
    "# d as:\n",
    "# a = s['a'] + s['a']\n",
    "# b = s['b'] + s['b']\n",
    "# c = s['c'] + s['c']\n",
    "# d = s['d'] + s['d']\n",
    "# e = s['e'] + s['e']\n",
    "\n"
   ]
  },
  {
   "cell_type": "markdown",
   "metadata": {},
   "source": [
    "#### Scaler multiplication of series: \n",
    "<b>========================="
   ]
  },
  {
   "cell_type": "code",
   "execution_count": 866,
   "metadata": {},
   "outputs": [
    {
     "name": "stdout",
     "output_type": "stream",
     "text": [
      "Output:\n",
      "a    2\n",
      "b    2\n",
      "c    2\n",
      "d    2\n",
      "e    2\n",
      "dtype: int64\n"
     ]
    }
   ],
   "source": [
    "print (\"Output:\")\n",
    "print (my_series3*2)\n",
    "#following will multiply the data of each values of indexes, with 2. For example, in given output, it is ca\n",
    "#lculated as:\n",
    "#a = s['a'] *2\n",
    "#b = s['b'] *2\n",
    "#c = s['c'] *2\n",
    "#d = s['d'] *2\n",
    "#e = s['e'] *2"
   ]
  },
  {
   "cell_type": "markdown",
   "metadata": {},
   "source": [
    "### 10.8  Naming of series : <a id=\"10.8\"></a>\n",
    "<b>=========================="
   ]
  },
  {
   "cell_type": "code",
   "execution_count": 867,
   "metadata": {},
   "outputs": [
    {
     "name": "stdout",
     "output_type": "stream",
     "text": [
      "Output:\n",
      "Name of series:  random array\n"
     ]
    }
   ],
   "source": [
    "my_series3 =pd.Series(1,  index=['a','b','c','d','e'], name=\"random array\")\n",
    "print(\"Output:\")\n",
    "print(\"Name of series: \", my_series3.name)"
   ]
  },
  {
   "cell_type": "markdown",
   "metadata": {},
   "source": [
    "#### Renaming series: \n",
    "<b>==================="
   ]
  },
  {
   "cell_type": "code",
   "execution_count": 868,
   "metadata": {},
   "outputs": [
    {
     "name": "stdout",
     "output_type": "stream",
     "text": [
      "Output:\n",
      "Name of series: super random array\n"
     ]
    }
   ],
   "source": [
    "my_series4 =my_series3.rename(\"super random array\")\n",
    "print(\"Output:\")\n",
    "print(\"Name of series:\", my_series4.name)"
   ]
  },
  {
   "cell_type": "markdown",
   "metadata": {},
   "source": [
    "## 11  DataFrame in Pandas : <a id=\"11\"></a>\n",
    "<b>===============================\n",
    "    \n",
    "In Pandas DataFrame is In case of <font color= \"red\"> <i><b> two-dimensional size-mutable, potentially heterogeneous tabular data structure </b></i> </font> with labeled axes (rows and columns).Three major components of DataFrames are:\n",
    "    \n",
    "- <font color= \"red\"> <i><b> Rows </b></i> </font>\n",
    "- <font color= \"red\"> <i><b> Columns </b></i> </font>\n",
    "- <font color= \"red\"> <i><b> Data </b></i> </font>\n",
    "    \n",
    "    \n",
    "### 11.1  Defination: <a id=\"11\"></a>\n",
    "<b>==================\n",
    " \n",
    " <font color= \"red\" size=\"5px\"> <i><b> class pandas.DataFrame</b></i> </font>(data=None, index=None, columns=None, dtype=None, copy=False) wheares,\n",
    "    \n",
    "  <br>  \n",
    "    \n",
    "- <font color= \"red\" > <i><b> data</b></i> </font>: Dict can contain Series, arrays, constants, dataclass or list-like objects. If data is a dict, column order follows insertion-order. <font color= \"red\"> <i><b> Changed in version 0.25.0:  </b></i> </font> If data is a list of dicts, column order follows insertion-order\n",
    "    \n",
    "    \n",
    "- <font color= \"red\"> <i><b> index</b></i> </font>: Index to use for resulting frame. Will default to RangeIndex if no indexing information part of input data and no index provided.\n",
    "- <font color= \"red\"> <i><b> column </b></i> </font>: Column labels to use for resulting frame. Will default to RangeIndex (0, 1, 2, …, n) if no column labels are provided.\n",
    "\n",
    "- <font color= \"red\"> <i><b> dtype </b></i> </font>: Data type to force. Only a single dtype is allowed. If None, infer.\n",
    "\n",
    "- <font color= \"red\"> <i><b> copy</b></i> </font>: Copy data from inputs. Only affects DataFrame / 2d ndarray input.\n",
    "    \n",
    "DataFrame accepts following kinds of inputs:\n",
    "- <font color= \"red\"> <i><b> Dict of 1D ndarrys,lists,dicts or Series </b></i> </font>\n",
    "- <font color= \"red\"> <i><b> 2D numpy.ndarray </b></i> </font>\n",
    "- <font color= \"red\"> <i><b> Structured or record ndarray </b></i> </font>\n",
    "- <font color= \"red\"> <i><b> A series </b></i> </font>\n",
    "- <font color= \"red\"> <i><b> Another DataFrame </b></i> </font>\n",
    "\n",
    "\n",
    "\n",
    "\n",
    "### 10.2  Creating DataFrame from List: <a id=\"10.2\"></a>\n",
    "<b>======================================\n",
    "\n",
    "#### With no index and columns: \n",
    "<b>==============================="
   ]
  },
  {
   "cell_type": "code",
   "execution_count": 869,
   "metadata": {},
   "outputs": [
    {
     "name": "stdout",
     "output_type": "stream",
     "text": [
      "Output:\n"
     ]
    },
    {
     "data": {
      "text/html": [
       "<div>\n",
       "<style scoped>\n",
       "    .dataframe tbody tr th:only-of-type {\n",
       "        vertical-align: middle;\n",
       "    }\n",
       "\n",
       "    .dataframe tbody tr th {\n",
       "        vertical-align: top;\n",
       "    }\n",
       "\n",
       "    .dataframe thead th {\n",
       "        text-align: right;\n",
       "    }\n",
       "</style>\n",
       "<table border=\"1\" class=\"dataframe\">\n",
       "  <thead>\n",
       "    <tr style=\"text-align: right;\">\n",
       "      <th></th>\n",
       "      <th>0</th>\n",
       "    </tr>\n",
       "  </thead>\n",
       "  <tbody>\n",
       "    <tr>\n",
       "      <th>0</th>\n",
       "      <td>biryani</td>\n",
       "    </tr>\n",
       "    <tr>\n",
       "      <th>1</th>\n",
       "      <td>pulao</td>\n",
       "    </tr>\n",
       "    <tr>\n",
       "      <th>2</th>\n",
       "      <td>karahi</td>\n",
       "    </tr>\n",
       "    <tr>\n",
       "      <th>3</th>\n",
       "      <td>saji</td>\n",
       "    </tr>\n",
       "  </tbody>\n",
       "</table>\n",
       "</div>"
      ],
      "text/plain": [
       "         0\n",
       "0  biryani\n",
       "1    pulao\n",
       "2   karahi\n",
       "3     saji"
      ]
     },
     "execution_count": 869,
     "metadata": {},
     "output_type": "execute_result"
    }
   ],
   "source": [
    "my_list=['biryani', 'pulao', 'karahi','saji']\n",
    "my_dataframe= pd.DataFrame(my_list)\n",
    "print(\"Output:\")\n",
    "my_dataframe\n",
    "#default  index and column are set "
   ]
  },
  {
   "cell_type": "markdown",
   "metadata": {},
   "source": [
    "#### With provided index and columns: \n",
    "<b>==============================="
   ]
  },
  {
   "cell_type": "code",
   "execution_count": 870,
   "metadata": {},
   "outputs": [
    {
     "name": "stdout",
     "output_type": "stream",
     "text": [
      "Output:\n"
     ]
    },
    {
     "data": {
      "text/html": [
       "<div>\n",
       "<style scoped>\n",
       "    .dataframe tbody tr th:only-of-type {\n",
       "        vertical-align: middle;\n",
       "    }\n",
       "\n",
       "    .dataframe tbody tr th {\n",
       "        vertical-align: top;\n",
       "    }\n",
       "\n",
       "    .dataframe thead th {\n",
       "        text-align: right;\n",
       "    }\n",
       "</style>\n",
       "<table border=\"1\" class=\"dataframe\">\n",
       "  <thead>\n",
       "    <tr style=\"text-align: right;\">\n",
       "      <th></th>\n",
       "      <th>Dish</th>\n",
       "    </tr>\n",
       "  </thead>\n",
       "  <tbody>\n",
       "    <tr>\n",
       "      <th>a</th>\n",
       "      <td>biryani</td>\n",
       "    </tr>\n",
       "    <tr>\n",
       "      <th>b</th>\n",
       "      <td>pulao</td>\n",
       "    </tr>\n",
       "    <tr>\n",
       "      <th>c</th>\n",
       "      <td>karahi</td>\n",
       "    </tr>\n",
       "    <tr>\n",
       "      <th>d</th>\n",
       "      <td>saji</td>\n",
       "    </tr>\n",
       "  </tbody>\n",
       "</table>\n",
       "</div>"
      ],
      "text/plain": [
       "      Dish\n",
       "a  biryani\n",
       "b    pulao\n",
       "c   karahi\n",
       "d     saji"
      ]
     },
     "execution_count": 870,
     "metadata": {},
     "output_type": "execute_result"
    }
   ],
   "source": [
    "my_list=['biryani', 'pulao', 'karahi','saji']\n",
    "my_dataframe= pd.DataFrame(my_list, index=['a','b','c','d'], columns=['Dish'])\n",
    "print(\"Output:\")\n",
    "my_dataframe\n",
    "#Given index and column are set "
   ]
  },
  {
   "cell_type": "markdown",
   "metadata": {},
   "source": [
    "### 11.3  From dict of series: <a id=\"11.3\"></a>\n",
    "<b>============================\n",
    "- The result index will be the union of the indexes of the various Series.\n",
    "- If there are any nested dicts, these will be first converted to Series.\n",
    "- If no columns are passed, the columns will be the sorted list of dict keys.\n",
    "<br>\n",
    "\n",
    "\n",
    "#### Index given Column not given: \n",
    "<b>=========================="
   ]
  },
  {
   "cell_type": "code",
   "execution_count": 871,
   "metadata": {},
   "outputs": [
    {
     "data": {
      "text/html": [
       "<div>\n",
       "<style scoped>\n",
       "    .dataframe tbody tr th:only-of-type {\n",
       "        vertical-align: middle;\n",
       "    }\n",
       "\n",
       "    .dataframe tbody tr th {\n",
       "        vertical-align: top;\n",
       "    }\n",
       "\n",
       "    .dataframe thead th {\n",
       "        text-align: right;\n",
       "    }\n",
       "</style>\n",
       "<table border=\"1\" class=\"dataframe\">\n",
       "  <thead>\n",
       "    <tr style=\"text-align: right;\">\n",
       "      <th></th>\n",
       "      <th>one</th>\n",
       "      <th>two</th>\n",
       "    </tr>\n",
       "  </thead>\n",
       "  <tbody>\n",
       "    <tr>\n",
       "      <th>a</th>\n",
       "      <td>1.0</td>\n",
       "      <td>1.0</td>\n",
       "    </tr>\n",
       "    <tr>\n",
       "      <th>b</th>\n",
       "      <td>2.0</td>\n",
       "      <td>2.0</td>\n",
       "    </tr>\n",
       "    <tr>\n",
       "      <th>c</th>\n",
       "      <td>3.0</td>\n",
       "      <td>3.0</td>\n",
       "    </tr>\n",
       "    <tr>\n",
       "      <th>d</th>\n",
       "      <td>NaN</td>\n",
       "      <td>4.0</td>\n",
       "    </tr>\n",
       "  </tbody>\n",
       "</table>\n",
       "</div>"
      ],
      "text/plain": [
       "   one  two\n",
       "a  1.0  1.0\n",
       "b  2.0  2.0\n",
       "c  3.0  3.0\n",
       "d  NaN  4.0"
      ]
     },
     "execution_count": 871,
     "metadata": {},
     "output_type": "execute_result"
    }
   ],
   "source": [
    "my_dict = {\n",
    " 'one' : pd.Series([1., 2., 3.], index=['a', 'b', 'c']),\n",
    " 'two' : pd.Series([1., 2., 3., 4.], index=['a', 'b', 'c', 'd'])\n",
    " }\n",
    "\n",
    "my_dataFrame = pd.DataFrame(my_dict)\n",
    "my_dataFrame\n"
   ]
  },
  {
   "cell_type": "code",
   "execution_count": 872,
   "metadata": {},
   "outputs": [
    {
     "data": {
      "text/html": [
       "<div>\n",
       "<style scoped>\n",
       "    .dataframe tbody tr th:only-of-type {\n",
       "        vertical-align: middle;\n",
       "    }\n",
       "\n",
       "    .dataframe tbody tr th {\n",
       "        vertical-align: top;\n",
       "    }\n",
       "\n",
       "    .dataframe thead th {\n",
       "        text-align: right;\n",
       "    }\n",
       "</style>\n",
       "<table border=\"1\" class=\"dataframe\">\n",
       "  <thead>\n",
       "    <tr style=\"text-align: right;\">\n",
       "      <th></th>\n",
       "      <th>one</th>\n",
       "      <th>two</th>\n",
       "    </tr>\n",
       "  </thead>\n",
       "  <tbody>\n",
       "    <tr>\n",
       "      <th>d</th>\n",
       "      <td>NaN</td>\n",
       "      <td>4.0</td>\n",
       "    </tr>\n",
       "    <tr>\n",
       "      <th>b</th>\n",
       "      <td>2.0</td>\n",
       "      <td>2.0</td>\n",
       "    </tr>\n",
       "    <tr>\n",
       "      <th>a</th>\n",
       "      <td>1.0</td>\n",
       "      <td>1.0</td>\n",
       "    </tr>\n",
       "  </tbody>\n",
       "</table>\n",
       "</div>"
      ],
      "text/plain": [
       "   one  two\n",
       "d  NaN  4.0\n",
       "b  2.0  2.0\n",
       "a  1.0  1.0"
      ]
     },
     "execution_count": 872,
     "metadata": {},
     "output_type": "execute_result"
    }
   ],
   "source": [
    "pd.DataFrame(my_dict, index=['d', 'b', 'a'])\n"
   ]
  },
  {
   "cell_type": "markdown",
   "metadata": {},
   "source": [
    "#### Index and Column Both given: \n",
    "<b>=========================="
   ]
  },
  {
   "cell_type": "code",
   "execution_count": 873,
   "metadata": {},
   "outputs": [
    {
     "data": {
      "text/html": [
       "<div>\n",
       "<style scoped>\n",
       "    .dataframe tbody tr th:only-of-type {\n",
       "        vertical-align: middle;\n",
       "    }\n",
       "\n",
       "    .dataframe tbody tr th {\n",
       "        vertical-align: top;\n",
       "    }\n",
       "\n",
       "    .dataframe thead th {\n",
       "        text-align: right;\n",
       "    }\n",
       "</style>\n",
       "<table border=\"1\" class=\"dataframe\">\n",
       "  <thead>\n",
       "    <tr style=\"text-align: right;\">\n",
       "      <th></th>\n",
       "      <th>two</th>\n",
       "      <th>three</th>\n",
       "    </tr>\n",
       "  </thead>\n",
       "  <tbody>\n",
       "    <tr>\n",
       "      <th>d</th>\n",
       "      <td>4.0</td>\n",
       "      <td>NaN</td>\n",
       "    </tr>\n",
       "    <tr>\n",
       "      <th>b</th>\n",
       "      <td>2.0</td>\n",
       "      <td>NaN</td>\n",
       "    </tr>\n",
       "    <tr>\n",
       "      <th>a</th>\n",
       "      <td>1.0</td>\n",
       "      <td>NaN</td>\n",
       "    </tr>\n",
       "  </tbody>\n",
       "</table>\n",
       "</div>"
      ],
      "text/plain": [
       "   two three\n",
       "d  4.0   NaN\n",
       "b  2.0   NaN\n",
       "a  1.0   NaN"
      ]
     },
     "execution_count": 873,
     "metadata": {},
     "output_type": "execute_result"
    }
   ],
   "source": [
    "pd.DataFrame(my_dict, index=['d', 'b', 'a'], columns=['two', 'three'])\n"
   ]
  },
  {
   "cell_type": "markdown",
   "metadata": {},
   "source": [
    "#### Information about columns: \n",
    "<b>=========================="
   ]
  },
  {
   "cell_type": "code",
   "execution_count": 874,
   "metadata": {},
   "outputs": [
    {
     "data": {
      "text/plain": [
       "Index(['A', 'B', 'C', 'D'], dtype='object')"
      ]
     },
     "execution_count": 874,
     "metadata": {},
     "output_type": "execute_result"
    }
   ],
   "source": [
    "df.columns"
   ]
  },
  {
   "cell_type": "markdown",
   "metadata": {},
   "source": [
    "### 11.4  From dict of ndarrays / lists : <a id=\"11.4\"></a>"
   ]
  },
  {
   "cell_type": "markdown",
   "metadata": {},
   "source": [
    "- The ndarrays must all be the same length.\n",
    "- If an index is passed, it must clearly also be the same length as the arrays.\n",
    "- If no index is passed, the result will be range(n), where n is the array length.\n",
    "\n",
    "#### Column and Index not given: \n",
    "<b>=========================="
   ]
  },
  {
   "cell_type": "code",
   "execution_count": 875,
   "metadata": {},
   "outputs": [
    {
     "data": {
      "text/html": [
       "<div>\n",
       "<style scoped>\n",
       "    .dataframe tbody tr th:only-of-type {\n",
       "        vertical-align: middle;\n",
       "    }\n",
       "\n",
       "    .dataframe tbody tr th {\n",
       "        vertical-align: top;\n",
       "    }\n",
       "\n",
       "    .dataframe thead th {\n",
       "        text-align: right;\n",
       "    }\n",
       "</style>\n",
       "<table border=\"1\" class=\"dataframe\">\n",
       "  <thead>\n",
       "    <tr style=\"text-align: right;\">\n",
       "      <th></th>\n",
       "      <th>one</th>\n",
       "      <th>two</th>\n",
       "    </tr>\n",
       "  </thead>\n",
       "  <tbody>\n",
       "    <tr>\n",
       "      <th>0</th>\n",
       "      <td>1.0</td>\n",
       "      <td>4.0</td>\n",
       "    </tr>\n",
       "    <tr>\n",
       "      <th>1</th>\n",
       "      <td>2.0</td>\n",
       "      <td>3.0</td>\n",
       "    </tr>\n",
       "    <tr>\n",
       "      <th>2</th>\n",
       "      <td>3.0</td>\n",
       "      <td>2.0</td>\n",
       "    </tr>\n",
       "    <tr>\n",
       "      <th>3</th>\n",
       "      <td>4.0</td>\n",
       "      <td>1.0</td>\n",
       "    </tr>\n",
       "  </tbody>\n",
       "</table>\n",
       "</div>"
      ],
      "text/plain": [
       "   one  two\n",
       "0  1.0  4.0\n",
       "1  2.0  3.0\n",
       "2  3.0  2.0\n",
       "3  4.0  1.0"
      ]
     },
     "execution_count": 875,
     "metadata": {},
     "output_type": "execute_result"
    }
   ],
   "source": [
    "my_dict = {\n",
    " 'one' : [1., 2., 3., 4.],\n",
    " 'two' : [4., 3., 2., 1.]\n",
    " }\n",
    "pd.DataFrame(my_dict)\n",
    "#As column is not given, so the key in sorted form will be used as column\n",
    "#As index is not given so it'll range from 0 to size-1\n"
   ]
  },
  {
   "cell_type": "markdown",
   "metadata": {},
   "source": [
    "#### Applying indexes: \n",
    "<b>==============="
   ]
  },
  {
   "cell_type": "code",
   "execution_count": 876,
   "metadata": {},
   "outputs": [
    {
     "data": {
      "text/html": [
       "<div>\n",
       "<style scoped>\n",
       "    .dataframe tbody tr th:only-of-type {\n",
       "        vertical-align: middle;\n",
       "    }\n",
       "\n",
       "    .dataframe tbody tr th {\n",
       "        vertical-align: top;\n",
       "    }\n",
       "\n",
       "    .dataframe thead th {\n",
       "        text-align: right;\n",
       "    }\n",
       "</style>\n",
       "<table border=\"1\" class=\"dataframe\">\n",
       "  <thead>\n",
       "    <tr style=\"text-align: right;\">\n",
       "      <th></th>\n",
       "      <th>one</th>\n",
       "      <th>two</th>\n",
       "    </tr>\n",
       "  </thead>\n",
       "  <tbody>\n",
       "    <tr>\n",
       "      <th>a</th>\n",
       "      <td>1.0</td>\n",
       "      <td>4.0</td>\n",
       "    </tr>\n",
       "    <tr>\n",
       "      <th>b</th>\n",
       "      <td>2.0</td>\n",
       "      <td>3.0</td>\n",
       "    </tr>\n",
       "    <tr>\n",
       "      <th>c</th>\n",
       "      <td>3.0</td>\n",
       "      <td>2.0</td>\n",
       "    </tr>\n",
       "    <tr>\n",
       "      <th>d</th>\n",
       "      <td>4.0</td>\n",
       "      <td>1.0</td>\n",
       "    </tr>\n",
       "  </tbody>\n",
       "</table>\n",
       "</div>"
      ],
      "text/plain": [
       "   one  two\n",
       "a  1.0  4.0\n",
       "b  2.0  3.0\n",
       "c  3.0  2.0\n",
       "d  4.0  1.0"
      ]
     },
     "execution_count": 876,
     "metadata": {},
     "output_type": "execute_result"
    }
   ],
   "source": [
    "pd.DataFrame(my_dict, index=['a', 'b', 'c', 'd'])\n"
   ]
  },
  {
   "cell_type": "markdown",
   "metadata": {},
   "source": [
    "#### Applying Column Lables: \n",
    "<b>====================="
   ]
  },
  {
   "cell_type": "code",
   "execution_count": 877,
   "metadata": {},
   "outputs": [
    {
     "data": {
      "text/html": [
       "<div>\n",
       "<style scoped>\n",
       "    .dataframe tbody tr th:only-of-type {\n",
       "        vertical-align: middle;\n",
       "    }\n",
       "\n",
       "    .dataframe tbody tr th {\n",
       "        vertical-align: top;\n",
       "    }\n",
       "\n",
       "    .dataframe thead th {\n",
       "        text-align: right;\n",
       "    }\n",
       "</style>\n",
       "<table border=\"1\" class=\"dataframe\">\n",
       "  <thead>\n",
       "    <tr style=\"text-align: right;\">\n",
       "      <th></th>\n",
       "      <th>two</th>\n",
       "      <th>three</th>\n",
       "    </tr>\n",
       "  </thead>\n",
       "  <tbody>\n",
       "    <tr>\n",
       "      <th>a</th>\n",
       "      <td>4.0</td>\n",
       "      <td>NaN</td>\n",
       "    </tr>\n",
       "    <tr>\n",
       "      <th>b</th>\n",
       "      <td>3.0</td>\n",
       "      <td>NaN</td>\n",
       "    </tr>\n",
       "    <tr>\n",
       "      <th>c</th>\n",
       "      <td>2.0</td>\n",
       "      <td>NaN</td>\n",
       "    </tr>\n",
       "    <tr>\n",
       "      <th>d</th>\n",
       "      <td>1.0</td>\n",
       "      <td>NaN</td>\n",
       "    </tr>\n",
       "  </tbody>\n",
       "</table>\n",
       "</div>"
      ],
      "text/plain": [
       "   two three\n",
       "a  4.0   NaN\n",
       "b  3.0   NaN\n",
       "c  2.0   NaN\n",
       "d  1.0   NaN"
      ]
     },
     "execution_count": 877,
     "metadata": {},
     "output_type": "execute_result"
    }
   ],
   "source": [
    "pd.DataFrame(my_dict, index=['a', 'b', 'c', 'd'], columns=['two', 'three'])\n",
    "#as there is no recrod agains there it's giving NaN\n"
   ]
  },
  {
   "cell_type": "markdown",
   "metadata": {},
   "source": [
    "### 11.5  From a list of dicts  : <a id=\"11.5\"></a>"
   ]
  },
  {
   "cell_type": "code",
   "execution_count": 878,
   "metadata": {},
   "outputs": [
    {
     "data": {
      "text/html": [
       "<div>\n",
       "<style scoped>\n",
       "    .dataframe tbody tr th:only-of-type {\n",
       "        vertical-align: middle;\n",
       "    }\n",
       "\n",
       "    .dataframe tbody tr th {\n",
       "        vertical-align: top;\n",
       "    }\n",
       "\n",
       "    .dataframe thead th {\n",
       "        text-align: right;\n",
       "    }\n",
       "</style>\n",
       "<table border=\"1\" class=\"dataframe\">\n",
       "  <thead>\n",
       "    <tr style=\"text-align: right;\">\n",
       "      <th></th>\n",
       "      <th>a</th>\n",
       "      <th>b</th>\n",
       "      <th>c</th>\n",
       "    </tr>\n",
       "  </thead>\n",
       "  <tbody>\n",
       "    <tr>\n",
       "      <th>0</th>\n",
       "      <td>1</td>\n",
       "      <td>2</td>\n",
       "      <td>NaN</td>\n",
       "    </tr>\n",
       "    <tr>\n",
       "      <th>1</th>\n",
       "      <td>5</td>\n",
       "      <td>10</td>\n",
       "      <td>20.0</td>\n",
       "    </tr>\n",
       "  </tbody>\n",
       "</table>\n",
       "</div>"
      ],
      "text/plain": [
       "   a   b     c\n",
       "0  1   2   NaN\n",
       "1  5  10  20.0"
      ]
     },
     "execution_count": 878,
     "metadata": {},
     "output_type": "execute_result"
    }
   ],
   "source": [
    "my_list = [{'a': 1, 'b': 2}, {'a': 5, 'b': 10, 'c': 20}]\n",
    "pd.DataFrame(my_list)"
   ]
  },
  {
   "cell_type": "markdown",
   "metadata": {},
   "source": [
    "#### Adding Indexes: \n",
    "<b>==============="
   ]
  },
  {
   "cell_type": "code",
   "execution_count": 879,
   "metadata": {},
   "outputs": [
    {
     "data": {
      "text/html": [
       "<div>\n",
       "<style scoped>\n",
       "    .dataframe tbody tr th:only-of-type {\n",
       "        vertical-align: middle;\n",
       "    }\n",
       "\n",
       "    .dataframe tbody tr th {\n",
       "        vertical-align: top;\n",
       "    }\n",
       "\n",
       "    .dataframe thead th {\n",
       "        text-align: right;\n",
       "    }\n",
       "</style>\n",
       "<table border=\"1\" class=\"dataframe\">\n",
       "  <thead>\n",
       "    <tr style=\"text-align: right;\">\n",
       "      <th></th>\n",
       "      <th>a</th>\n",
       "      <th>b</th>\n",
       "      <th>c</th>\n",
       "    </tr>\n",
       "  </thead>\n",
       "  <tbody>\n",
       "    <tr>\n",
       "      <th>first</th>\n",
       "      <td>1</td>\n",
       "      <td>2</td>\n",
       "      <td>NaN</td>\n",
       "    </tr>\n",
       "    <tr>\n",
       "      <th>second</th>\n",
       "      <td>5</td>\n",
       "      <td>10</td>\n",
       "      <td>20.0</td>\n",
       "    </tr>\n",
       "  </tbody>\n",
       "</table>\n",
       "</div>"
      ],
      "text/plain": [
       "        a   b     c\n",
       "first   1   2   NaN\n",
       "second  5  10  20.0"
      ]
     },
     "execution_count": 879,
     "metadata": {},
     "output_type": "execute_result"
    }
   ],
   "source": [
    "pd.DataFrame(my_list, index=['first', 'second'])\n"
   ]
  },
  {
   "cell_type": "markdown",
   "metadata": {},
   "source": [
    "#### Passing Column Labels: \n",
    "<b>======================"
   ]
  },
  {
   "cell_type": "code",
   "execution_count": 880,
   "metadata": {},
   "outputs": [
    {
     "data": {
      "text/html": [
       "<div>\n",
       "<style scoped>\n",
       "    .dataframe tbody tr th:only-of-type {\n",
       "        vertical-align: middle;\n",
       "    }\n",
       "\n",
       "    .dataframe tbody tr th {\n",
       "        vertical-align: top;\n",
       "    }\n",
       "\n",
       "    .dataframe thead th {\n",
       "        text-align: right;\n",
       "    }\n",
       "</style>\n",
       "<table border=\"1\" class=\"dataframe\">\n",
       "  <thead>\n",
       "    <tr style=\"text-align: right;\">\n",
       "      <th></th>\n",
       "      <th>a</th>\n",
       "      <th>b</th>\n",
       "    </tr>\n",
       "  </thead>\n",
       "  <tbody>\n",
       "    <tr>\n",
       "      <th>0</th>\n",
       "      <td>1</td>\n",
       "      <td>2</td>\n",
       "    </tr>\n",
       "    <tr>\n",
       "      <th>1</th>\n",
       "      <td>5</td>\n",
       "      <td>10</td>\n",
       "    </tr>\n",
       "  </tbody>\n",
       "</table>\n",
       "</div>"
      ],
      "text/plain": [
       "   a   b\n",
       "0  1   2\n",
       "1  5  10"
      ]
     },
     "execution_count": 880,
     "metadata": {},
     "output_type": "execute_result"
    }
   ],
   "source": [
    "pd.DataFrame(my_list, columns=['a', 'b'])\n"
   ]
  },
  {
   "cell_type": "markdown",
   "metadata": {},
   "source": [
    "### 11.6  From a dict of tuples  : <a id=\"11.6\"></a> \n",
    "<b>===========================\n",
    "    \n",
    "    \n",
    "You can automatically create a multi-indexed frame by passing a tuples dictionary\n"
   ]
  },
  {
   "cell_type": "code",
   "execution_count": 881,
   "metadata": {},
   "outputs": [
    {
     "data": {
      "text/html": [
       "<div>\n",
       "<style scoped>\n",
       "    .dataframe tbody tr th:only-of-type {\n",
       "        vertical-align: middle;\n",
       "    }\n",
       "\n",
       "    .dataframe tbody tr th {\n",
       "        vertical-align: top;\n",
       "    }\n",
       "\n",
       "    .dataframe thead tr th {\n",
       "        text-align: left;\n",
       "    }\n",
       "</style>\n",
       "<table border=\"1\" class=\"dataframe\">\n",
       "  <thead>\n",
       "    <tr>\n",
       "      <th></th>\n",
       "      <th></th>\n",
       "      <th colspan=\"3\" halign=\"left\">a</th>\n",
       "      <th colspan=\"2\" halign=\"left\">b</th>\n",
       "    </tr>\n",
       "    <tr>\n",
       "      <th></th>\n",
       "      <th></th>\n",
       "      <th>b</th>\n",
       "      <th>a</th>\n",
       "      <th>c</th>\n",
       "      <th>a</th>\n",
       "      <th>b</th>\n",
       "    </tr>\n",
       "  </thead>\n",
       "  <tbody>\n",
       "    <tr>\n",
       "      <th rowspan=\"3\" valign=\"top\">A</th>\n",
       "      <th>B</th>\n",
       "      <td>1.0</td>\n",
       "      <td>4.0</td>\n",
       "      <td>5.0</td>\n",
       "      <td>8.0</td>\n",
       "      <td>10.0</td>\n",
       "    </tr>\n",
       "    <tr>\n",
       "      <th>C</th>\n",
       "      <td>2.0</td>\n",
       "      <td>3.0</td>\n",
       "      <td>6.0</td>\n",
       "      <td>7.0</td>\n",
       "      <td>NaN</td>\n",
       "    </tr>\n",
       "    <tr>\n",
       "      <th>D</th>\n",
       "      <td>NaN</td>\n",
       "      <td>NaN</td>\n",
       "      <td>NaN</td>\n",
       "      <td>NaN</td>\n",
       "      <td>9.0</td>\n",
       "    </tr>\n",
       "  </tbody>\n",
       "</table>\n",
       "</div>"
      ],
      "text/plain": [
       "       a              b      \n",
       "       b    a    c    a     b\n",
       "A B  1.0  4.0  5.0  8.0  10.0\n",
       "  C  2.0  3.0  6.0  7.0   NaN\n",
       "  D  NaN  NaN  NaN  NaN   9.0"
      ]
     },
     "execution_count": 881,
     "metadata": {},
     "output_type": "execute_result"
    }
   ],
   "source": [
    "pd.DataFrame({('a', 'b'): {('A', 'B'): 1, ('A', 'C'): 2},\n",
    " ('a', 'a'): {('A', 'C'): 3, ('A', 'B'): 4},\n",
    " ('a', 'c'): {('A', 'B'): 5, ('A', 'C'): 6},\n",
    " ('b', 'a'): {('A', 'C'): 7, ('A', 'B'): 8},\n",
    " ('b', 'b'): {('A', 'D'): 9, ('A', 'B'): 10}})\n"
   ]
  },
  {
   "cell_type": "markdown",
   "metadata": {},
   "source": [
    "### 11.7   Column selection, addition, deletion  : <a id=\"11.7\"></a> \n",
    "<b>============================================\n",
    "    \n",
    "    \n",
    "-  <b> DataFrame can be treated semantically like a dict of like-indexed Series objects. Getting, setting, and deleting columns works with the same syntax as the analogous dict operations\n"
   ]
  },
  {
   "cell_type": "code",
   "execution_count": 882,
   "metadata": {},
   "outputs": [
    {
     "data": {
      "text/plain": [
       "a    1.0\n",
       "b    2.0\n",
       "c    3.0\n",
       "d    NaN\n",
       "Name: one, dtype: float64"
      ]
     },
     "execution_count": 882,
     "metadata": {},
     "output_type": "execute_result"
    }
   ],
   "source": [
    "my_dict = {\n",
    " 'one' : pd.Series([1., 2., 3.], index=['a', 'b', 'c']),\n",
    " 'two' : pd.Series([1., 2., 3., 4.], index=['a', 'b', 'c', 'd'])\n",
    " }\n",
    "\n",
    "_dataFrame = pd.DataFrame(my_dict)\n",
    "_dataFrame['one'] #it will display data of colum1\n"
   ]
  },
  {
   "cell_type": "markdown",
   "metadata": {},
   "source": [
    "#### Assigning values to new columns: \n",
    "<b>=============================="
   ]
  },
  {
   "cell_type": "code",
   "execution_count": 883,
   "metadata": {},
   "outputs": [],
   "source": [
    "_dataFrame['three'] = _dataFrame['one'] * _dataFrame['two'] # assigning values to a colomn named 'three' after calculation"
   ]
  },
  {
   "cell_type": "code",
   "execution_count": 884,
   "metadata": {},
   "outputs": [],
   "source": [
    "my_dataFrame['flag'] = my_dataFrame['one'] > 2 #check if value at column 'one' is > 2 then assign True otherwise false"
   ]
  },
  {
   "cell_type": "code",
   "execution_count": 885,
   "metadata": {},
   "outputs": [
    {
     "data": {
      "text/html": [
       "<div>\n",
       "<style scoped>\n",
       "    .dataframe tbody tr th:only-of-type {\n",
       "        vertical-align: middle;\n",
       "    }\n",
       "\n",
       "    .dataframe tbody tr th {\n",
       "        vertical-align: top;\n",
       "    }\n",
       "\n",
       "    .dataframe thead th {\n",
       "        text-align: right;\n",
       "    }\n",
       "</style>\n",
       "<table border=\"1\" class=\"dataframe\">\n",
       "  <thead>\n",
       "    <tr style=\"text-align: right;\">\n",
       "      <th></th>\n",
       "      <th>one</th>\n",
       "      <th>two</th>\n",
       "      <th>flag</th>\n",
       "    </tr>\n",
       "  </thead>\n",
       "  <tbody>\n",
       "    <tr>\n",
       "      <th>a</th>\n",
       "      <td>1.0</td>\n",
       "      <td>1.0</td>\n",
       "      <td>False</td>\n",
       "    </tr>\n",
       "    <tr>\n",
       "      <th>b</th>\n",
       "      <td>2.0</td>\n",
       "      <td>2.0</td>\n",
       "      <td>False</td>\n",
       "    </tr>\n",
       "    <tr>\n",
       "      <th>c</th>\n",
       "      <td>3.0</td>\n",
       "      <td>3.0</td>\n",
       "      <td>True</td>\n",
       "    </tr>\n",
       "    <tr>\n",
       "      <th>d</th>\n",
       "      <td>NaN</td>\n",
       "      <td>4.0</td>\n",
       "      <td>False</td>\n",
       "    </tr>\n",
       "  </tbody>\n",
       "</table>\n",
       "</div>"
      ],
      "text/plain": [
       "   one  two   flag\n",
       "a  1.0  1.0  False\n",
       "b  2.0  2.0  False\n",
       "c  3.0  3.0   True\n",
       "d  NaN  4.0  False"
      ]
     },
     "execution_count": 885,
     "metadata": {},
     "output_type": "execute_result"
    }
   ],
   "source": [
    "my_dataFrame #print a complete data frame"
   ]
  },
  {
   "cell_type": "markdown",
   "metadata": {},
   "source": [
    "#### Deleting a Column: \n",
    "<b>================="
   ]
  },
  {
   "cell_type": "code",
   "execution_count": 886,
   "metadata": {},
   "outputs": [],
   "source": [
    "del _dataFrame['two'] #delete a coloumn 'two' from data frame\n"
   ]
  },
  {
   "cell_type": "markdown",
   "metadata": {},
   "source": [
    "#### Poping a column: \n",
    "<b>=================="
   ]
  },
  {
   "cell_type": "code",
   "execution_count": 887,
   "metadata": {},
   "outputs": [],
   "source": [
    "three = _dataFrame.pop('three') #pop a complete coloumn 'three' from dataframe"
   ]
  },
  {
   "cell_type": "code",
   "execution_count": 888,
   "metadata": {},
   "outputs": [
    {
     "data": {
      "text/html": [
       "<div>\n",
       "<style scoped>\n",
       "    .dataframe tbody tr th:only-of-type {\n",
       "        vertical-align: middle;\n",
       "    }\n",
       "\n",
       "    .dataframe tbody tr th {\n",
       "        vertical-align: top;\n",
       "    }\n",
       "\n",
       "    .dataframe thead th {\n",
       "        text-align: right;\n",
       "    }\n",
       "</style>\n",
       "<table border=\"1\" class=\"dataframe\">\n",
       "  <thead>\n",
       "    <tr style=\"text-align: right;\">\n",
       "      <th></th>\n",
       "      <th>one</th>\n",
       "    </tr>\n",
       "  </thead>\n",
       "  <tbody>\n",
       "    <tr>\n",
       "      <th>a</th>\n",
       "      <td>1.0</td>\n",
       "    </tr>\n",
       "    <tr>\n",
       "      <th>b</th>\n",
       "      <td>2.0</td>\n",
       "    </tr>\n",
       "    <tr>\n",
       "      <th>c</th>\n",
       "      <td>3.0</td>\n",
       "    </tr>\n",
       "    <tr>\n",
       "      <th>d</th>\n",
       "      <td>NaN</td>\n",
       "    </tr>\n",
       "  </tbody>\n",
       "</table>\n",
       "</div>"
      ],
      "text/plain": [
       "   one\n",
       "a  1.0\n",
       "b  2.0\n",
       "c  3.0\n",
       "d  NaN"
      ]
     },
     "execution_count": 888,
     "metadata": {},
     "output_type": "execute_result"
    }
   ],
   "source": [
    "_dataFrame"
   ]
  },
  {
   "cell_type": "markdown",
   "metadata": {},
   "source": [
    "#### Inserting a scaler value: \n",
    "<b>======================="
   ]
  },
  {
   "cell_type": "code",
   "execution_count": 889,
   "metadata": {},
   "outputs": [
    {
     "data": {
      "text/html": [
       "<div>\n",
       "<style scoped>\n",
       "    .dataframe tbody tr th:only-of-type {\n",
       "        vertical-align: middle;\n",
       "    }\n",
       "\n",
       "    .dataframe tbody tr th {\n",
       "        vertical-align: top;\n",
       "    }\n",
       "\n",
       "    .dataframe thead th {\n",
       "        text-align: right;\n",
       "    }\n",
       "</style>\n",
       "<table border=\"1\" class=\"dataframe\">\n",
       "  <thead>\n",
       "    <tr style=\"text-align: right;\">\n",
       "      <th></th>\n",
       "      <th>one</th>\n",
       "      <th>yes</th>\n",
       "    </tr>\n",
       "  </thead>\n",
       "  <tbody>\n",
       "    <tr>\n",
       "      <th>a</th>\n",
       "      <td>1.0</td>\n",
       "      <td>no</td>\n",
       "    </tr>\n",
       "    <tr>\n",
       "      <th>b</th>\n",
       "      <td>2.0</td>\n",
       "      <td>no</td>\n",
       "    </tr>\n",
       "    <tr>\n",
       "      <th>c</th>\n",
       "      <td>3.0</td>\n",
       "      <td>no</td>\n",
       "    </tr>\n",
       "    <tr>\n",
       "      <th>d</th>\n",
       "      <td>NaN</td>\n",
       "      <td>no</td>\n",
       "    </tr>\n",
       "  </tbody>\n",
       "</table>\n",
       "</div>"
      ],
      "text/plain": [
       "   one yes\n",
       "a  1.0  no\n",
       "b  2.0  no\n",
       "c  3.0  no\n",
       "d  NaN  no"
      ]
     },
     "execution_count": 889,
     "metadata": {},
     "output_type": "execute_result"
    }
   ],
   "source": [
    "_dataFrame['yes'] = 'no' #new coloum yes will be progate wit no\n",
    "_dataFrame"
   ]
  },
  {
   "cell_type": "markdown",
   "metadata": {},
   "source": [
    "#### Taking value from a colum and placing in other: \n",
    "<b>========================================="
   ]
  },
  {
   "cell_type": "code",
   "execution_count": 890,
   "metadata": {},
   "outputs": [
    {
     "data": {
      "text/html": [
       "<div>\n",
       "<style scoped>\n",
       "    .dataframe tbody tr th:only-of-type {\n",
       "        vertical-align: middle;\n",
       "    }\n",
       "\n",
       "    .dataframe tbody tr th {\n",
       "        vertical-align: top;\n",
       "    }\n",
       "\n",
       "    .dataframe thead th {\n",
       "        text-align: right;\n",
       "    }\n",
       "</style>\n",
       "<table border=\"1\" class=\"dataframe\">\n",
       "  <thead>\n",
       "    <tr style=\"text-align: right;\">\n",
       "      <th></th>\n",
       "      <th>one</th>\n",
       "      <th>yes</th>\n",
       "      <th>super</th>\n",
       "    </tr>\n",
       "  </thead>\n",
       "  <tbody>\n",
       "    <tr>\n",
       "      <th>a</th>\n",
       "      <td>1.0</td>\n",
       "      <td>no</td>\n",
       "      <td>no</td>\n",
       "    </tr>\n",
       "    <tr>\n",
       "      <th>b</th>\n",
       "      <td>2.0</td>\n",
       "      <td>no</td>\n",
       "      <td>no</td>\n",
       "    </tr>\n",
       "    <tr>\n",
       "      <th>c</th>\n",
       "      <td>3.0</td>\n",
       "      <td>no</td>\n",
       "      <td>NaN</td>\n",
       "    </tr>\n",
       "    <tr>\n",
       "      <th>d</th>\n",
       "      <td>NaN</td>\n",
       "      <td>no</td>\n",
       "      <td>NaN</td>\n",
       "    </tr>\n",
       "  </tbody>\n",
       "</table>\n",
       "</div>"
      ],
      "text/plain": [
       "   one yes super\n",
       "a  1.0  no    no\n",
       "b  2.0  no    no\n",
       "c  3.0  no   NaN\n",
       "d  NaN  no   NaN"
      ]
     },
     "execution_count": 890,
     "metadata": {},
     "output_type": "execute_result"
    }
   ],
   "source": [
    "_dataFrame['super'] = _dataFrame['yes'][:2]\n",
    "_dataFrame\n",
    "#taking first 2 values from column yes and placing in super column"
   ]
  },
  {
   "cell_type": "markdown",
   "metadata": {},
   "source": [
    "#### Inserting new column using Insert Function: \n",
    "<b>====================================="
   ]
  },
  {
   "cell_type": "code",
   "execution_count": 891,
   "metadata": {},
   "outputs": [
    {
     "data": {
      "text/html": [
       "<div>\n",
       "<style scoped>\n",
       "    .dataframe tbody tr th:only-of-type {\n",
       "        vertical-align: middle;\n",
       "    }\n",
       "\n",
       "    .dataframe tbody tr th {\n",
       "        vertical-align: top;\n",
       "    }\n",
       "\n",
       "    .dataframe thead th {\n",
       "        text-align: right;\n",
       "    }\n",
       "</style>\n",
       "<table border=\"1\" class=\"dataframe\">\n",
       "  <thead>\n",
       "    <tr style=\"text-align: right;\">\n",
       "      <th></th>\n",
       "      <th>one</th>\n",
       "      <th>hello</th>\n",
       "      <th>yes</th>\n",
       "      <th>super</th>\n",
       "    </tr>\n",
       "  </thead>\n",
       "  <tbody>\n",
       "    <tr>\n",
       "      <th>a</th>\n",
       "      <td>1.0</td>\n",
       "      <td>1.0</td>\n",
       "      <td>no</td>\n",
       "      <td>no</td>\n",
       "    </tr>\n",
       "    <tr>\n",
       "      <th>b</th>\n",
       "      <td>2.0</td>\n",
       "      <td>2.0</td>\n",
       "      <td>no</td>\n",
       "      <td>no</td>\n",
       "    </tr>\n",
       "    <tr>\n",
       "      <th>c</th>\n",
       "      <td>3.0</td>\n",
       "      <td>3.0</td>\n",
       "      <td>no</td>\n",
       "      <td>NaN</td>\n",
       "    </tr>\n",
       "    <tr>\n",
       "      <th>d</th>\n",
       "      <td>NaN</td>\n",
       "      <td>NaN</td>\n",
       "      <td>no</td>\n",
       "      <td>NaN</td>\n",
       "    </tr>\n",
       "  </tbody>\n",
       "</table>\n",
       "</div>"
      ],
      "text/plain": [
       "   one  hello yes super\n",
       "a  1.0    1.0  no    no\n",
       "b  2.0    2.0  no    no\n",
       "c  3.0    3.0  no   NaN\n",
       "d  NaN    NaN  no   NaN"
      ]
     },
     "execution_count": 891,
     "metadata": {},
     "output_type": "execute_result"
    }
   ],
   "source": [
    "_dataFrame.insert(1, 'hello', _dataFrame['one'])\n",
    "# it will add a new column of name hello and copy data of column two in it\n",
    "_dataFrame\n"
   ]
  },
  {
   "cell_type": "markdown",
   "metadata": {},
   "source": [
    " ### 11.8  Indexing / Selection : <a id=\"11.8\"></a> \n",
    "<b>==========================="
   ]
  },
  {
   "cell_type": "code",
   "execution_count": 892,
   "metadata": {},
   "outputs": [
    {
     "data": {
      "text/plain": [
       "one       2\n",
       "hello     2\n",
       "yes      no\n",
       "super    no\n",
       "Name: b, dtype: object"
      ]
     },
     "execution_count": 892,
     "metadata": {},
     "output_type": "execute_result"
    }
   ],
   "source": [
    "_dataFrame.loc['b'] #it will return the coloumn labels and values on row label 'b'"
   ]
  },
  {
   "cell_type": "code",
   "execution_count": 893,
   "metadata": {},
   "outputs": [
    {
     "data": {
      "text/plain": [
       "one       2\n",
       "hello     2\n",
       "yes      no\n",
       "super    no\n",
       "Name: b, dtype: object"
      ]
     },
     "execution_count": 893,
     "metadata": {},
     "output_type": "execute_result"
    }
   ],
   "source": [
    "_dataFrame.iloc[1] #it will return the values of those coloumns that is > than 1\n"
   ]
  },
  {
   "cell_type": "markdown",
   "metadata": {},
   "source": [
    " ### 11.9  Data Alignment and Arithmatic : <a id=\"11.9\"></a> \n",
    "<b>======================================"
   ]
  },
  {
   "cell_type": "code",
   "execution_count": 894,
   "metadata": {},
   "outputs": [],
   "source": [
    "df = pd.DataFrame(np.random.randn(10, 4), columns=['A', 'B', 'C', 'D'])"
   ]
  },
  {
   "cell_type": "code",
   "execution_count": 895,
   "metadata": {},
   "outputs": [],
   "source": [
    "df2 = pd.DataFrame(np.random.randn(7, 3), columns=['A', 'B', 'C'])"
   ]
  },
  {
   "cell_type": "markdown",
   "metadata": {},
   "source": [
    "#### Adding Columns: \n",
    "<b>=============="
   ]
  },
  {
   "cell_type": "code",
   "execution_count": 896,
   "metadata": {},
   "outputs": [
    {
     "data": {
      "text/html": [
       "<div>\n",
       "<style scoped>\n",
       "    .dataframe tbody tr th:only-of-type {\n",
       "        vertical-align: middle;\n",
       "    }\n",
       "\n",
       "    .dataframe tbody tr th {\n",
       "        vertical-align: top;\n",
       "    }\n",
       "\n",
       "    .dataframe thead th {\n",
       "        text-align: right;\n",
       "    }\n",
       "</style>\n",
       "<table border=\"1\" class=\"dataframe\">\n",
       "  <thead>\n",
       "    <tr style=\"text-align: right;\">\n",
       "      <th></th>\n",
       "      <th>A</th>\n",
       "      <th>B</th>\n",
       "      <th>C</th>\n",
       "      <th>D</th>\n",
       "    </tr>\n",
       "  </thead>\n",
       "  <tbody>\n",
       "    <tr>\n",
       "      <th>0</th>\n",
       "      <td>0.283595</td>\n",
       "      <td>2.226606</td>\n",
       "      <td>1.391316</td>\n",
       "      <td>NaN</td>\n",
       "    </tr>\n",
       "    <tr>\n",
       "      <th>1</th>\n",
       "      <td>0.112694</td>\n",
       "      <td>0.104858</td>\n",
       "      <td>-1.277370</td>\n",
       "      <td>NaN</td>\n",
       "    </tr>\n",
       "    <tr>\n",
       "      <th>2</th>\n",
       "      <td>-0.783682</td>\n",
       "      <td>2.582103</td>\n",
       "      <td>1.206031</td>\n",
       "      <td>NaN</td>\n",
       "    </tr>\n",
       "    <tr>\n",
       "      <th>3</th>\n",
       "      <td>0.325303</td>\n",
       "      <td>0.375857</td>\n",
       "      <td>-0.090326</td>\n",
       "      <td>NaN</td>\n",
       "    </tr>\n",
       "    <tr>\n",
       "      <th>4</th>\n",
       "      <td>-0.423401</td>\n",
       "      <td>0.185416</td>\n",
       "      <td>-3.458636</td>\n",
       "      <td>NaN</td>\n",
       "    </tr>\n",
       "    <tr>\n",
       "      <th>5</th>\n",
       "      <td>-1.794479</td>\n",
       "      <td>-1.094916</td>\n",
       "      <td>0.054954</td>\n",
       "      <td>NaN</td>\n",
       "    </tr>\n",
       "    <tr>\n",
       "      <th>6</th>\n",
       "      <td>-0.850132</td>\n",
       "      <td>-0.816028</td>\n",
       "      <td>0.616447</td>\n",
       "      <td>NaN</td>\n",
       "    </tr>\n",
       "    <tr>\n",
       "      <th>7</th>\n",
       "      <td>NaN</td>\n",
       "      <td>NaN</td>\n",
       "      <td>NaN</td>\n",
       "      <td>NaN</td>\n",
       "    </tr>\n",
       "    <tr>\n",
       "      <th>8</th>\n",
       "      <td>NaN</td>\n",
       "      <td>NaN</td>\n",
       "      <td>NaN</td>\n",
       "      <td>NaN</td>\n",
       "    </tr>\n",
       "    <tr>\n",
       "      <th>9</th>\n",
       "      <td>NaN</td>\n",
       "      <td>NaN</td>\n",
       "      <td>NaN</td>\n",
       "      <td>NaN</td>\n",
       "    </tr>\n",
       "  </tbody>\n",
       "</table>\n",
       "</div>"
      ],
      "text/plain": [
       "          A         B         C   D\n",
       "0  0.283595  2.226606  1.391316 NaN\n",
       "1  0.112694  0.104858 -1.277370 NaN\n",
       "2 -0.783682  2.582103  1.206031 NaN\n",
       "3  0.325303  0.375857 -0.090326 NaN\n",
       "4 -0.423401  0.185416 -3.458636 NaN\n",
       "5 -1.794479 -1.094916  0.054954 NaN\n",
       "6 -0.850132 -0.816028  0.616447 NaN\n",
       "7       NaN       NaN       NaN NaN\n",
       "8       NaN       NaN       NaN NaN\n",
       "9       NaN       NaN       NaN NaN"
      ]
     },
     "execution_count": 896,
     "metadata": {},
     "output_type": "execute_result"
    }
   ],
   "source": [
    "df + df2 # add values of respective coloumn labels"
   ]
  },
  {
   "cell_type": "markdown",
   "metadata": {},
   "source": [
    "#### Adding Rows: \n",
    "<b>============"
   ]
  },
  {
   "cell_type": "code",
   "execution_count": 897,
   "metadata": {},
   "outputs": [
    {
     "data": {
      "text/html": [
       "<div>\n",
       "<style scoped>\n",
       "    .dataframe tbody tr th:only-of-type {\n",
       "        vertical-align: middle;\n",
       "    }\n",
       "\n",
       "    .dataframe tbody tr th {\n",
       "        vertical-align: top;\n",
       "    }\n",
       "\n",
       "    .dataframe thead th {\n",
       "        text-align: right;\n",
       "    }\n",
       "</style>\n",
       "<table border=\"1\" class=\"dataframe\">\n",
       "  <thead>\n",
       "    <tr style=\"text-align: right;\">\n",
       "      <th></th>\n",
       "      <th>A</th>\n",
       "      <th>B</th>\n",
       "      <th>C</th>\n",
       "      <th>D</th>\n",
       "    </tr>\n",
       "  </thead>\n",
       "  <tbody>\n",
       "    <tr>\n",
       "      <th>0</th>\n",
       "      <td>-0.654590</td>\n",
       "      <td>0.575833</td>\n",
       "      <td>1.391633</td>\n",
       "      <td>0.021457</td>\n",
       "    </tr>\n",
       "    <tr>\n",
       "      <th>1</th>\n",
       "      <td>0.000000</td>\n",
       "      <td>0.000000</td>\n",
       "      <td>0.000000</td>\n",
       "      <td>0.000000</td>\n",
       "    </tr>\n",
       "    <tr>\n",
       "      <th>2</th>\n",
       "      <td>-2.287363</td>\n",
       "      <td>0.728117</td>\n",
       "      <td>0.252340</td>\n",
       "      <td>0.802026</td>\n",
       "    </tr>\n",
       "    <tr>\n",
       "      <th>3</th>\n",
       "      <td>-0.408458</td>\n",
       "      <td>0.301037</td>\n",
       "      <td>-1.305214</td>\n",
       "      <td>0.886670</td>\n",
       "    </tr>\n",
       "    <tr>\n",
       "      <th>4</th>\n",
       "      <td>-1.266988</td>\n",
       "      <td>-0.664269</td>\n",
       "      <td>-1.791235</td>\n",
       "      <td>-0.631614</td>\n",
       "    </tr>\n",
       "    <tr>\n",
       "      <th>5</th>\n",
       "      <td>-1.150768</td>\n",
       "      <td>-0.976810</td>\n",
       "      <td>1.723837</td>\n",
       "      <td>0.218067</td>\n",
       "    </tr>\n",
       "    <tr>\n",
       "      <th>6</th>\n",
       "      <td>-1.377096</td>\n",
       "      <td>-2.462728</td>\n",
       "      <td>1.135104</td>\n",
       "      <td>0.297381</td>\n",
       "    </tr>\n",
       "    <tr>\n",
       "      <th>7</th>\n",
       "      <td>-0.776911</td>\n",
       "      <td>-2.287547</td>\n",
       "      <td>-1.186023</td>\n",
       "      <td>-0.053070</td>\n",
       "    </tr>\n",
       "    <tr>\n",
       "      <th>8</th>\n",
       "      <td>-1.218475</td>\n",
       "      <td>0.724567</td>\n",
       "      <td>0.841433</td>\n",
       "      <td>-1.045827</td>\n",
       "    </tr>\n",
       "    <tr>\n",
       "      <th>9</th>\n",
       "      <td>-0.035182</td>\n",
       "      <td>-0.551914</td>\n",
       "      <td>0.601677</td>\n",
       "      <td>-0.663364</td>\n",
       "    </tr>\n",
       "  </tbody>\n",
       "</table>\n",
       "</div>"
      ],
      "text/plain": [
       "          A         B         C         D\n",
       "0 -0.654590  0.575833  1.391633  0.021457\n",
       "1  0.000000  0.000000  0.000000  0.000000\n",
       "2 -2.287363  0.728117  0.252340  0.802026\n",
       "3 -0.408458  0.301037 -1.305214  0.886670\n",
       "4 -1.266988 -0.664269 -1.791235 -0.631614\n",
       "5 -1.150768 -0.976810  1.723837  0.218067\n",
       "6 -1.377096 -2.462728  1.135104  0.297381\n",
       "7 -0.776911 -2.287547 -1.186023 -0.053070\n",
       "8 -1.218475  0.724567  0.841433 -1.045827\n",
       "9 -0.035182 -0.551914  0.601677 -0.663364"
      ]
     },
     "execution_count": 897,
     "metadata": {},
     "output_type": "execute_result"
    }
   ],
   "source": [
    "df - df.iloc[1] #subtracting row1 from row1"
   ]
  },
  {
   "cell_type": "markdown",
   "metadata": {},
   "source": [
    "#### Multiplication and Addition: \n",
    "<b>======================="
   ]
  },
  {
   "cell_type": "code",
   "execution_count": 898,
   "metadata": {},
   "outputs": [
    {
     "data": {
      "text/html": [
       "<div>\n",
       "<style scoped>\n",
       "    .dataframe tbody tr th:only-of-type {\n",
       "        vertical-align: middle;\n",
       "    }\n",
       "\n",
       "    .dataframe tbody tr th {\n",
       "        vertical-align: top;\n",
       "    }\n",
       "\n",
       "    .dataframe thead th {\n",
       "        text-align: right;\n",
       "    }\n",
       "</style>\n",
       "<table border=\"1\" class=\"dataframe\">\n",
       "  <thead>\n",
       "    <tr style=\"text-align: right;\">\n",
       "      <th></th>\n",
       "      <th>A</th>\n",
       "      <th>B</th>\n",
       "      <th>C</th>\n",
       "      <th>D</th>\n",
       "    </tr>\n",
       "  </thead>\n",
       "  <tbody>\n",
       "    <tr>\n",
       "      <th>0</th>\n",
       "      <td>2.696125</td>\n",
       "      <td>7.081752</td>\n",
       "      <td>7.326084</td>\n",
       "      <td>2.406929</td>\n",
       "    </tr>\n",
       "    <tr>\n",
       "      <th>1</th>\n",
       "      <td>5.969076</td>\n",
       "      <td>4.202586</td>\n",
       "      <td>0.367918</td>\n",
       "      <td>2.299644</td>\n",
       "    </tr>\n",
       "    <tr>\n",
       "      <th>2</th>\n",
       "      <td>-5.467737</td>\n",
       "      <td>7.843174</td>\n",
       "      <td>1.629619</td>\n",
       "      <td>6.309774</td>\n",
       "    </tr>\n",
       "    <tr>\n",
       "      <th>3</th>\n",
       "      <td>3.926785</td>\n",
       "      <td>5.707772</td>\n",
       "      <td>-6.158154</td>\n",
       "      <td>6.732995</td>\n",
       "    </tr>\n",
       "    <tr>\n",
       "      <th>4</th>\n",
       "      <td>-0.365861</td>\n",
       "      <td>0.881240</td>\n",
       "      <td>-8.588254</td>\n",
       "      <td>-0.858426</td>\n",
       "    </tr>\n",
       "    <tr>\n",
       "      <th>5</th>\n",
       "      <td>0.215237</td>\n",
       "      <td>-0.681463</td>\n",
       "      <td>8.987101</td>\n",
       "      <td>3.389978</td>\n",
       "    </tr>\n",
       "    <tr>\n",
       "      <th>6</th>\n",
       "      <td>-0.916404</td>\n",
       "      <td>-8.111053</td>\n",
       "      <td>6.043436</td>\n",
       "      <td>3.786550</td>\n",
       "    </tr>\n",
       "    <tr>\n",
       "      <th>7</th>\n",
       "      <td>2.084522</td>\n",
       "      <td>-7.235151</td>\n",
       "      <td>-5.562198</td>\n",
       "      <td>2.034294</td>\n",
       "    </tr>\n",
       "    <tr>\n",
       "      <th>8</th>\n",
       "      <td>-0.123298</td>\n",
       "      <td>7.825421</td>\n",
       "      <td>4.575081</td>\n",
       "      <td>-2.929491</td>\n",
       "    </tr>\n",
       "    <tr>\n",
       "      <th>9</th>\n",
       "      <td>5.793167</td>\n",
       "      <td>1.443016</td>\n",
       "      <td>3.376304</td>\n",
       "      <td>-1.017175</td>\n",
       "    </tr>\n",
       "  </tbody>\n",
       "</table>\n",
       "</div>"
      ],
      "text/plain": [
       "          A         B         C         D\n",
       "0  2.696125  7.081752  7.326084  2.406929\n",
       "1  5.969076  4.202586  0.367918  2.299644\n",
       "2 -5.467737  7.843174  1.629619  6.309774\n",
       "3  3.926785  5.707772 -6.158154  6.732995\n",
       "4 -0.365861  0.881240 -8.588254 -0.858426\n",
       "5  0.215237 -0.681463  8.987101  3.389978\n",
       "6 -0.916404 -8.111053  6.043436  3.786550\n",
       "7  2.084522 -7.235151 -5.562198  2.034294\n",
       "8 -0.123298  7.825421  4.575081 -2.929491\n",
       "9  5.793167  1.443016  3.376304 -1.017175"
      ]
     },
     "execution_count": 898,
     "metadata": {},
     "output_type": "execute_result"
    }
   ],
   "source": [
    "df * 5 + 2"
   ]
  },
  {
   "cell_type": "markdown",
   "metadata": {},
   "source": [
    "#### Division: \n",
    "<b>======="
   ]
  },
  {
   "cell_type": "code",
   "execution_count": 899,
   "metadata": {},
   "outputs": [
    {
     "data": {
      "text/html": [
       "<div>\n",
       "<style scoped>\n",
       "    .dataframe tbody tr th:only-of-type {\n",
       "        vertical-align: middle;\n",
       "    }\n",
       "\n",
       "    .dataframe tbody tr th {\n",
       "        vertical-align: top;\n",
       "    }\n",
       "\n",
       "    .dataframe thead th {\n",
       "        text-align: right;\n",
       "    }\n",
       "</style>\n",
       "<table border=\"1\" class=\"dataframe\">\n",
       "  <thead>\n",
       "    <tr style=\"text-align: right;\">\n",
       "      <th></th>\n",
       "      <th>A</th>\n",
       "      <th>B</th>\n",
       "      <th>C</th>\n",
       "      <th>D</th>\n",
       "    </tr>\n",
       "  </thead>\n",
       "  <tbody>\n",
       "    <tr>\n",
       "      <th>0</th>\n",
       "      <td>7.182622</td>\n",
       "      <td>0.983913</td>\n",
       "      <td>0.938776</td>\n",
       "      <td>12.287169</td>\n",
       "    </tr>\n",
       "    <tr>\n",
       "      <th>1</th>\n",
       "      <td>1.259739</td>\n",
       "      <td>2.270058</td>\n",
       "      <td>-3.063572</td>\n",
       "      <td>16.686476</td>\n",
       "    </tr>\n",
       "    <tr>\n",
       "      <th>2</th>\n",
       "      <td>-0.669547</td>\n",
       "      <td>0.855699</td>\n",
       "      <td>-13.499601</td>\n",
       "      <td>1.160154</td>\n",
       "    </tr>\n",
       "    <tr>\n",
       "      <th>3</th>\n",
       "      <td>2.594997</td>\n",
       "      <td>1.348519</td>\n",
       "      <td>-0.612884</td>\n",
       "      <td>1.056413</td>\n",
       "    </tr>\n",
       "    <tr>\n",
       "      <th>4</th>\n",
       "      <td>-2.113395</td>\n",
       "      <td>-4.469234</td>\n",
       "      <td>-0.472221</td>\n",
       "      <td>-1.749214</td>\n",
       "    </tr>\n",
       "    <tr>\n",
       "      <th>5</th>\n",
       "      <td>-2.801493</td>\n",
       "      <td>-1.864654</td>\n",
       "      <td>0.715604</td>\n",
       "      <td>3.597178</td>\n",
       "    </tr>\n",
       "    <tr>\n",
       "      <th>6</th>\n",
       "      <td>-1.714440</td>\n",
       "      <td>-0.494508</td>\n",
       "      <td>1.236572</td>\n",
       "      <td>2.798691</td>\n",
       "    </tr>\n",
       "    <tr>\n",
       "      <th>7</th>\n",
       "      <td>59.155922</td>\n",
       "      <td>-0.541410</td>\n",
       "      <td>-0.661183</td>\n",
       "      <td>145.798516</td>\n",
       "    </tr>\n",
       "    <tr>\n",
       "      <th>8</th>\n",
       "      <td>-2.354827</td>\n",
       "      <td>0.858307</td>\n",
       "      <td>1.941686</td>\n",
       "      <td>-1.014304</td>\n",
       "    </tr>\n",
       "    <tr>\n",
       "      <th>9</th>\n",
       "      <td>1.318160</td>\n",
       "      <td>-8.976922</td>\n",
       "      <td>3.632919</td>\n",
       "      <td>-1.657179</td>\n",
       "    </tr>\n",
       "  </tbody>\n",
       "</table>\n",
       "</div>"
      ],
      "text/plain": [
       "           A         B          C           D\n",
       "0   7.182622  0.983913   0.938776   12.287169\n",
       "1   1.259739  2.270058  -3.063572   16.686476\n",
       "2  -0.669547  0.855699 -13.499601    1.160154\n",
       "3   2.594997  1.348519  -0.612884    1.056413\n",
       "4  -2.113395 -4.469234  -0.472221   -1.749214\n",
       "5  -2.801493 -1.864654   0.715604    3.597178\n",
       "6  -1.714440 -0.494508   1.236572    2.798691\n",
       "7  59.155922 -0.541410  -0.661183  145.798516\n",
       "8  -2.354827  0.858307   1.941686   -1.014304\n",
       "9   1.318160 -8.976922   3.632919   -1.657179"
      ]
     },
     "execution_count": 899,
     "metadata": {},
     "output_type": "execute_result"
    }
   ],
   "source": [
    "1 / df"
   ]
  },
  {
   "cell_type": "markdown",
   "metadata": {},
   "source": [
    "#### Exponential: \n",
    "<b>======="
   ]
  },
  {
   "cell_type": "code",
   "execution_count": 900,
   "metadata": {},
   "outputs": [
    {
     "data": {
      "text/html": [
       "<div>\n",
       "<style scoped>\n",
       "    .dataframe tbody tr th:only-of-type {\n",
       "        vertical-align: middle;\n",
       "    }\n",
       "\n",
       "    .dataframe tbody tr th {\n",
       "        vertical-align: top;\n",
       "    }\n",
       "\n",
       "    .dataframe thead th {\n",
       "        text-align: right;\n",
       "    }\n",
       "</style>\n",
       "<table border=\"1\" class=\"dataframe\">\n",
       "  <thead>\n",
       "    <tr style=\"text-align: right;\">\n",
       "      <th></th>\n",
       "      <th>A</th>\n",
       "      <th>B</th>\n",
       "      <th>C</th>\n",
       "      <th>D</th>\n",
       "    </tr>\n",
       "  </thead>\n",
       "  <tbody>\n",
       "    <tr>\n",
       "      <th>0</th>\n",
       "      <td>3.757231e-04</td>\n",
       "      <td>1.067023</td>\n",
       "      <td>1.287514</td>\n",
       "      <td>4.387253e-05</td>\n",
       "    </tr>\n",
       "    <tr>\n",
       "      <th>1</th>\n",
       "      <td>3.970797e-01</td>\n",
       "      <td>0.037658</td>\n",
       "      <td>0.011352</td>\n",
       "      <td>1.289857e-05</td>\n",
       "    </tr>\n",
       "    <tr>\n",
       "      <th>2</th>\n",
       "      <td>4.975950e+00</td>\n",
       "      <td>1.865156</td>\n",
       "      <td>0.000030</td>\n",
       "      <td>5.519988e-01</td>\n",
       "    </tr>\n",
       "    <tr>\n",
       "      <th>3</th>\n",
       "      <td>2.205224e-02</td>\n",
       "      <td>0.302393</td>\n",
       "      <td>7.087410</td>\n",
       "      <td>8.029052e-01</td>\n",
       "    </tr>\n",
       "    <tr>\n",
       "      <th>4</th>\n",
       "      <td>5.012763e-02</td>\n",
       "      <td>0.002506</td>\n",
       "      <td>20.110249</td>\n",
       "      <td>1.068140e-01</td>\n",
       "    </tr>\n",
       "    <tr>\n",
       "      <th>5</th>\n",
       "      <td>1.623461e-02</td>\n",
       "      <td>0.082719</td>\n",
       "      <td>3.813363</td>\n",
       "      <td>5.972447e-03</td>\n",
       "    </tr>\n",
       "    <tr>\n",
       "      <th>6</th>\n",
       "      <td>1.157473e-01</td>\n",
       "      <td>16.722666</td>\n",
       "      <td>0.427683</td>\n",
       "      <td>1.629972e-02</td>\n",
       "    </tr>\n",
       "    <tr>\n",
       "      <th>7</th>\n",
       "      <td>8.165957e-08</td>\n",
       "      <td>11.638471</td>\n",
       "      <td>5.232536</td>\n",
       "      <td>2.213031e-09</td>\n",
       "    </tr>\n",
       "    <tr>\n",
       "      <th>8</th>\n",
       "      <td>3.252101e-02</td>\n",
       "      <td>1.842593</td>\n",
       "      <td>0.070353</td>\n",
       "      <td>9.447745e-01</td>\n",
       "    </tr>\n",
       "    <tr>\n",
       "      <th>9</th>\n",
       "      <td>3.312284e-01</td>\n",
       "      <td>0.000154</td>\n",
       "      <td>0.005741</td>\n",
       "      <td>1.325934e-01</td>\n",
       "    </tr>\n",
       "  </tbody>\n",
       "</table>\n",
       "</div>"
      ],
      "text/plain": [
       "              A          B          C             D\n",
       "0  3.757231e-04   1.067023   1.287514  4.387253e-05\n",
       "1  3.970797e-01   0.037658   0.011352  1.289857e-05\n",
       "2  4.975950e+00   1.865156   0.000030  5.519988e-01\n",
       "3  2.205224e-02   0.302393   7.087410  8.029052e-01\n",
       "4  5.012763e-02   0.002506  20.110249  1.068140e-01\n",
       "5  1.623461e-02   0.082719   3.813363  5.972447e-03\n",
       "6  1.157473e-01  16.722666   0.427683  1.629972e-02\n",
       "7  8.165957e-08  11.638471   5.232536  2.213031e-09\n",
       "8  3.252101e-02   1.842593   0.070353  9.447745e-01\n",
       "9  3.312284e-01   0.000154   0.005741  1.325934e-01"
      ]
     },
     "execution_count": 900,
     "metadata": {},
     "output_type": "execute_result"
    }
   ],
   "source": [
    "df ** 4"
   ]
  },
  {
   "cell_type": "markdown",
   "metadata": {},
   "source": [
    " ### 11.10  Boolean Operators : <a id=\"11.10\"></a> \n",
    "<b>=========================="
   ]
  },
  {
   "cell_type": "code",
   "execution_count": 901,
   "metadata": {},
   "outputs": [],
   "source": [
    "df1 = pd.DataFrame({'a' : [1, 0, 1], 'b' : [0, 1, 1] }, dtype=bool)\n"
   ]
  },
  {
   "cell_type": "code",
   "execution_count": 902,
   "metadata": {},
   "outputs": [],
   "source": [
    "df2 = pd.DataFrame({'a' : [0, 1, 1], 'b' : [1, 1, 0] }, dtype=bool)"
   ]
  },
  {
   "cell_type": "code",
   "execution_count": 903,
   "metadata": {},
   "outputs": [
    {
     "data": {
      "text/html": [
       "<div>\n",
       "<style scoped>\n",
       "    .dataframe tbody tr th:only-of-type {\n",
       "        vertical-align: middle;\n",
       "    }\n",
       "\n",
       "    .dataframe tbody tr th {\n",
       "        vertical-align: top;\n",
       "    }\n",
       "\n",
       "    .dataframe thead th {\n",
       "        text-align: right;\n",
       "    }\n",
       "</style>\n",
       "<table border=\"1\" class=\"dataframe\">\n",
       "  <thead>\n",
       "    <tr style=\"text-align: right;\">\n",
       "      <th></th>\n",
       "      <th>a</th>\n",
       "      <th>b</th>\n",
       "    </tr>\n",
       "  </thead>\n",
       "  <tbody>\n",
       "    <tr>\n",
       "      <th>0</th>\n",
       "      <td>False</td>\n",
       "      <td>True</td>\n",
       "    </tr>\n",
       "    <tr>\n",
       "      <th>1</th>\n",
       "      <td>True</td>\n",
       "      <td>True</td>\n",
       "    </tr>\n",
       "    <tr>\n",
       "      <th>2</th>\n",
       "      <td>True</td>\n",
       "      <td>False</td>\n",
       "    </tr>\n",
       "  </tbody>\n",
       "</table>\n",
       "</div>"
      ],
      "text/plain": [
       "       a      b\n",
       "0  False   True\n",
       "1   True   True\n",
       "2   True  False"
      ]
     },
     "execution_count": 903,
     "metadata": {},
     "output_type": "execute_result"
    }
   ],
   "source": [
    "pd.DataFrame({'a' : [0, 1, 1], 'b' : [1, 1, 0] }, dtype=bool)\n"
   ]
  },
  {
   "cell_type": "markdown",
   "metadata": {},
   "source": [
    "#### And Operator: \n",
    "<b>============"
   ]
  },
  {
   "cell_type": "code",
   "execution_count": 904,
   "metadata": {},
   "outputs": [
    {
     "data": {
      "text/html": [
       "<div>\n",
       "<style scoped>\n",
       "    .dataframe tbody tr th:only-of-type {\n",
       "        vertical-align: middle;\n",
       "    }\n",
       "\n",
       "    .dataframe tbody tr th {\n",
       "        vertical-align: top;\n",
       "    }\n",
       "\n",
       "    .dataframe thead th {\n",
       "        text-align: right;\n",
       "    }\n",
       "</style>\n",
       "<table border=\"1\" class=\"dataframe\">\n",
       "  <thead>\n",
       "    <tr style=\"text-align: right;\">\n",
       "      <th></th>\n",
       "      <th>a</th>\n",
       "      <th>b</th>\n",
       "    </tr>\n",
       "  </thead>\n",
       "  <tbody>\n",
       "    <tr>\n",
       "      <th>0</th>\n",
       "      <td>False</td>\n",
       "      <td>False</td>\n",
       "    </tr>\n",
       "    <tr>\n",
       "      <th>1</th>\n",
       "      <td>False</td>\n",
       "      <td>True</td>\n",
       "    </tr>\n",
       "    <tr>\n",
       "      <th>2</th>\n",
       "      <td>True</td>\n",
       "      <td>False</td>\n",
       "    </tr>\n",
       "  </tbody>\n",
       "</table>\n",
       "</div>"
      ],
      "text/plain": [
       "       a      b\n",
       "0  False  False\n",
       "1  False   True\n",
       "2   True  False"
      ]
     },
     "execution_count": 904,
     "metadata": {},
     "output_type": "execute_result"
    }
   ],
   "source": [
    "df1 & df2"
   ]
  },
  {
   "cell_type": "markdown",
   "metadata": {},
   "source": [
    "#### OR Operator: \n",
    "<b>============"
   ]
  },
  {
   "cell_type": "code",
   "execution_count": 905,
   "metadata": {},
   "outputs": [
    {
     "data": {
      "text/html": [
       "<div>\n",
       "<style scoped>\n",
       "    .dataframe tbody tr th:only-of-type {\n",
       "        vertical-align: middle;\n",
       "    }\n",
       "\n",
       "    .dataframe tbody tr th {\n",
       "        vertical-align: top;\n",
       "    }\n",
       "\n",
       "    .dataframe thead th {\n",
       "        text-align: right;\n",
       "    }\n",
       "</style>\n",
       "<table border=\"1\" class=\"dataframe\">\n",
       "  <thead>\n",
       "    <tr style=\"text-align: right;\">\n",
       "      <th></th>\n",
       "      <th>a</th>\n",
       "      <th>b</th>\n",
       "    </tr>\n",
       "  </thead>\n",
       "  <tbody>\n",
       "    <tr>\n",
       "      <th>0</th>\n",
       "      <td>True</td>\n",
       "      <td>True</td>\n",
       "    </tr>\n",
       "    <tr>\n",
       "      <th>1</th>\n",
       "      <td>True</td>\n",
       "      <td>True</td>\n",
       "    </tr>\n",
       "    <tr>\n",
       "      <th>2</th>\n",
       "      <td>True</td>\n",
       "      <td>True</td>\n",
       "    </tr>\n",
       "  </tbody>\n",
       "</table>\n",
       "</div>"
      ],
      "text/plain": [
       "      a     b\n",
       "0  True  True\n",
       "1  True  True\n",
       "2  True  True"
      ]
     },
     "execution_count": 905,
     "metadata": {},
     "output_type": "execute_result"
    }
   ],
   "source": [
    "df1 | df2"
   ]
  },
  {
   "cell_type": "markdown",
   "metadata": {},
   "source": [
    "#### NOT Operator: \n",
    "<b>============"
   ]
  },
  {
   "cell_type": "code",
   "execution_count": 906,
   "metadata": {},
   "outputs": [
    {
     "data": {
      "text/html": [
       "<div>\n",
       "<style scoped>\n",
       "    .dataframe tbody tr th:only-of-type {\n",
       "        vertical-align: middle;\n",
       "    }\n",
       "\n",
       "    .dataframe tbody tr th {\n",
       "        vertical-align: top;\n",
       "    }\n",
       "\n",
       "    .dataframe thead th {\n",
       "        text-align: right;\n",
       "    }\n",
       "</style>\n",
       "<table border=\"1\" class=\"dataframe\">\n",
       "  <thead>\n",
       "    <tr style=\"text-align: right;\">\n",
       "      <th></th>\n",
       "      <th>a</th>\n",
       "      <th>b</th>\n",
       "    </tr>\n",
       "  </thead>\n",
       "  <tbody>\n",
       "    <tr>\n",
       "      <th>0</th>\n",
       "      <td>False</td>\n",
       "      <td>True</td>\n",
       "    </tr>\n",
       "    <tr>\n",
       "      <th>1</th>\n",
       "      <td>True</td>\n",
       "      <td>False</td>\n",
       "    </tr>\n",
       "    <tr>\n",
       "      <th>2</th>\n",
       "      <td>False</td>\n",
       "      <td>False</td>\n",
       "    </tr>\n",
       "  </tbody>\n",
       "</table>\n",
       "</div>"
      ],
      "text/plain": [
       "       a      b\n",
       "0  False   True\n",
       "1   True  False\n",
       "2  False  False"
      ]
     },
     "execution_count": 906,
     "metadata": {},
     "output_type": "execute_result"
    }
   ],
   "source": [
    "-df1"
   ]
  },
  {
   "cell_type": "code",
   "execution_count": 907,
   "metadata": {},
   "outputs": [
    {
     "data": {
      "text/html": [
       "<div>\n",
       "<style scoped>\n",
       "    .dataframe tbody tr th:only-of-type {\n",
       "        vertical-align: middle;\n",
       "    }\n",
       "\n",
       "    .dataframe tbody tr th {\n",
       "        vertical-align: top;\n",
       "    }\n",
       "\n",
       "    .dataframe thead th {\n",
       "        text-align: right;\n",
       "    }\n",
       "</style>\n",
       "<table border=\"1\" class=\"dataframe\">\n",
       "  <thead>\n",
       "    <tr style=\"text-align: right;\">\n",
       "      <th></th>\n",
       "      <th>a</th>\n",
       "      <th>b</th>\n",
       "    </tr>\n",
       "  </thead>\n",
       "  <tbody>\n",
       "    <tr>\n",
       "      <th>0</th>\n",
       "      <td>True</td>\n",
       "      <td>False</td>\n",
       "    </tr>\n",
       "    <tr>\n",
       "      <th>1</th>\n",
       "      <td>False</td>\n",
       "      <td>False</td>\n",
       "    </tr>\n",
       "    <tr>\n",
       "      <th>2</th>\n",
       "      <td>False</td>\n",
       "      <td>True</td>\n",
       "    </tr>\n",
       "  </tbody>\n",
       "</table>\n",
       "</div>"
      ],
      "text/plain": [
       "       a      b\n",
       "0   True  False\n",
       "1  False  False\n",
       "2  False   True"
      ]
     },
     "execution_count": 907,
     "metadata": {},
     "output_type": "execute_result"
    }
   ],
   "source": [
    "-df2"
   ]
  },
  {
   "cell_type": "markdown",
   "metadata": {},
   "source": [
    " ### 11.11  Transpose : <a id=\"11.11\"></a> \n",
    "<b>==================="
   ]
  },
  {
   "cell_type": "code",
   "execution_count": 908,
   "metadata": {},
   "outputs": [],
   "source": [
    "# we use T attribute for trnaspose"
   ]
  },
  {
   "cell_type": "markdown",
   "metadata": {},
   "source": [
    "#### Transpose of Whole Table: \n",
    "<b>====================="
   ]
  },
  {
   "cell_type": "code",
   "execution_count": 909,
   "metadata": {},
   "outputs": [
    {
     "data": {
      "text/html": [
       "<div>\n",
       "<style scoped>\n",
       "    .dataframe tbody tr th:only-of-type {\n",
       "        vertical-align: middle;\n",
       "    }\n",
       "\n",
       "    .dataframe tbody tr th {\n",
       "        vertical-align: top;\n",
       "    }\n",
       "\n",
       "    .dataframe thead th {\n",
       "        text-align: right;\n",
       "    }\n",
       "</style>\n",
       "<table border=\"1\" class=\"dataframe\">\n",
       "  <thead>\n",
       "    <tr style=\"text-align: right;\">\n",
       "      <th></th>\n",
       "      <th>0</th>\n",
       "      <th>1</th>\n",
       "      <th>2</th>\n",
       "      <th>3</th>\n",
       "      <th>4</th>\n",
       "      <th>5</th>\n",
       "      <th>6</th>\n",
       "      <th>7</th>\n",
       "      <th>8</th>\n",
       "      <th>9</th>\n",
       "    </tr>\n",
       "  </thead>\n",
       "  <tbody>\n",
       "    <tr>\n",
       "      <th>A</th>\n",
       "      <td>0.139225</td>\n",
       "      <td>0.793815</td>\n",
       "      <td>-1.493547</td>\n",
       "      <td>0.385357</td>\n",
       "      <td>-0.473172</td>\n",
       "      <td>-0.356953</td>\n",
       "      <td>-0.583281</td>\n",
       "      <td>0.016904</td>\n",
       "      <td>-0.424660</td>\n",
       "      <td>0.758633</td>\n",
       "    </tr>\n",
       "    <tr>\n",
       "      <th>B</th>\n",
       "      <td>1.016350</td>\n",
       "      <td>0.440517</td>\n",
       "      <td>1.168635</td>\n",
       "      <td>0.741554</td>\n",
       "      <td>-0.223752</td>\n",
       "      <td>-0.536293</td>\n",
       "      <td>-2.022211</td>\n",
       "      <td>-1.847030</td>\n",
       "      <td>1.165084</td>\n",
       "      <td>-0.111397</td>\n",
       "    </tr>\n",
       "    <tr>\n",
       "      <th>C</th>\n",
       "      <td>1.065217</td>\n",
       "      <td>-0.326416</td>\n",
       "      <td>-0.074076</td>\n",
       "      <td>-1.631631</td>\n",
       "      <td>-2.117651</td>\n",
       "      <td>1.397420</td>\n",
       "      <td>0.808687</td>\n",
       "      <td>-1.512440</td>\n",
       "      <td>0.515016</td>\n",
       "      <td>0.275261</td>\n",
       "    </tr>\n",
       "    <tr>\n",
       "      <th>D</th>\n",
       "      <td>0.081386</td>\n",
       "      <td>0.059929</td>\n",
       "      <td>0.861955</td>\n",
       "      <td>0.946599</td>\n",
       "      <td>-0.571685</td>\n",
       "      <td>0.277996</td>\n",
       "      <td>0.357310</td>\n",
       "      <td>0.006859</td>\n",
       "      <td>-0.985898</td>\n",
       "      <td>-0.603435</td>\n",
       "    </tr>\n",
       "  </tbody>\n",
       "</table>\n",
       "</div>"
      ],
      "text/plain": [
       "          0         1         2         3         4         5         6  \\\n",
       "A  0.139225  0.793815 -1.493547  0.385357 -0.473172 -0.356953 -0.583281   \n",
       "B  1.016350  0.440517  1.168635  0.741554 -0.223752 -0.536293 -2.022211   \n",
       "C  1.065217 -0.326416 -0.074076 -1.631631 -2.117651  1.397420  0.808687   \n",
       "D  0.081386  0.059929  0.861955  0.946599 -0.571685  0.277996  0.357310   \n",
       "\n",
       "          7         8         9  \n",
       "A  0.016904 -0.424660  0.758633  \n",
       "B -1.847030  1.165084 -0.111397  \n",
       "C -1.512440  0.515016  0.275261  \n",
       "D  0.006859 -0.985898 -0.603435  "
      ]
     },
     "execution_count": 909,
     "metadata": {},
     "output_type": "execute_result"
    }
   ],
   "source": [
    "df.T"
   ]
  },
  {
   "cell_type": "markdown",
   "metadata": {},
   "source": [
    "#### Transpose of Selected rows: \n",
    "<b>========================"
   ]
  },
  {
   "cell_type": "code",
   "execution_count": 910,
   "metadata": {},
   "outputs": [
    {
     "data": {
      "text/html": [
       "<div>\n",
       "<style scoped>\n",
       "    .dataframe tbody tr th:only-of-type {\n",
       "        vertical-align: middle;\n",
       "    }\n",
       "\n",
       "    .dataframe tbody tr th {\n",
       "        vertical-align: top;\n",
       "    }\n",
       "\n",
       "    .dataframe thead th {\n",
       "        text-align: right;\n",
       "    }\n",
       "</style>\n",
       "<table border=\"1\" class=\"dataframe\">\n",
       "  <thead>\n",
       "    <tr style=\"text-align: right;\">\n",
       "      <th></th>\n",
       "      <th>0</th>\n",
       "      <th>1</th>\n",
       "      <th>2</th>\n",
       "      <th>3</th>\n",
       "    </tr>\n",
       "  </thead>\n",
       "  <tbody>\n",
       "    <tr>\n",
       "      <th>A</th>\n",
       "      <td>0.139225</td>\n",
       "      <td>0.793815</td>\n",
       "      <td>-1.493547</td>\n",
       "      <td>0.385357</td>\n",
       "    </tr>\n",
       "    <tr>\n",
       "      <th>B</th>\n",
       "      <td>1.016350</td>\n",
       "      <td>0.440517</td>\n",
       "      <td>1.168635</td>\n",
       "      <td>0.741554</td>\n",
       "    </tr>\n",
       "    <tr>\n",
       "      <th>C</th>\n",
       "      <td>1.065217</td>\n",
       "      <td>-0.326416</td>\n",
       "      <td>-0.074076</td>\n",
       "      <td>-1.631631</td>\n",
       "    </tr>\n",
       "    <tr>\n",
       "      <th>D</th>\n",
       "      <td>0.081386</td>\n",
       "      <td>0.059929</td>\n",
       "      <td>0.861955</td>\n",
       "      <td>0.946599</td>\n",
       "    </tr>\n",
       "  </tbody>\n",
       "</table>\n",
       "</div>"
      ],
      "text/plain": [
       "          0         1         2         3\n",
       "A  0.139225  0.793815 -1.493547  0.385357\n",
       "B  1.016350  0.440517  1.168635  0.741554\n",
       "C  1.065217 -0.326416 -0.074076 -1.631631\n",
       "D  0.081386  0.059929  0.861955  0.946599"
      ]
     },
     "execution_count": 910,
     "metadata": {},
     "output_type": "execute_result"
    }
   ],
   "source": [
    "df[:4].T"
   ]
  },
  {
   "cell_type": "markdown",
   "metadata": {},
   "source": [
    "## 12. Viewing Data in Pandas : <a id=\"12\"></a> \n",
    "<b>====================================="
   ]
  },
  {
   "cell_type": "markdown",
   "metadata": {},
   "source": [
    "<b>\n",
    "<font color= \"red\" > <i><b> We can view data / display data in different ways:</b></i> </font>\n",
    "\n",
    "- See the top & bottom rows of the frame\n",
    "- Selecting a single column\n",
    "- Selecting via [], which slices the rows\n",
    "- For getting a cross section using a label\n",
    "- Selecting on a multi-axis by labe\n",
    "- Showing label slicing, both endpoints are included\n",
    "- Reduction in the dimensions of the returned object\n",
    "- For getting a scalar value\n",
    "- For getting fast access to a scalar\n",
    "- Select via the position of the passed integers\n",
    "- By integer slices, acting similar to numpy/python\n",
    "- By lists of integer position locations, similar to the numpy/python style\n",
    "- For slicing rows explicitly\n",
    "- For slicing columns explicitly\n",
    "- For getting a value explicitly\n",
    "- For getting fast access to a scalar\n",
    "- Using a single column’s values to select data.\n",
    "- Selecting values from a DataFrame where a boolean condition is met.\n",
    "- Using the isin() method for filtering \n",
    "\n",
    "### 12.1 Head of Data: <a id=\"12.1\"></a> \n",
    "<b>======================="
   ]
  },
  {
   "cell_type": "code",
   "execution_count": 911,
   "metadata": {},
   "outputs": [
    {
     "data": {
      "text/html": [
       "<div>\n",
       "<style scoped>\n",
       "    .dataframe tbody tr th:only-of-type {\n",
       "        vertical-align: middle;\n",
       "    }\n",
       "\n",
       "    .dataframe tbody tr th {\n",
       "        vertical-align: top;\n",
       "    }\n",
       "\n",
       "    .dataframe thead th {\n",
       "        text-align: right;\n",
       "    }\n",
       "</style>\n",
       "<table border=\"1\" class=\"dataframe\">\n",
       "  <thead>\n",
       "    <tr style=\"text-align: right;\">\n",
       "      <th></th>\n",
       "      <th>A</th>\n",
       "      <th>B</th>\n",
       "      <th>C</th>\n",
       "      <th>D</th>\n",
       "    </tr>\n",
       "  </thead>\n",
       "  <tbody>\n",
       "    <tr>\n",
       "      <th>0</th>\n",
       "      <td>0.139225</td>\n",
       "      <td>1.016350</td>\n",
       "      <td>1.065217</td>\n",
       "      <td>0.081386</td>\n",
       "    </tr>\n",
       "    <tr>\n",
       "      <th>1</th>\n",
       "      <td>0.793815</td>\n",
       "      <td>0.440517</td>\n",
       "      <td>-0.326416</td>\n",
       "      <td>0.059929</td>\n",
       "    </tr>\n",
       "  </tbody>\n",
       "</table>\n",
       "</div>"
      ],
      "text/plain": [
       "          A         B         C         D\n",
       "0  0.139225  1.016350  1.065217  0.081386\n",
       "1  0.793815  0.440517 -0.326416  0.059929"
      ]
     },
     "execution_count": 911,
     "metadata": {},
     "output_type": "execute_result"
    }
   ],
   "source": [
    "df.head(2)\n",
    "#first 2 records"
   ]
  },
  {
   "cell_type": "markdown",
   "metadata": {},
   "source": [
    "### 12.2 tail of Data: <a id=\"12.2\"></a> \n",
    "<b>====================="
   ]
  },
  {
   "cell_type": "code",
   "execution_count": 912,
   "metadata": {},
   "outputs": [
    {
     "data": {
      "text/html": [
       "<div>\n",
       "<style scoped>\n",
       "    .dataframe tbody tr th:only-of-type {\n",
       "        vertical-align: middle;\n",
       "    }\n",
       "\n",
       "    .dataframe tbody tr th {\n",
       "        vertical-align: top;\n",
       "    }\n",
       "\n",
       "    .dataframe thead th {\n",
       "        text-align: right;\n",
       "    }\n",
       "</style>\n",
       "<table border=\"1\" class=\"dataframe\">\n",
       "  <thead>\n",
       "    <tr style=\"text-align: right;\">\n",
       "      <th></th>\n",
       "      <th>A</th>\n",
       "      <th>B</th>\n",
       "      <th>C</th>\n",
       "      <th>D</th>\n",
       "    </tr>\n",
       "  </thead>\n",
       "  <tbody>\n",
       "    <tr>\n",
       "      <th>8</th>\n",
       "      <td>-0.424660</td>\n",
       "      <td>1.165084</td>\n",
       "      <td>0.515016</td>\n",
       "      <td>-0.985898</td>\n",
       "    </tr>\n",
       "    <tr>\n",
       "      <th>9</th>\n",
       "      <td>0.758633</td>\n",
       "      <td>-0.111397</td>\n",
       "      <td>0.275261</td>\n",
       "      <td>-0.603435</td>\n",
       "    </tr>\n",
       "  </tbody>\n",
       "</table>\n",
       "</div>"
      ],
      "text/plain": [
       "          A         B         C         D\n",
       "8 -0.424660  1.165084  0.515016 -0.985898\n",
       "9  0.758633 -0.111397  0.275261 -0.603435"
      ]
     },
     "execution_count": 912,
     "metadata": {},
     "output_type": "execute_result"
    }
   ],
   "source": [
    "df.tail(2)\n",
    "#last 2 records"
   ]
  },
  {
   "cell_type": "markdown",
   "metadata": {},
   "source": [
    "### 12.3 Display Index: <a id=\"12.3\"></a> \n",
    "<b>====================="
   ]
  },
  {
   "cell_type": "code",
   "execution_count": 913,
   "metadata": {},
   "outputs": [
    {
     "data": {
      "text/plain": [
       "RangeIndex(start=0, stop=10, step=1)"
      ]
     },
     "execution_count": 913,
     "metadata": {},
     "output_type": "execute_result"
    }
   ],
   "source": [
    "df.index"
   ]
  },
  {
   "cell_type": "markdown",
   "metadata": {},
   "source": [
    "### 12.4 Display Column: <a id=\"12.4\"></a> \n",
    "<b>========================"
   ]
  },
  {
   "cell_type": "code",
   "execution_count": 914,
   "metadata": {},
   "outputs": [
    {
     "data": {
      "text/plain": [
       "Index(['A', 'B', 'C', 'D'], dtype='object')"
      ]
     },
     "execution_count": 914,
     "metadata": {},
     "output_type": "execute_result"
    }
   ],
   "source": [
    "df.columns"
   ]
  },
  {
   "cell_type": "markdown",
   "metadata": {},
   "source": [
    "### 12.5 Printing Values:  <a id=\"12.5\"></a> \n",
    "<b>======================"
   ]
  },
  {
   "cell_type": "code",
   "execution_count": 915,
   "metadata": {},
   "outputs": [
    {
     "data": {
      "text/plain": [
       "array([[ 0.13922492,  1.01635035,  1.06521678,  0.08138571],\n",
       "       [ 0.79381523,  0.44051729, -0.32641631,  0.05992877],\n",
       "       [-1.4935474 ,  1.16863478, -0.07407627,  0.86195486],\n",
       "       [ 0.38535694,  0.74155448, -1.6316308 ,  0.94659907],\n",
       "       [-0.47317228, -0.22375199, -2.11765087, -0.57168526],\n",
       "       [-0.35695255, -0.53629255,  1.39742028,  0.2779957 ],\n",
       "       [-0.58328082, -2.02221058,  0.80868723,  0.35730991],\n",
       "       [ 0.01690448, -1.84703012, -1.51243965,  0.00685878],\n",
       "       [-0.42465964,  1.16508429,  0.51501622, -0.98589813],\n",
       "       [ 0.75863331, -0.11139676,  0.27526077, -0.60343494]])"
      ]
     },
     "execution_count": 915,
     "metadata": {},
     "output_type": "execute_result"
    }
   ],
   "source": [
    "df.values"
   ]
  },
  {
   "cell_type": "markdown",
   "metadata": {},
   "source": [
    "### 12.6 Sorting by axis:  <a id=\"12.6\"></a> \n",
    "<b>======================"
   ]
  },
  {
   "cell_type": "code",
   "execution_count": 916,
   "metadata": {},
   "outputs": [
    {
     "data": {
      "text/html": [
       "<div>\n",
       "<style scoped>\n",
       "    .dataframe tbody tr th:only-of-type {\n",
       "        vertical-align: middle;\n",
       "    }\n",
       "\n",
       "    .dataframe tbody tr th {\n",
       "        vertical-align: top;\n",
       "    }\n",
       "\n",
       "    .dataframe thead th {\n",
       "        text-align: right;\n",
       "    }\n",
       "</style>\n",
       "<table border=\"1\" class=\"dataframe\">\n",
       "  <thead>\n",
       "    <tr style=\"text-align: right;\">\n",
       "      <th></th>\n",
       "      <th>A</th>\n",
       "      <th>B</th>\n",
       "      <th>C</th>\n",
       "      <th>D</th>\n",
       "    </tr>\n",
       "  </thead>\n",
       "  <tbody>\n",
       "    <tr>\n",
       "      <th>9</th>\n",
       "      <td>0.758633</td>\n",
       "      <td>-0.111397</td>\n",
       "      <td>0.275261</td>\n",
       "      <td>-0.603435</td>\n",
       "    </tr>\n",
       "    <tr>\n",
       "      <th>8</th>\n",
       "      <td>-0.424660</td>\n",
       "      <td>1.165084</td>\n",
       "      <td>0.515016</td>\n",
       "      <td>-0.985898</td>\n",
       "    </tr>\n",
       "    <tr>\n",
       "      <th>7</th>\n",
       "      <td>0.016904</td>\n",
       "      <td>-1.847030</td>\n",
       "      <td>-1.512440</td>\n",
       "      <td>0.006859</td>\n",
       "    </tr>\n",
       "    <tr>\n",
       "      <th>6</th>\n",
       "      <td>-0.583281</td>\n",
       "      <td>-2.022211</td>\n",
       "      <td>0.808687</td>\n",
       "      <td>0.357310</td>\n",
       "    </tr>\n",
       "    <tr>\n",
       "      <th>5</th>\n",
       "      <td>-0.356953</td>\n",
       "      <td>-0.536293</td>\n",
       "      <td>1.397420</td>\n",
       "      <td>0.277996</td>\n",
       "    </tr>\n",
       "    <tr>\n",
       "      <th>4</th>\n",
       "      <td>-0.473172</td>\n",
       "      <td>-0.223752</td>\n",
       "      <td>-2.117651</td>\n",
       "      <td>-0.571685</td>\n",
       "    </tr>\n",
       "    <tr>\n",
       "      <th>3</th>\n",
       "      <td>0.385357</td>\n",
       "      <td>0.741554</td>\n",
       "      <td>-1.631631</td>\n",
       "      <td>0.946599</td>\n",
       "    </tr>\n",
       "    <tr>\n",
       "      <th>2</th>\n",
       "      <td>-1.493547</td>\n",
       "      <td>1.168635</td>\n",
       "      <td>-0.074076</td>\n",
       "      <td>0.861955</td>\n",
       "    </tr>\n",
       "    <tr>\n",
       "      <th>1</th>\n",
       "      <td>0.793815</td>\n",
       "      <td>0.440517</td>\n",
       "      <td>-0.326416</td>\n",
       "      <td>0.059929</td>\n",
       "    </tr>\n",
       "    <tr>\n",
       "      <th>0</th>\n",
       "      <td>0.139225</td>\n",
       "      <td>1.016350</td>\n",
       "      <td>1.065217</td>\n",
       "      <td>0.081386</td>\n",
       "    </tr>\n",
       "  </tbody>\n",
       "</table>\n",
       "</div>"
      ],
      "text/plain": [
       "          A         B         C         D\n",
       "9  0.758633 -0.111397  0.275261 -0.603435\n",
       "8 -0.424660  1.165084  0.515016 -0.985898\n",
       "7  0.016904 -1.847030 -1.512440  0.006859\n",
       "6 -0.583281 -2.022211  0.808687  0.357310\n",
       "5 -0.356953 -0.536293  1.397420  0.277996\n",
       "4 -0.473172 -0.223752 -2.117651 -0.571685\n",
       "3  0.385357  0.741554 -1.631631  0.946599\n",
       "2 -1.493547  1.168635 -0.074076  0.861955\n",
       "1  0.793815  0.440517 -0.326416  0.059929\n",
       "0  0.139225  1.016350  1.065217  0.081386"
      ]
     },
     "execution_count": 916,
     "metadata": {},
     "output_type": "execute_result"
    }
   ],
   "source": [
    "df.sort_index(axis=0, ascending=False)"
   ]
  },
  {
   "cell_type": "markdown",
   "metadata": {},
   "source": [
    "### 12.7 Sorting by values: <a id=\"12.7\"></a> \n",
    "<b>========================="
   ]
  },
  {
   "cell_type": "code",
   "execution_count": 917,
   "metadata": {},
   "outputs": [
    {
     "data": {
      "text/html": [
       "<div>\n",
       "<style scoped>\n",
       "    .dataframe tbody tr th:only-of-type {\n",
       "        vertical-align: middle;\n",
       "    }\n",
       "\n",
       "    .dataframe tbody tr th {\n",
       "        vertical-align: top;\n",
       "    }\n",
       "\n",
       "    .dataframe thead th {\n",
       "        text-align: right;\n",
       "    }\n",
       "</style>\n",
       "<table border=\"1\" class=\"dataframe\">\n",
       "  <thead>\n",
       "    <tr style=\"text-align: right;\">\n",
       "      <th></th>\n",
       "      <th>A</th>\n",
       "      <th>B</th>\n",
       "      <th>C</th>\n",
       "      <th>D</th>\n",
       "    </tr>\n",
       "  </thead>\n",
       "  <tbody>\n",
       "    <tr>\n",
       "      <th>6</th>\n",
       "      <td>-0.583281</td>\n",
       "      <td>-2.022211</td>\n",
       "      <td>0.808687</td>\n",
       "      <td>0.357310</td>\n",
       "    </tr>\n",
       "    <tr>\n",
       "      <th>7</th>\n",
       "      <td>0.016904</td>\n",
       "      <td>-1.847030</td>\n",
       "      <td>-1.512440</td>\n",
       "      <td>0.006859</td>\n",
       "    </tr>\n",
       "    <tr>\n",
       "      <th>5</th>\n",
       "      <td>-0.356953</td>\n",
       "      <td>-0.536293</td>\n",
       "      <td>1.397420</td>\n",
       "      <td>0.277996</td>\n",
       "    </tr>\n",
       "    <tr>\n",
       "      <th>4</th>\n",
       "      <td>-0.473172</td>\n",
       "      <td>-0.223752</td>\n",
       "      <td>-2.117651</td>\n",
       "      <td>-0.571685</td>\n",
       "    </tr>\n",
       "    <tr>\n",
       "      <th>9</th>\n",
       "      <td>0.758633</td>\n",
       "      <td>-0.111397</td>\n",
       "      <td>0.275261</td>\n",
       "      <td>-0.603435</td>\n",
       "    </tr>\n",
       "    <tr>\n",
       "      <th>1</th>\n",
       "      <td>0.793815</td>\n",
       "      <td>0.440517</td>\n",
       "      <td>-0.326416</td>\n",
       "      <td>0.059929</td>\n",
       "    </tr>\n",
       "    <tr>\n",
       "      <th>3</th>\n",
       "      <td>0.385357</td>\n",
       "      <td>0.741554</td>\n",
       "      <td>-1.631631</td>\n",
       "      <td>0.946599</td>\n",
       "    </tr>\n",
       "    <tr>\n",
       "      <th>0</th>\n",
       "      <td>0.139225</td>\n",
       "      <td>1.016350</td>\n",
       "      <td>1.065217</td>\n",
       "      <td>0.081386</td>\n",
       "    </tr>\n",
       "    <tr>\n",
       "      <th>8</th>\n",
       "      <td>-0.424660</td>\n",
       "      <td>1.165084</td>\n",
       "      <td>0.515016</td>\n",
       "      <td>-0.985898</td>\n",
       "    </tr>\n",
       "    <tr>\n",
       "      <th>2</th>\n",
       "      <td>-1.493547</td>\n",
       "      <td>1.168635</td>\n",
       "      <td>-0.074076</td>\n",
       "      <td>0.861955</td>\n",
       "    </tr>\n",
       "  </tbody>\n",
       "</table>\n",
       "</div>"
      ],
      "text/plain": [
       "          A         B         C         D\n",
       "6 -0.583281 -2.022211  0.808687  0.357310\n",
       "7  0.016904 -1.847030 -1.512440  0.006859\n",
       "5 -0.356953 -0.536293  1.397420  0.277996\n",
       "4 -0.473172 -0.223752 -2.117651 -0.571685\n",
       "9  0.758633 -0.111397  0.275261 -0.603435\n",
       "1  0.793815  0.440517 -0.326416  0.059929\n",
       "3  0.385357  0.741554 -1.631631  0.946599\n",
       "0  0.139225  1.016350  1.065217  0.081386\n",
       "8 -0.424660  1.165084  0.515016 -0.985898\n",
       "2 -1.493547  1.168635 -0.074076  0.861955"
      ]
     },
     "execution_count": 917,
     "metadata": {},
     "output_type": "execute_result"
    }
   ],
   "source": [
    "df.sort_values(by='B')\n"
   ]
  },
  {
   "cell_type": "markdown",
   "metadata": {},
   "source": [
    "### 12.8 Describing DataFrame: <a id=\"12.8\"></a> \n",
    "<b>============================"
   ]
  },
  {
   "cell_type": "code",
   "execution_count": 918,
   "metadata": {},
   "outputs": [
    {
     "data": {
      "text/html": [
       "<div>\n",
       "<style scoped>\n",
       "    .dataframe tbody tr th:only-of-type {\n",
       "        vertical-align: middle;\n",
       "    }\n",
       "\n",
       "    .dataframe tbody tr th {\n",
       "        vertical-align: top;\n",
       "    }\n",
       "\n",
       "    .dataframe thead th {\n",
       "        text-align: right;\n",
       "    }\n",
       "</style>\n",
       "<table border=\"1\" class=\"dataframe\">\n",
       "  <thead>\n",
       "    <tr style=\"text-align: right;\">\n",
       "      <th></th>\n",
       "      <th>A</th>\n",
       "      <th>B</th>\n",
       "      <th>C</th>\n",
       "      <th>D</th>\n",
       "    </tr>\n",
       "  </thead>\n",
       "  <tbody>\n",
       "    <tr>\n",
       "      <th>count</th>\n",
       "      <td>10.000000</td>\n",
       "      <td>10.000000</td>\n",
       "      <td>10.000000</td>\n",
       "      <td>10.000000</td>\n",
       "    </tr>\n",
       "    <tr>\n",
       "      <th>mean</th>\n",
       "      <td>-0.123768</td>\n",
       "      <td>-0.020854</td>\n",
       "      <td>-0.160061</td>\n",
       "      <td>0.043101</td>\n",
       "    </tr>\n",
       "    <tr>\n",
       "      <th>std</th>\n",
       "      <td>0.693076</td>\n",
       "      <td>1.171260</td>\n",
       "      <td>1.218945</td>\n",
       "      <td>0.623485</td>\n",
       "    </tr>\n",
       "    <tr>\n",
       "      <th>min</th>\n",
       "      <td>-1.493547</td>\n",
       "      <td>-2.022211</td>\n",
       "      <td>-2.117651</td>\n",
       "      <td>-0.985898</td>\n",
       "    </tr>\n",
       "    <tr>\n",
       "      <th>25%</th>\n",
       "      <td>-0.461044</td>\n",
       "      <td>-0.458157</td>\n",
       "      <td>-1.215934</td>\n",
       "      <td>-0.427049</td>\n",
       "    </tr>\n",
       "    <tr>\n",
       "      <th>50%</th>\n",
       "      <td>-0.170024</td>\n",
       "      <td>0.164560</td>\n",
       "      <td>0.100592</td>\n",
       "      <td>0.070657</td>\n",
       "    </tr>\n",
       "    <tr>\n",
       "      <th>75%</th>\n",
       "      <td>0.323824</td>\n",
       "      <td>0.947651</td>\n",
       "      <td>0.735269</td>\n",
       "      <td>0.337481</td>\n",
       "    </tr>\n",
       "    <tr>\n",
       "      <th>max</th>\n",
       "      <td>0.793815</td>\n",
       "      <td>1.168635</td>\n",
       "      <td>1.397420</td>\n",
       "      <td>0.946599</td>\n",
       "    </tr>\n",
       "  </tbody>\n",
       "</table>\n",
       "</div>"
      ],
      "text/plain": [
       "               A          B          C          D\n",
       "count  10.000000  10.000000  10.000000  10.000000\n",
       "mean   -0.123768  -0.020854  -0.160061   0.043101\n",
       "std     0.693076   1.171260   1.218945   0.623485\n",
       "min    -1.493547  -2.022211  -2.117651  -0.985898\n",
       "25%    -0.461044  -0.458157  -1.215934  -0.427049\n",
       "50%    -0.170024   0.164560   0.100592   0.070657\n",
       "75%     0.323824   0.947651   0.735269   0.337481\n",
       "max     0.793815   1.168635   1.397420   0.946599"
      ]
     },
     "execution_count": 918,
     "metadata": {},
     "output_type": "execute_result"
    }
   ],
   "source": [
    "df.describe()"
   ]
  },
  {
   "cell_type": "markdown",
   "metadata": {},
   "source": [
    "### 12.9 Selecting a Column: <a id=\"12.9\"></a> \n",
    "<b>============================"
   ]
  },
  {
   "cell_type": "code",
   "execution_count": 919,
   "metadata": {},
   "outputs": [
    {
     "data": {
      "text/plain": [
       "0    1.065217\n",
       "1   -0.326416\n",
       "2   -0.074076\n",
       "3   -1.631631\n",
       "4   -2.117651\n",
       "5    1.397420\n",
       "6    0.808687\n",
       "7   -1.512440\n",
       "8    0.515016\n",
       "9    0.275261\n",
       "Name: C, dtype: float64"
      ]
     },
     "execution_count": 919,
     "metadata": {},
     "output_type": "execute_result"
    }
   ],
   "source": [
    "df['C']\n",
    "#here's the data of column C"
   ]
  },
  {
   "cell_type": "markdown",
   "metadata": {},
   "source": [
    "### 12.10 Slicing: <a id=\"12.10\"></a> \n",
    "<b>=================="
   ]
  },
  {
   "cell_type": "code",
   "execution_count": 920,
   "metadata": {},
   "outputs": [
    {
     "data": {
      "text/html": [
       "<div>\n",
       "<style scoped>\n",
       "    .dataframe tbody tr th:only-of-type {\n",
       "        vertical-align: middle;\n",
       "    }\n",
       "\n",
       "    .dataframe tbody tr th {\n",
       "        vertical-align: top;\n",
       "    }\n",
       "\n",
       "    .dataframe thead th {\n",
       "        text-align: right;\n",
       "    }\n",
       "</style>\n",
       "<table border=\"1\" class=\"dataframe\">\n",
       "  <thead>\n",
       "    <tr style=\"text-align: right;\">\n",
       "      <th></th>\n",
       "      <th>A</th>\n",
       "      <th>B</th>\n",
       "      <th>C</th>\n",
       "      <th>D</th>\n",
       "    </tr>\n",
       "  </thead>\n",
       "  <tbody>\n",
       "    <tr>\n",
       "      <th>0</th>\n",
       "      <td>0.139225</td>\n",
       "      <td>1.016350</td>\n",
       "      <td>1.065217</td>\n",
       "      <td>0.081386</td>\n",
       "    </tr>\n",
       "    <tr>\n",
       "      <th>1</th>\n",
       "      <td>0.793815</td>\n",
       "      <td>0.440517</td>\n",
       "      <td>-0.326416</td>\n",
       "      <td>0.059929</td>\n",
       "    </tr>\n",
       "    <tr>\n",
       "      <th>2</th>\n",
       "      <td>-1.493547</td>\n",
       "      <td>1.168635</td>\n",
       "      <td>-0.074076</td>\n",
       "      <td>0.861955</td>\n",
       "    </tr>\n",
       "    <tr>\n",
       "      <th>3</th>\n",
       "      <td>0.385357</td>\n",
       "      <td>0.741554</td>\n",
       "      <td>-1.631631</td>\n",
       "      <td>0.946599</td>\n",
       "    </tr>\n",
       "    <tr>\n",
       "      <th>4</th>\n",
       "      <td>-0.473172</td>\n",
       "      <td>-0.223752</td>\n",
       "      <td>-2.117651</td>\n",
       "      <td>-0.571685</td>\n",
       "    </tr>\n",
       "    <tr>\n",
       "      <th>5</th>\n",
       "      <td>-0.356953</td>\n",
       "      <td>-0.536293</td>\n",
       "      <td>1.397420</td>\n",
       "      <td>0.277996</td>\n",
       "    </tr>\n",
       "    <tr>\n",
       "      <th>6</th>\n",
       "      <td>-0.583281</td>\n",
       "      <td>-2.022211</td>\n",
       "      <td>0.808687</td>\n",
       "      <td>0.357310</td>\n",
       "    </tr>\n",
       "  </tbody>\n",
       "</table>\n",
       "</div>"
      ],
      "text/plain": [
       "          A         B         C         D\n",
       "0  0.139225  1.016350  1.065217  0.081386\n",
       "1  0.793815  0.440517 -0.326416  0.059929\n",
       "2 -1.493547  1.168635 -0.074076  0.861955\n",
       "3  0.385357  0.741554 -1.631631  0.946599\n",
       "4 -0.473172 -0.223752 -2.117651 -0.571685\n",
       "5 -0.356953 -0.536293  1.397420  0.277996\n",
       "6 -0.583281 -2.022211  0.808687  0.357310"
      ]
     },
     "execution_count": 920,
     "metadata": {},
     "output_type": "execute_result"
    }
   ],
   "source": [
    "df[0:7]"
   ]
  },
  {
   "cell_type": "code",
   "execution_count": 921,
   "metadata": {},
   "outputs": [
    {
     "data": {
      "text/html": [
       "<div>\n",
       "<style scoped>\n",
       "    .dataframe tbody tr th:only-of-type {\n",
       "        vertical-align: middle;\n",
       "    }\n",
       "\n",
       "    .dataframe tbody tr th {\n",
       "        vertical-align: top;\n",
       "    }\n",
       "\n",
       "    .dataframe thead th {\n",
       "        text-align: right;\n",
       "    }\n",
       "</style>\n",
       "<table border=\"1\" class=\"dataframe\">\n",
       "  <thead>\n",
       "    <tr style=\"text-align: right;\">\n",
       "      <th></th>\n",
       "      <th>A</th>\n",
       "      <th>C</th>\n",
       "    </tr>\n",
       "  </thead>\n",
       "  <tbody>\n",
       "    <tr>\n",
       "      <th>1</th>\n",
       "      <td>0.793815</td>\n",
       "      <td>-0.326416</td>\n",
       "    </tr>\n",
       "    <tr>\n",
       "      <th>2</th>\n",
       "      <td>-1.493547</td>\n",
       "      <td>-0.074076</td>\n",
       "    </tr>\n",
       "    <tr>\n",
       "      <th>4</th>\n",
       "      <td>-0.473172</td>\n",
       "      <td>-2.117651</td>\n",
       "    </tr>\n",
       "  </tbody>\n",
       "</table>\n",
       "</div>"
      ],
      "text/plain": [
       "          A         C\n",
       "1  0.793815 -0.326416\n",
       "2 -1.493547 -0.074076\n",
       "4 -0.473172 -2.117651"
      ]
     },
     "execution_count": 921,
     "metadata": {},
     "output_type": "execute_result"
    }
   ],
   "source": [
    "# By lists of integer position locations, similar to the numpy/python style\n",
    "df.iloc[[1,2,4],[0,2]]\n"
   ]
  },
  {
   "cell_type": "code",
   "execution_count": 922,
   "metadata": {},
   "outputs": [
    {
     "data": {
      "text/html": [
       "<div>\n",
       "<style scoped>\n",
       "    .dataframe tbody tr th:only-of-type {\n",
       "        vertical-align: middle;\n",
       "    }\n",
       "\n",
       "    .dataframe tbody tr th {\n",
       "        vertical-align: top;\n",
       "    }\n",
       "\n",
       "    .dataframe thead th {\n",
       "        text-align: right;\n",
       "    }\n",
       "</style>\n",
       "<table border=\"1\" class=\"dataframe\">\n",
       "  <thead>\n",
       "    <tr style=\"text-align: right;\">\n",
       "      <th></th>\n",
       "      <th>B</th>\n",
       "    </tr>\n",
       "  </thead>\n",
       "  <tbody>\n",
       "    <tr>\n",
       "      <th>0</th>\n",
       "      <td>1.016350</td>\n",
       "    </tr>\n",
       "    <tr>\n",
       "      <th>1</th>\n",
       "      <td>0.440517</td>\n",
       "    </tr>\n",
       "    <tr>\n",
       "      <th>2</th>\n",
       "      <td>1.168635</td>\n",
       "    </tr>\n",
       "    <tr>\n",
       "      <th>3</th>\n",
       "      <td>0.741554</td>\n",
       "    </tr>\n",
       "    <tr>\n",
       "      <th>4</th>\n",
       "      <td>-0.223752</td>\n",
       "    </tr>\n",
       "    <tr>\n",
       "      <th>5</th>\n",
       "      <td>-0.536293</td>\n",
       "    </tr>\n",
       "    <tr>\n",
       "      <th>6</th>\n",
       "      <td>-2.022211</td>\n",
       "    </tr>\n",
       "    <tr>\n",
       "      <th>7</th>\n",
       "      <td>-1.847030</td>\n",
       "    </tr>\n",
       "    <tr>\n",
       "      <th>8</th>\n",
       "      <td>1.165084</td>\n",
       "    </tr>\n",
       "    <tr>\n",
       "      <th>9</th>\n",
       "      <td>-0.111397</td>\n",
       "    </tr>\n",
       "  </tbody>\n",
       "</table>\n",
       "</div>"
      ],
      "text/plain": [
       "          B\n",
       "0  1.016350\n",
       "1  0.440517\n",
       "2  1.168635\n",
       "3  0.741554\n",
       "4 -0.223752\n",
       "5 -0.536293\n",
       "6 -2.022211\n",
       "7 -1.847030\n",
       "8  1.165084\n",
       "9 -0.111397"
      ]
     },
     "execution_count": 922,
     "metadata": {},
     "output_type": "execute_result"
    }
   ],
   "source": [
    "# For slicing rows explicitly\n",
    "df.iloc[:,1:2]"
   ]
  },
  {
   "cell_type": "code",
   "execution_count": 923,
   "metadata": {},
   "outputs": [
    {
     "data": {
      "text/plain": [
       "-0.3264163089545882"
      ]
     },
     "execution_count": 923,
     "metadata": {},
     "output_type": "execute_result"
    }
   ],
   "source": [
    "# For getting a value explicitly\n",
    "df.iloc[1,2]\n"
   ]
  },
  {
   "cell_type": "code",
   "execution_count": 924,
   "metadata": {},
   "outputs": [
    {
     "data": {
      "text/html": [
       "<div>\n",
       "<style scoped>\n",
       "    .dataframe tbody tr th:only-of-type {\n",
       "        vertical-align: middle;\n",
       "    }\n",
       "\n",
       "    .dataframe tbody tr th {\n",
       "        vertical-align: top;\n",
       "    }\n",
       "\n",
       "    .dataframe thead th {\n",
       "        text-align: right;\n",
       "    }\n",
       "</style>\n",
       "<table border=\"1\" class=\"dataframe\">\n",
       "  <thead>\n",
       "    <tr style=\"text-align: right;\">\n",
       "      <th></th>\n",
       "      <th>A</th>\n",
       "      <th>B</th>\n",
       "      <th>C</th>\n",
       "      <th>D</th>\n",
       "    </tr>\n",
       "  </thead>\n",
       "  <tbody>\n",
       "    <tr>\n",
       "      <th>0</th>\n",
       "      <td>0.139225</td>\n",
       "      <td>1.016350</td>\n",
       "      <td>1.065217</td>\n",
       "      <td>0.081386</td>\n",
       "    </tr>\n",
       "    <tr>\n",
       "      <th>1</th>\n",
       "      <td>0.793815</td>\n",
       "      <td>0.440517</td>\n",
       "      <td>-0.326416</td>\n",
       "      <td>0.059929</td>\n",
       "    </tr>\n",
       "    <tr>\n",
       "      <th>3</th>\n",
       "      <td>0.385357</td>\n",
       "      <td>0.741554</td>\n",
       "      <td>-1.631631</td>\n",
       "      <td>0.946599</td>\n",
       "    </tr>\n",
       "    <tr>\n",
       "      <th>7</th>\n",
       "      <td>0.016904</td>\n",
       "      <td>-1.847030</td>\n",
       "      <td>-1.512440</td>\n",
       "      <td>0.006859</td>\n",
       "    </tr>\n",
       "    <tr>\n",
       "      <th>9</th>\n",
       "      <td>0.758633</td>\n",
       "      <td>-0.111397</td>\n",
       "      <td>0.275261</td>\n",
       "      <td>-0.603435</td>\n",
       "    </tr>\n",
       "  </tbody>\n",
       "</table>\n",
       "</div>"
      ],
      "text/plain": [
       "          A         B         C         D\n",
       "0  0.139225  1.016350  1.065217  0.081386\n",
       "1  0.793815  0.440517 -0.326416  0.059929\n",
       "3  0.385357  0.741554 -1.631631  0.946599\n",
       "7  0.016904 -1.847030 -1.512440  0.006859\n",
       "9  0.758633 -0.111397  0.275261 -0.603435"
      ]
     },
     "execution_count": 924,
     "metadata": {},
     "output_type": "execute_result"
    }
   ],
   "source": [
    "# Using a single column’s values to select data.\n",
    "df[df.A > 0]\n"
   ]
  },
  {
   "cell_type": "code",
   "execution_count": 925,
   "metadata": {},
   "outputs": [
    {
     "data": {
      "text/html": [
       "<div>\n",
       "<style scoped>\n",
       "    .dataframe tbody tr th:only-of-type {\n",
       "        vertical-align: middle;\n",
       "    }\n",
       "\n",
       "    .dataframe tbody tr th {\n",
       "        vertical-align: top;\n",
       "    }\n",
       "\n",
       "    .dataframe thead th {\n",
       "        text-align: right;\n",
       "    }\n",
       "</style>\n",
       "<table border=\"1\" class=\"dataframe\">\n",
       "  <thead>\n",
       "    <tr style=\"text-align: right;\">\n",
       "      <th></th>\n",
       "      <th>A</th>\n",
       "      <th>B</th>\n",
       "      <th>C</th>\n",
       "      <th>D</th>\n",
       "    </tr>\n",
       "  </thead>\n",
       "  <tbody>\n",
       "    <tr>\n",
       "      <th>0</th>\n",
       "      <td>0.139225</td>\n",
       "      <td>1.016350</td>\n",
       "      <td>1.065217</td>\n",
       "      <td>0.081386</td>\n",
       "    </tr>\n",
       "    <tr>\n",
       "      <th>1</th>\n",
       "      <td>0.793815</td>\n",
       "      <td>0.440517</td>\n",
       "      <td>NaN</td>\n",
       "      <td>0.059929</td>\n",
       "    </tr>\n",
       "    <tr>\n",
       "      <th>2</th>\n",
       "      <td>NaN</td>\n",
       "      <td>1.168635</td>\n",
       "      <td>NaN</td>\n",
       "      <td>0.861955</td>\n",
       "    </tr>\n",
       "    <tr>\n",
       "      <th>3</th>\n",
       "      <td>0.385357</td>\n",
       "      <td>0.741554</td>\n",
       "      <td>NaN</td>\n",
       "      <td>0.946599</td>\n",
       "    </tr>\n",
       "    <tr>\n",
       "      <th>4</th>\n",
       "      <td>NaN</td>\n",
       "      <td>NaN</td>\n",
       "      <td>NaN</td>\n",
       "      <td>NaN</td>\n",
       "    </tr>\n",
       "    <tr>\n",
       "      <th>5</th>\n",
       "      <td>NaN</td>\n",
       "      <td>NaN</td>\n",
       "      <td>1.397420</td>\n",
       "      <td>0.277996</td>\n",
       "    </tr>\n",
       "    <tr>\n",
       "      <th>6</th>\n",
       "      <td>NaN</td>\n",
       "      <td>NaN</td>\n",
       "      <td>0.808687</td>\n",
       "      <td>0.357310</td>\n",
       "    </tr>\n",
       "    <tr>\n",
       "      <th>7</th>\n",
       "      <td>0.016904</td>\n",
       "      <td>NaN</td>\n",
       "      <td>NaN</td>\n",
       "      <td>0.006859</td>\n",
       "    </tr>\n",
       "    <tr>\n",
       "      <th>8</th>\n",
       "      <td>NaN</td>\n",
       "      <td>1.165084</td>\n",
       "      <td>0.515016</td>\n",
       "      <td>NaN</td>\n",
       "    </tr>\n",
       "    <tr>\n",
       "      <th>9</th>\n",
       "      <td>0.758633</td>\n",
       "      <td>NaN</td>\n",
       "      <td>0.275261</td>\n",
       "      <td>NaN</td>\n",
       "    </tr>\n",
       "  </tbody>\n",
       "</table>\n",
       "</div>"
      ],
      "text/plain": [
       "          A         B         C         D\n",
       "0  0.139225  1.016350  1.065217  0.081386\n",
       "1  0.793815  0.440517       NaN  0.059929\n",
       "2       NaN  1.168635       NaN  0.861955\n",
       "3  0.385357  0.741554       NaN  0.946599\n",
       "4       NaN       NaN       NaN       NaN\n",
       "5       NaN       NaN  1.397420  0.277996\n",
       "6       NaN       NaN  0.808687  0.357310\n",
       "7  0.016904       NaN       NaN  0.006859\n",
       "8       NaN  1.165084  0.515016       NaN\n",
       "9  0.758633       NaN  0.275261       NaN"
      ]
     },
     "execution_count": 925,
     "metadata": {},
     "output_type": "execute_result"
    }
   ],
   "source": [
    "# Selecting values from a DataFrame where a boolean condition is met.\n",
    "df[df > 0]\n"
   ]
  },
  {
   "cell_type": "code",
   "execution_count": 926,
   "metadata": {},
   "outputs": [
    {
     "data": {
      "text/html": [
       "<div>\n",
       "<style scoped>\n",
       "    .dataframe tbody tr th:only-of-type {\n",
       "        vertical-align: middle;\n",
       "    }\n",
       "\n",
       "    .dataframe tbody tr th {\n",
       "        vertical-align: top;\n",
       "    }\n",
       "\n",
       "    .dataframe thead th {\n",
       "        text-align: right;\n",
       "    }\n",
       "</style>\n",
       "<table border=\"1\" class=\"dataframe\">\n",
       "  <thead>\n",
       "    <tr style=\"text-align: right;\">\n",
       "      <th></th>\n",
       "      <th>A</th>\n",
       "      <th>B</th>\n",
       "      <th>C</th>\n",
       "      <th>D</th>\n",
       "    </tr>\n",
       "  </thead>\n",
       "  <tbody>\n",
       "    <tr>\n",
       "      <th>0</th>\n",
       "      <td>0.139225</td>\n",
       "      <td>1.016350</td>\n",
       "      <td>1.065217</td>\n",
       "      <td>0.081386</td>\n",
       "    </tr>\n",
       "    <tr>\n",
       "      <th>1</th>\n",
       "      <td>0.793815</td>\n",
       "      <td>0.440517</td>\n",
       "      <td>-0.326416</td>\n",
       "      <td>0.059929</td>\n",
       "    </tr>\n",
       "    <tr>\n",
       "      <th>2</th>\n",
       "      <td>-1.493547</td>\n",
       "      <td>1.168635</td>\n",
       "      <td>-0.074076</td>\n",
       "      <td>0.861955</td>\n",
       "    </tr>\n",
       "    <tr>\n",
       "      <th>3</th>\n",
       "      <td>0.385357</td>\n",
       "      <td>0.741554</td>\n",
       "      <td>-1.631631</td>\n",
       "      <td>0.946599</td>\n",
       "    </tr>\n",
       "    <tr>\n",
       "      <th>4</th>\n",
       "      <td>-0.473172</td>\n",
       "      <td>-0.223752</td>\n",
       "      <td>-2.117651</td>\n",
       "      <td>-0.571685</td>\n",
       "    </tr>\n",
       "    <tr>\n",
       "      <th>5</th>\n",
       "      <td>-0.356953</td>\n",
       "      <td>-0.536293</td>\n",
       "      <td>1.397420</td>\n",
       "      <td>0.277996</td>\n",
       "    </tr>\n",
       "    <tr>\n",
       "      <th>6</th>\n",
       "      <td>-0.583281</td>\n",
       "      <td>-2.022211</td>\n",
       "      <td>0.808687</td>\n",
       "      <td>0.357310</td>\n",
       "    </tr>\n",
       "    <tr>\n",
       "      <th>7</th>\n",
       "      <td>0.016904</td>\n",
       "      <td>-1.847030</td>\n",
       "      <td>-1.512440</td>\n",
       "      <td>0.006859</td>\n",
       "    </tr>\n",
       "    <tr>\n",
       "      <th>8</th>\n",
       "      <td>-0.424660</td>\n",
       "      <td>1.165084</td>\n",
       "      <td>0.515016</td>\n",
       "      <td>-0.985898</td>\n",
       "    </tr>\n",
       "    <tr>\n",
       "      <th>9</th>\n",
       "      <td>0.758633</td>\n",
       "      <td>-0.111397</td>\n",
       "      <td>0.275261</td>\n",
       "      <td>-0.603435</td>\n",
       "    </tr>\n",
       "  </tbody>\n",
       "</table>\n",
       "</div>"
      ],
      "text/plain": [
       "          A         B         C         D\n",
       "0  0.139225  1.016350  1.065217  0.081386\n",
       "1  0.793815  0.440517 -0.326416  0.059929\n",
       "2 -1.493547  1.168635 -0.074076  0.861955\n",
       "3  0.385357  0.741554 -1.631631  0.946599\n",
       "4 -0.473172 -0.223752 -2.117651 -0.571685\n",
       "5 -0.356953 -0.536293  1.397420  0.277996\n",
       "6 -0.583281 -2.022211  0.808687  0.357310\n",
       "7  0.016904 -1.847030 -1.512440  0.006859\n",
       "8 -0.424660  1.165084  0.515016 -0.985898\n",
       "9  0.758633 -0.111397  0.275261 -0.603435"
      ]
     },
     "execution_count": 926,
     "metadata": {},
     "output_type": "execute_result"
    }
   ],
   "source": [
    "# Using the isin() method for filtering:\n",
    "df2 = df.copy()\n",
    "df2\n"
   ]
  },
  {
   "cell_type": "code",
   "execution_count": null,
   "metadata": {},
   "outputs": [],
   "source": []
  }
 ],
 "metadata": {
  "kernelspec": {
   "display_name": "Python 3",
   "language": "python",
   "name": "python3"
  },
  "language_info": {
   "codemirror_mode": {
    "name": "ipython",
    "version": 3
   },
   "file_extension": ".py",
   "mimetype": "text/x-python",
   "name": "python",
   "nbconvert_exporter": "python",
   "pygments_lexer": "ipython3",
   "version": "3.8.5"
  }
 },
 "nbformat": 4,
 "nbformat_minor": 4
}
